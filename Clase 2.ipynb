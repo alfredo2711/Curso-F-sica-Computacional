{
 "cells": [
  {
   "cell_type": "markdown",
   "id": "27de7446",
   "metadata": {},
   "source": [
    "### Listas, Tuplas, Diccionarios, Arrays"
   ]
  },
  {
   "cell_type": "markdown",
   "id": "a7eec9ae",
   "metadata": {},
   "source": [
    "Lista"
   ]
  },
  {
   "cell_type": "code",
   "execution_count": 1,
   "id": "f45be9b9",
   "metadata": {},
   "outputs": [],
   "source": [
    "x=[1,3,7,9]"
   ]
  },
  {
   "cell_type": "code",
   "execution_count": 2,
   "id": "b2239acb",
   "metadata": {},
   "outputs": [
    {
     "data": {
      "text/plain": [
       "[1, 3, 7, 9]"
      ]
     },
     "execution_count": 2,
     "metadata": {},
     "output_type": "execute_result"
    }
   ],
   "source": [
    "x"
   ]
  },
  {
   "cell_type": "code",
   "execution_count": 8,
   "id": "facd0dba",
   "metadata": {},
   "outputs": [
    {
     "data": {
      "text/plain": [
       "3"
      ]
     },
     "execution_count": 8,
     "metadata": {},
     "output_type": "execute_result"
    }
   ],
   "source": [
    "x[-3]"
   ]
  },
  {
   "cell_type": "code",
   "execution_count": 9,
   "id": "eb8930d6",
   "metadata": {},
   "outputs": [
    {
     "data": {
      "text/plain": [
       "4"
      ]
     },
     "execution_count": 9,
     "metadata": {},
     "output_type": "execute_result"
    }
   ],
   "source": [
    "len(x)"
   ]
  },
  {
   "cell_type": "code",
   "execution_count": 12,
   "id": "de42a2d9",
   "metadata": {},
   "outputs": [],
   "source": [
    "x=[1,3,5,6,'perro',[1,2]]"
   ]
  },
  {
   "cell_type": "code",
   "execution_count": 13,
   "id": "9e47916f",
   "metadata": {},
   "outputs": [
    {
     "data": {
      "text/plain": [
       "[1, 3, 5, 6, 'perro', [1, 2]]"
      ]
     },
     "execution_count": 13,
     "metadata": {},
     "output_type": "execute_result"
    }
   ],
   "source": [
    "x"
   ]
  },
  {
   "cell_type": "code",
   "execution_count": 14,
   "id": "fd302888",
   "metadata": {},
   "outputs": [
    {
     "data": {
      "text/plain": [
       "[1, 2]"
      ]
     },
     "execution_count": 14,
     "metadata": {},
     "output_type": "execute_result"
    }
   ],
   "source": [
    "x[-1]"
   ]
  },
  {
   "cell_type": "code",
   "execution_count": 15,
   "id": "4165183d",
   "metadata": {},
   "outputs": [
    {
     "data": {
      "text/plain": [
       "2"
      ]
     },
     "execution_count": 15,
     "metadata": {},
     "output_type": "execute_result"
    }
   ],
   "source": [
    "x[-1][-1]"
   ]
  },
  {
   "cell_type": "code",
   "execution_count": 16,
   "id": "458cebb9",
   "metadata": {},
   "outputs": [],
   "source": [
    "x.append(5)"
   ]
  },
  {
   "cell_type": "code",
   "execution_count": 17,
   "id": "eeb0da81",
   "metadata": {},
   "outputs": [
    {
     "data": {
      "text/plain": [
       "[1, 3, 5, 6, 'perro', [1, 2], 5]"
      ]
     },
     "execution_count": 17,
     "metadata": {},
     "output_type": "execute_result"
    }
   ],
   "source": [
    "x"
   ]
  },
  {
   "cell_type": "code",
   "execution_count": 18,
   "id": "7a1456cc",
   "metadata": {},
   "outputs": [],
   "source": [
    "y=['gato', 'vaca']"
   ]
  },
  {
   "cell_type": "code",
   "execution_count": 19,
   "id": "f13ca193",
   "metadata": {},
   "outputs": [],
   "source": [
    "z=x+y"
   ]
  },
  {
   "cell_type": "code",
   "execution_count": 20,
   "id": "56046762",
   "metadata": {},
   "outputs": [
    {
     "data": {
      "text/plain": [
       "[1, 3, 5, 6, 'perro', [1, 2], 5, 'gato', 'vaca']"
      ]
     },
     "execution_count": 20,
     "metadata": {},
     "output_type": "execute_result"
    }
   ],
   "source": [
    "z"
   ]
  },
  {
   "cell_type": "code",
   "execution_count": 21,
   "id": "4a9916cd",
   "metadata": {},
   "outputs": [],
   "source": [
    "z[0]=4"
   ]
  },
  {
   "cell_type": "code",
   "execution_count": 22,
   "id": "a4521801",
   "metadata": {},
   "outputs": [
    {
     "data": {
      "text/plain": [
       "[4, 3, 5, 6, 'perro', [1, 2], 5, 'gato', 'vaca']"
      ]
     },
     "execution_count": 22,
     "metadata": {},
     "output_type": "execute_result"
    }
   ],
   "source": [
    "z"
   ]
  },
  {
   "cell_type": "code",
   "execution_count": 23,
   "id": "b9419b30",
   "metadata": {},
   "outputs": [],
   "source": [
    "x=[1,2,3,4]"
   ]
  },
  {
   "cell_type": "code",
   "execution_count": 24,
   "id": "de0b7e6d",
   "metadata": {},
   "outputs": [
    {
     "data": {
      "text/plain": [
       "[1, 2, 3, 4, 1, 2, 3, 4]"
      ]
     },
     "execution_count": 24,
     "metadata": {},
     "output_type": "execute_result"
    }
   ],
   "source": [
    "x*2"
   ]
  },
  {
   "cell_type": "markdown",
   "id": "abb151b1",
   "metadata": {},
   "source": [
    "Tupla"
   ]
  },
  {
   "cell_type": "code",
   "execution_count": 29,
   "id": "97336d58",
   "metadata": {},
   "outputs": [],
   "source": [
    "x=(1,2,3,'perro',[1,2])"
   ]
  },
  {
   "cell_type": "code",
   "execution_count": 30,
   "id": "35594cac",
   "metadata": {},
   "outputs": [
    {
     "data": {
      "text/plain": [
       "[1, 2]"
      ]
     },
     "execution_count": 30,
     "metadata": {},
     "output_type": "execute_result"
    }
   ],
   "source": [
    "x[-1]"
   ]
  },
  {
   "cell_type": "code",
   "execution_count": 31,
   "id": "e2fc03cf",
   "metadata": {},
   "outputs": [
    {
     "ename": "TypeError",
     "evalue": "'tuple' object does not support item assignment",
     "output_type": "error",
     "traceback": [
      "\u001b[1;31m---------------------------------------------------------------------------\u001b[0m",
      "\u001b[1;31mTypeError\u001b[0m                                 Traceback (most recent call last)",
      "\u001b[1;32m~\\AppData\\Local\\Temp/ipykernel_3796/2016147546.py\u001b[0m in \u001b[0;36m<module>\u001b[1;34m\u001b[0m\n\u001b[1;32m----> 1\u001b[1;33m \u001b[0mx\u001b[0m\u001b[1;33m[\u001b[0m\u001b[1;36m0\u001b[0m\u001b[1;33m]\u001b[0m\u001b[1;33m=\u001b[0m\u001b[1;36m4\u001b[0m\u001b[1;33m\u001b[0m\u001b[1;33m\u001b[0m\u001b[0m\n\u001b[0m",
      "\u001b[1;31mTypeError\u001b[0m: 'tuple' object does not support item assignment"
     ]
    }
   ],
   "source": [
    "#La tupla es inalterable\n",
    "x[0]=4"
   ]
  },
  {
   "cell_type": "markdown",
   "id": "71801dd2",
   "metadata": {},
   "source": [
    "Diccionario"
   ]
  },
  {
   "cell_type": "code",
   "execution_count": 36,
   "id": "396d5480",
   "metadata": {},
   "outputs": [],
   "source": [
    "dic={'gato':'felino','pi':3.1416, 57896514:11}"
   ]
  },
  {
   "cell_type": "code",
   "execution_count": 37,
   "id": "883174c3",
   "metadata": {},
   "outputs": [
    {
     "data": {
      "text/plain": [
       "11"
      ]
     },
     "execution_count": 37,
     "metadata": {},
     "output_type": "execute_result"
    }
   ],
   "source": [
    "dic[57896514]"
   ]
  },
  {
   "cell_type": "markdown",
   "id": "8615a59e",
   "metadata": {},
   "source": [
    "Arrays (se debe importar el módulo numpy)"
   ]
  },
  {
   "cell_type": "code",
   "execution_count": 38,
   "id": "594ce367",
   "metadata": {},
   "outputs": [],
   "source": [
    "import numpy as np"
   ]
  },
  {
   "cell_type": "code",
   "execution_count": 39,
   "id": "41d2e13f",
   "metadata": {},
   "outputs": [],
   "source": [
    "x=np.array([1,5,8,6])"
   ]
  },
  {
   "cell_type": "code",
   "execution_count": 40,
   "id": "42c4def2",
   "metadata": {},
   "outputs": [
    {
     "data": {
      "text/plain": [
       "array([1, 5, 8, 6])"
      ]
     },
     "execution_count": 40,
     "metadata": {},
     "output_type": "execute_result"
    }
   ],
   "source": [
    "x"
   ]
  },
  {
   "cell_type": "code",
   "execution_count": 43,
   "id": "8332190c",
   "metadata": {},
   "outputs": [
    {
     "data": {
      "text/plain": [
       "array([ 0.54030231,  0.28366219, -0.14550003,  0.96017029])"
      ]
     },
     "execution_count": 43,
     "metadata": {},
     "output_type": "execute_result"
    }
   ],
   "source": [
    "np.cos(x)"
   ]
  },
  {
   "cell_type": "code",
   "execution_count": 48,
   "id": "e54d3263",
   "metadata": {},
   "outputs": [],
   "source": [
    "x=np.linspace(0,20,10)"
   ]
  },
  {
   "cell_type": "code",
   "execution_count": 49,
   "id": "c730dc02",
   "metadata": {},
   "outputs": [
    {
     "data": {
      "text/plain": [
       "array([ 0.        ,  2.22222222,  4.44444444,  6.66666667,  8.88888889,\n",
       "       11.11111111, 13.33333333, 15.55555556, 17.77777778, 20.        ])"
      ]
     },
     "execution_count": 49,
     "metadata": {},
     "output_type": "execute_result"
    }
   ],
   "source": [
    "x"
   ]
  },
  {
   "cell_type": "code",
   "execution_count": 54,
   "id": "839a9bf3",
   "metadata": {},
   "outputs": [],
   "source": [
    "x=np.arange(0,20,5)"
   ]
  },
  {
   "cell_type": "code",
   "execution_count": 55,
   "id": "ccacb75e",
   "metadata": {},
   "outputs": [
    {
     "data": {
      "text/plain": [
       "array([ 0,  5, 10, 15])"
      ]
     },
     "execution_count": 55,
     "metadata": {},
     "output_type": "execute_result"
    }
   ],
   "source": [
    "x"
   ]
  },
  {
   "cell_type": "code",
   "execution_count": 56,
   "id": "39943cb1",
   "metadata": {},
   "outputs": [
    {
     "name": "stderr",
     "output_type": "stream",
     "text": [
      "C:\\Users\\alfre\\AppData\\Local\\Temp/ipykernel_3796/1679196761.py:1: RuntimeWarning: divide by zero encountered in true_divide\n",
      "  1/x\n"
     ]
    },
    {
     "data": {
      "text/plain": [
       "array([       inf, 0.2       , 0.1       , 0.06666667])"
      ]
     },
     "execution_count": 56,
     "metadata": {},
     "output_type": "execute_result"
    }
   ],
   "source": [
    "1/x"
   ]
  },
  {
   "cell_type": "markdown",
   "id": "693ee4b9",
   "metadata": {},
   "source": [
    "## Gráficas"
   ]
  },
  {
   "cell_type": "code",
   "execution_count": 57,
   "id": "15c6201c",
   "metadata": {},
   "outputs": [],
   "source": [
    "import matplotlib.pyplot as plt"
   ]
  },
  {
   "cell_type": "code",
   "execution_count": 58,
   "id": "f6b78ec2",
   "metadata": {},
   "outputs": [],
   "source": [
    "x=np.linspace(0,1,10)"
   ]
  },
  {
   "cell_type": "code",
   "execution_count": 61,
   "id": "b07cee06",
   "metadata": {},
   "outputs": [
    {
     "data": {
      "text/plain": [
       "array([0.        , 0.11111111, 0.22222222, 0.33333333, 0.44444444,\n",
       "       0.55555556, 0.66666667, 0.77777778, 0.88888889, 1.        ])"
      ]
     },
     "execution_count": 61,
     "metadata": {},
     "output_type": "execute_result"
    }
   ],
   "source": [
    "x"
   ]
  },
  {
   "cell_type": "code",
   "execution_count": 59,
   "id": "01185f5a",
   "metadata": {},
   "outputs": [],
   "source": [
    "y=x**2"
   ]
  },
  {
   "cell_type": "code",
   "execution_count": 60,
   "id": "7b8be893",
   "metadata": {},
   "outputs": [
    {
     "data": {
      "text/plain": [
       "array([0.        , 0.01234568, 0.04938272, 0.11111111, 0.19753086,\n",
       "       0.30864198, 0.44444444, 0.60493827, 0.79012346, 1.        ])"
      ]
     },
     "execution_count": 60,
     "metadata": {},
     "output_type": "execute_result"
    }
   ],
   "source": [
    "y"
   ]
  },
  {
   "cell_type": "code",
   "execution_count": 62,
   "id": "52bdd725",
   "metadata": {},
   "outputs": [
    {
     "data": {
      "text/plain": [
       "[<matplotlib.lines.Line2D at 0x203a5512730>]"
      ]
     },
     "execution_count": 62,
     "metadata": {},
     "output_type": "execute_result"
    },
    {
     "data": {
      "image/png": "[encoded data removed]",
      "text/plain": [
       "<Figure size 432x288 with 1 Axes>"
      ]
     },
     "metadata": {
      "needs_background": "light"
     },
     "output_type": "display_data"
    }
   ],
   "source": [
    "plt.plot(x,y)"
   ]
  },
  {
   "cell_type": "code",
   "execution_count": 66,
   "id": "bfab1375",
   "metadata": {},
   "outputs": [
    {
     "data": {
      "image/png": "[encoded data removed]",
      "text/plain": [
       "<Figure size 432x288 with 1 Axes>"
      ]
     },
     "metadata": {
      "needs_background": "light"
     },
     "output_type": "display_data"
    }
   ],
   "source": [
    "plt.plot(x,y,'ro--')\n",
    "plt.xlabel('x', fontsize=15)\n",
    "plt.ylabel('y', fontsize=15)\n",
    "plt.grid()"
   ]
  },
  {
   "cell_type": "markdown",
   "id": "a87be17e",
   "metadata": {},
   "source": [
    "## Bucle for"
   ]
  },
  {
   "cell_type": "markdown",
   "id": "181e3ea0",
   "metadata": {},
   "source": [
    "Uso regular"
   ]
  },
  {
   "cell_type": "code",
   "execution_count": 70,
   "id": "5bc40357",
   "metadata": {},
   "outputs": [],
   "source": [
    "lista=[]\n",
    "for i in range(11):\n",
    "    lista.append(i)"
   ]
  },
  {
   "cell_type": "code",
   "execution_count": 71,
   "id": "85afffb8",
   "metadata": {},
   "outputs": [
    {
     "data": {
      "text/plain": [
       "[0, 1, 2, 3, 4, 5, 6, 7, 8, 9, 10]"
      ]
     },
     "execution_count": 71,
     "metadata": {},
     "output_type": "execute_result"
    }
   ],
   "source": [
    "lista"
   ]
  },
  {
   "cell_type": "code",
   "execution_count": 74,
   "id": "2ce6248c",
   "metadata": {},
   "outputs": [],
   "source": [
    "x=[0,1,2,3,4,5,6,7,8,9,10]"
   ]
  },
  {
   "cell_type": "code",
   "execution_count": 75,
   "id": "67220a00",
   "metadata": {},
   "outputs": [],
   "source": [
    "y=[]\n",
    "for i in range(11):\n",
    "    y.append(x[i]**2)"
   ]
  },
  {
   "cell_type": "code",
   "execution_count": 76,
   "id": "18c14cac",
   "metadata": {},
   "outputs": [
    {
     "data": {
      "text/plain": [
       "[0, 1, 4, 9, 16, 25, 36, 49, 64, 81, 100]"
      ]
     },
     "execution_count": 76,
     "metadata": {},
     "output_type": "execute_result"
    }
   ],
   "source": [
    "y"
   ]
  },
  {
   "cell_type": "code",
   "execution_count": 77,
   "id": "824a2218",
   "metadata": {},
   "outputs": [
    {
     "data": {
      "text/plain": [
       "[<matplotlib.lines.Line2D at 0x203a6956820>]"
      ]
     },
     "execution_count": 77,
     "metadata": {},
     "output_type": "execute_result"
    },
    {
     "data": {
      "image/png": "[encoded data removed]",
      "text/plain": [
       "<Figure size 432x288 with 1 Axes>"
      ]
     },
     "metadata": {
      "needs_background": "light"
     },
     "output_type": "display_data"
    }
   ],
   "source": [
    "plt.plot(x,y)"
   ]
  },
  {
   "cell_type": "code",
   "execution_count": 79,
   "id": "f365072f",
   "metadata": {},
   "outputs": [
    {
     "name": "stdout",
     "output_type": "stream",
     "text": [
      "perro\n",
      "gato\n",
      "vaca\n"
     ]
    }
   ],
   "source": [
    "lista=['perro','gato','vaca']\n",
    "for i in lista:\n",
    "    print(i)"
   ]
  },
  {
   "cell_type": "code",
   "execution_count": 81,
   "id": "7934ac9d",
   "metadata": {},
   "outputs": [
    {
     "name": "stdout",
     "output_type": "stream",
     "text": [
      "i=0 j=0\n",
      "i=0 j=1\n",
      "i=0 j=2\n",
      "i=0 j=3\n",
      "i=0 j=4\n",
      "i=1 j=0\n",
      "i=1 j=1\n",
      "i=1 j=2\n",
      "i=1 j=3\n",
      "i=1 j=4\n",
      "i=2 j=0\n",
      "i=2 j=1\n",
      "i=2 j=2\n",
      "i=2 j=3\n",
      "i=2 j=4\n",
      "i=3 j=0\n",
      "i=3 j=1\n",
      "i=3 j=2\n",
      "i=3 j=3\n",
      "i=3 j=4\n",
      "i=4 j=0\n",
      "i=4 j=1\n",
      "i=4 j=2\n",
      "i=4 j=3\n",
      "i=4 j=4\n"
     ]
    }
   ],
   "source": [
    "for i in range(5):\n",
    "    for j in range(5):\n",
    "        print('i={} j={}'.format(i,j))"
   ]
  },
  {
   "cell_type": "code",
   "execution_count": 85,
   "id": "19571aa4",
   "metadata": {},
   "outputs": [
    {
     "name": "stdout",
     "output_type": "stream",
     "text": [
      "el elemento0 contienerana\n",
      "el elemento1 contienegato\n",
      "el elemento2 contienecaballo\n"
     ]
    }
   ],
   "source": [
    "lista=['rana','gato','caballo']\n",
    "for i,item in enumerate(lista):\n",
    "    print('el elemento{} contiene{}'.format(i,item))"
   ]
  },
  {
   "cell_type": "markdown",
   "id": "5633d8ca",
   "metadata": {},
   "source": [
    "## boleanos y sentencia if"
   ]
  },
  {
   "cell_type": "code",
   "execution_count": 86,
   "id": "1a3477e4",
   "metadata": {},
   "outputs": [],
   "source": [
    "a=True\n",
    "b=False"
   ]
  },
  {
   "cell_type": "code",
   "execution_count": 88,
   "id": "b7eefb3a",
   "metadata": {},
   "outputs": [
    {
     "data": {
      "text/plain": [
       "True"
      ]
     },
     "execution_count": 88,
     "metadata": {},
     "output_type": "execute_result"
    }
   ],
   "source": [
    "a or b"
   ]
  },
  {
   "cell_type": "code",
   "execution_count": 89,
   "id": "62818473",
   "metadata": {},
   "outputs": [
    {
     "data": {
      "text/plain": [
       "False"
      ]
     },
     "execution_count": 89,
     "metadata": {},
     "output_type": "execute_result"
    }
   ],
   "source": [
    "a and b"
   ]
  },
  {
   "cell_type": "code",
   "execution_count": 90,
   "id": "9bd5ff46",
   "metadata": {},
   "outputs": [],
   "source": [
    "i=0"
   ]
  },
  {
   "cell_type": "code",
   "execution_count": 93,
   "id": "248be173",
   "metadata": {},
   "outputs": [
    {
     "data": {
      "text/plain": [
       "False"
      ]
     },
     "execution_count": 93,
     "metadata": {},
     "output_type": "execute_result"
    }
   ],
   "source": [
    "i==5"
   ]
  },
  {
   "cell_type": "code",
   "execution_count": 94,
   "id": "30c342e6",
   "metadata": {},
   "outputs": [
    {
     "data": {
      "text/plain": [
       "True"
      ]
     },
     "execution_count": 94,
     "metadata": {},
     "output_type": "execute_result"
    }
   ],
   "source": [
    "not(i==5)"
   ]
  },
  {
   "cell_type": "code",
   "execution_count": 95,
   "id": "a8eb516b",
   "metadata": {},
   "outputs": [
    {
     "data": {
      "text/plain": [
       "True"
      ]
     },
     "execution_count": 95,
     "metadata": {},
     "output_type": "execute_result"
    }
   ],
   "source": [
    "i!=5"
   ]
  },
  {
   "cell_type": "code",
   "execution_count": 96,
   "id": "4ec42dbe",
   "metadata": {},
   "outputs": [
    {
     "name": "stdout",
     "output_type": "stream",
     "text": [
      "incorrecto\n"
     ]
    }
   ],
   "source": [
    "if i==8:\n",
    "    print('correcto')\n",
    "else:\n",
    "    print('incorrecto')"
   ]
  },
  {
   "cell_type": "code",
   "execution_count": 97,
   "id": "4986fc9a",
   "metadata": {},
   "outputs": [],
   "source": [
    "i=0\n",
    "j=4"
   ]
  },
  {
   "cell_type": "code",
   "execution_count": 98,
   "id": "3a671d1c",
   "metadata": {},
   "outputs": [
    {
     "name": "stdout",
     "output_type": "stream",
     "text": [
      "correcto\n"
     ]
    }
   ],
   "source": [
    "if i==0 or j==3:\n",
    "    print('correcto')"
   ]
  },
  {
   "cell_type": "code",
   "execution_count": 101,
   "id": "5994291d",
   "metadata": {},
   "outputs": [
    {
     "name": "stdout",
     "output_type": "stream",
     "text": [
      "incorrecto\n"
     ]
    }
   ],
   "source": [
    "if 'pe' in 'gato':\n",
    "    print('correcto')\n",
    "else:\n",
    "    print('incorrecto')"
   ]
  },
  {
   "cell_type": "code",
   "execution_count": 105,
   "id": "17db0ad2",
   "metadata": {},
   "outputs": [
    {
     "name": "stdout",
     "output_type": "stream",
     "text": [
      "la segunda condición es cierta\n"
     ]
    }
   ],
   "source": [
    "if 'pe' in 'gato':\n",
    "    print('correcto')\n",
    "elif 'to' in 'gato':\n",
    "    print('la segunda condición es cierta')"
   ]
  },
  {
   "cell_type": "code",
   "execution_count": null,
   "id": "0bc7d467",
   "metadata": {},
   "outputs": [],
   "source": []
  },
  {
   "cell_type": "code",
   "execution_count": null,
   "id": "411e6f6f",
   "metadata": {},
   "outputs": [],
   "source": []
  },
  {
   "cell_type": "markdown",
   "id": "c50ed7ce",
   "metadata": {},
   "source": [
    "# Problemas"
   ]
  },
  {
   "cell_type": "markdown",
   "id": "90e7ef78",
   "metadata": {},
   "source": [
    "### Problema 1\n",
    "La ecuación para la altura de una pelota en caída libre es $y = -1/2 g t^2 + v_0 t$ donde\n",
    "\n",
    "* $t$ es tiempo\n",
    "* $y$ es altura\n",
    "* $v_0$ es la velocidad inicial\n",
    "* $g$ es la gravedad\n",
    "\n",
    "Julio lanza una pelota a 10m/s y Marcos lanza otra pelota a 15m/s hacia arriba. Grafique la altura de las pelotas como función del tiempo desde 0 to 2 segundos"
   ]
  },
  {
   "cell_type": "markdown",
   "id": "a7a337b3",
   "metadata": {},
   "source": [
    "### Problema 2:\n",
    "\n",
    "El siguiente poema está organizado de tal forma que cada línea del poema es un elemento de la lista llamada poem\n",
    "\n",
    "`poem=['when day comes we ask ourselves,',\n",
    "    'where can we find light in this never-ending shade?',\n",
    "    'the loss we carry,',\n",
    "    'a sea we must wade',\n",
    "    \"we've braved the belly of the beast\",\n",
    "    \"we've learned that quiet isn't always peace\",\n",
    "    \"and the norms and notions\",\n",
    "    \"of what just is\"]`\n",
    "    \n",
    "Busque entre todas las líneas del poema y si una línea contiene los carácteres `'we'`, entonces imprima `'la línea __ contiene we'` donde `'__'` es el número de línea."
   ]
  },
  {
   "cell_type": "markdown",
   "id": "d26b56e4",
   "metadata": {},
   "source": [
    "### Problema 3\n",
    "a) Sume todos los números del 1 al 100\n",
    "\n",
    "b) Sume todos los números del 1 al 100, excepto por aquellos que sean divisibles por 4 \n",
    "\n",
    "c) Sume todos los números del 1 al 100, excepto por aquellos que sean divisibles por 4 y divisibles por 6"
   ]
  },
  {
   "cell_type": "markdown",
   "id": "4c5e12c1",
   "metadata": {},
   "source": [
    "### Problema 4\n",
    "\n",
    "Escriba un programa que muestre la tabla de multiplicar de un número dado"
   ]
  },
  {
   "cell_type": "markdown",
   "id": "244e4168",
   "metadata": {},
   "source": [
    "### Problema 5\n",
    "\n",
    "Muestre la serie de Fibonacci hasta 10 términos\n",
    "\n",
    "La secuencia de Fibonacci es una serie de números. El siguiente número en la serie se encuentra sumando los dos números anteriores. Los primeros dos números son 0 y 1\n",
    "\n",
    "Por ejemplo, 0, 1, 1, 2, 3, 5, 8, 13, 21. El siguiente número en esta serie es 13+21 = 34."
   ]
  },
  {
   "cell_type": "markdown",
   "id": "3e134f7e",
   "metadata": {},
   "source": [
    "### Problema 6\n",
    "Encuentre el factorial de un número\n",
    "Escriba un programa usando un bucle for para encontrar el factorial de un número\n",
    "El factorial de un número entero positivo se define como el producto de todos los números naturales anteriores o iguales a él."
   ]
  },
  {
   "cell_type": "code",
   "execution_count": null,
   "id": "6f238a1e",
   "metadata": {},
   "outputs": [],
   "source": []
  }
 ],
 "metadata": {
  "kernelspec": {
   "display_name": "Python 3 (ipykernel)",
   "language": "python",
   "name": "python3"
  },
  "language_info": {
   "codemirror_mode": {
    "name": "ipython",
    "version": 3
   },
   "file_extension": ".py",
   "mimetype": "text/x-python",
   "name": "python",
   "nbconvert_exporter": "python",
   "pygments_lexer": "ipython3",
   "version": "3.9.7"
  }
 },
 "nbformat": 4,
 "nbformat_minor": 5
}
