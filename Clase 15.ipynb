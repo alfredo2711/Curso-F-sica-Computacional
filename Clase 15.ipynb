{
 "cells": [
  {
   "cell_type": "markdown",
   "id": "80bab75d",
   "metadata": {},
   "source": [
    "# Integración por MonteCarlo (Continuación)"
   ]
  },
  {
   "cell_type": "code",
   "execution_count": 1,
   "id": "b6c2d38d",
   "metadata": {},
   "outputs": [],
   "source": [
    "import numpy as np\n",
    "import matplotlib.pyplot as plt"
   ]
  },
  {
   "cell_type": "markdown",
   "id": "884c9170",
   "metadata": {},
   "source": [
    "Vamos a integrar la función $f(x)=sin(x)$ entre 0 y $\\pi$ usando MonteCarlo"
   ]
  },
  {
   "cell_type": "code",
   "execution_count": 32,
   "id": "6dc228d6",
   "metadata": {},
   "outputs": [],
   "source": [
    "#definimos los límites de integración\n",
    "a=0\n",
    "b=np.pi\n",
    "N=1000"
   ]
  },
  {
   "cell_type": "code",
   "execution_count": 33,
   "id": "55280fd6",
   "metadata": {},
   "outputs": [],
   "source": [
    "xrand=np.zeros(N)\n",
    "for i in range(N):\n",
    "    xrand[i]=np.random.uniform(a,b)\n",
    "    \n",
    "def función(x):\n",
    "    return np.sin(x)\n",
    "\n",
    "suma=0\n",
    "\n",
    "for i in range(N):\n",
    "    suma+=función(xrand[i])"
   ]
  },
  {
   "cell_type": "code",
   "execution_count": 34,
   "id": "6937a529",
   "metadata": {},
   "outputs": [
    {
     "data": {
      "text/plain": [
       "619.0464861117356"
      ]
     },
     "execution_count": 34,
     "metadata": {},
     "output_type": "execute_result"
    }
   ],
   "source": [
    "suma"
   ]
  },
  {
   "cell_type": "code",
   "execution_count": 35,
   "id": "16f1bf36",
   "metadata": {},
   "outputs": [],
   "source": [
    "integral=(b-a)*suma/N"
   ]
  },
  {
   "cell_type": "code",
   "execution_count": 36,
   "id": "f0fb6122",
   "metadata": {},
   "outputs": [
    {
     "data": {
      "text/plain": [
       "1.9447918929992045"
      ]
     },
     "execution_count": 36,
     "metadata": {},
     "output_type": "execute_result"
    }
   ],
   "source": [
    "integral"
   ]
  },
  {
   "cell_type": "code",
   "execution_count": 39,
   "id": "104c8db8",
   "metadata": {},
   "outputs": [],
   "source": [
    "áreas=[]\n",
    "for i in range(5000):\n",
    "    xrand=np.zeros(N)\n",
    "    for i in range(N):\n",
    "        xrand[i]=np.random.uniform(a,b)\n",
    "        suma=0\n",
    "    for i in range(N):\n",
    "        suma+=función(xrand[i])\n",
    "    integral=(b-a)*suma/N\n",
    "    áreas.append(integral)"
   ]
  },
  {
   "cell_type": "code",
   "execution_count": 19,
   "id": "47f39cee",
   "metadata": {},
   "outputs": [
    {
     "data": {
      "image/png": "[encoded data removed]",
      "text/plain": [
       "<Figure size 432x288 with 1 Axes>"
      ]
     },
     "metadata": {
      "needs_background": "light"
     },
     "output_type": "display_data"
    }
   ],
   "source": [
    "plt.hist(áreas, bins=20)\n",
    "plt.show()"
   ]
  },
  {
   "cell_type": "code",
   "execution_count": 22,
   "id": "b37d748b",
   "metadata": {},
   "outputs": [
    {
     "data": {
      "text/plain": [
       "2.0005549373997917"
      ]
     },
     "execution_count": 22,
     "metadata": {},
     "output_type": "execute_result"
    }
   ],
   "source": [
    "np.mean(áreas)"
   ]
  },
  {
   "cell_type": "code",
   "execution_count": 23,
   "id": "c48c6178",
   "metadata": {},
   "outputs": [
    {
     "data": {
      "text/plain": [
       "0.030215042117256816"
      ]
     },
     "execution_count": 23,
     "metadata": {},
     "output_type": "execute_result"
    }
   ],
   "source": [
    "#desviación considerando 1000 puntos para sacar el promedio y 1000 tiradas\n",
    "np.std(áreas)"
   ]
  },
  {
   "cell_type": "code",
   "execution_count": 31,
   "id": "2d9a2dc4",
   "metadata": {},
   "outputs": [
    {
     "data": {
      "text/plain": [
       "0.009405126515945036"
      ]
     },
     "execution_count": 31,
     "metadata": {},
     "output_type": "execute_result"
    }
   ],
   "source": [
    "#desviación considerando 10000 puntos para sacar el promedio y 1000 tiradas\n",
    "np.std(áreas)"
   ]
  },
  {
   "cell_type": "code",
   "execution_count": 40,
   "id": "d865479f",
   "metadata": {},
   "outputs": [
    {
     "data": {
      "text/plain": [
       "0.03048741068185725"
      ]
     },
     "execution_count": 40,
     "metadata": {},
     "output_type": "execute_result"
    }
   ],
   "source": [
    "#desviación considerando 1000 puntos para sacar el promedio y 5000 tiradas\n",
    "np.std(áreas)"
   ]
  },
  {
   "cell_type": "markdown",
   "id": "af15e5c8",
   "metadata": {},
   "source": [
    "# Scipy"
   ]
  },
  {
   "cell_type": "markdown",
   "id": "8464c964",
   "metadata": {},
   "source": [
    "## Integración numérica"
   ]
  },
  {
   "cell_type": "code",
   "execution_count": 41,
   "id": "1ad756b8",
   "metadata": {},
   "outputs": [],
   "source": [
    "from scipy import integrate"
   ]
  },
  {
   "cell_type": "markdown",
   "id": "00cfc24c",
   "metadata": {},
   "source": [
    "Integraremos la siguiente función $f(x)=e^{-x^{2}}$ de 0 a  5"
   ]
  },
  {
   "cell_type": "code",
   "execution_count": 42,
   "id": "8b696a04",
   "metadata": {},
   "outputs": [],
   "source": [
    "def f(x):\n",
    "    return np.exp(-x**2)"
   ]
  },
  {
   "cell_type": "code",
   "execution_count": 43,
   "id": "0c267542",
   "metadata": {},
   "outputs": [
    {
     "data": {
      "text/plain": [
       "(0.8862269254513955, 2.3183115139669666e-14)"
      ]
     },
     "execution_count": 43,
     "metadata": {},
     "output_type": "execute_result"
    }
   ],
   "source": [
    "integrate.quad(f, 0, 5)"
   ]
  },
  {
   "cell_type": "markdown",
   "id": "c2e44287",
   "metadata": {},
   "source": [
    "Integraremos la siguiente función $f(x)=Ae^{-Bx^{2}}$ de 0 a  5"
   ]
  },
  {
   "cell_type": "code",
   "execution_count": 45,
   "id": "2caa9c27",
   "metadata": {},
   "outputs": [],
   "source": [
    "def f(x, A, B):\n",
    "    return A*np.exp(-B*x**2)"
   ]
  },
  {
   "cell_type": "code",
   "execution_count": 46,
   "id": "117ee6cd",
   "metadata": {},
   "outputs": [
    {
     "data": {
      "text/plain": [
       "(0.8862269254513955, 2.3183115139669666e-14)"
      ]
     },
     "execution_count": 46,
     "metadata": {},
     "output_type": "execute_result"
    }
   ],
   "source": [
    "integrate.quad(f, 0, 5, args=(1.0, 1.0))"
   ]
  },
  {
   "cell_type": "markdown",
   "id": "23de36cc",
   "metadata": {},
   "source": [
    "## Ecuaciones diferenciales ordinarias (ODE)"
   ]
  },
  {
   "cell_type": "code",
   "execution_count": null,
   "id": "2365e9ba",
   "metadata": {},
   "outputs": [],
   "source": []
  }
 ],
 "metadata": {
  "kernelspec": {
   "display_name": "Python 3 (ipykernel)",
   "language": "python",
   "name": "python3"
  },
  "language_info": {
   "codemirror_mode": {
    "name": "ipython",
    "version": 3
   },
   "file_extension": ".py",
   "mimetype": "text/x-python",
   "name": "python",
   "nbconvert_exporter": "python",
   "pygments_lexer": "ipython3",
   "version": "3.9.7"
  }
 },
 "nbformat": 4,
 "nbformat_minor": 5
}
