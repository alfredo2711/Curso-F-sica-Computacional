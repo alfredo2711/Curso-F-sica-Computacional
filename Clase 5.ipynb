{
 "cells": [
  {
   "cell_type": "markdown",
   "id": "db56740e",
   "metadata": {},
   "source": [
    "# Numpy (continuación)"
   ]
  },
  {
   "cell_type": "code",
   "execution_count": 1,
   "id": "0c256dde",
   "metadata": {},
   "outputs": [],
   "source": [
    "import numpy as np"
   ]
  },
  {
   "cell_type": "markdown",
   "id": "b960ee56",
   "metadata": {},
   "source": [
    "## Funciones de comparación"
   ]
  },
  {
   "cell_type": "code",
   "execution_count": 2,
   "id": "b7b03315",
   "metadata": {},
   "outputs": [],
   "source": [
    "a=np.arange(0,6,1)"
   ]
  },
  {
   "cell_type": "code",
   "execution_count": 3,
   "id": "b685fd94",
   "metadata": {},
   "outputs": [
    {
     "data": {
      "text/plain": [
       "array([0, 1, 2, 3, 4, 5])"
      ]
     },
     "execution_count": 3,
     "metadata": {},
     "output_type": "execute_result"
    }
   ],
   "source": [
    "a"
   ]
  },
  {
   "cell_type": "code",
   "execution_count": 4,
   "id": "1fa32e4b",
   "metadata": {},
   "outputs": [],
   "source": [
    "b=np.ones(6)"
   ]
  },
  {
   "cell_type": "code",
   "execution_count": 5,
   "id": "79559458",
   "metadata": {},
   "outputs": [
    {
     "data": {
      "text/plain": [
       "array([1., 1., 1., 1., 1., 1.])"
      ]
     },
     "execution_count": 5,
     "metadata": {},
     "output_type": "execute_result"
    }
   ],
   "source": [
    "b"
   ]
  },
  {
   "cell_type": "code",
   "execution_count": 6,
   "id": "26a0376a",
   "metadata": {},
   "outputs": [
    {
     "data": {
      "text/plain": [
       "array([ True, False, False, False, False, False])"
      ]
     },
     "execution_count": 6,
     "metadata": {},
     "output_type": "execute_result"
    }
   ],
   "source": [
    "a<b"
   ]
  },
  {
   "cell_type": "code",
   "execution_count": 7,
   "id": "f225d6f4",
   "metadata": {},
   "outputs": [
    {
     "data": {
      "text/plain": [
       "True"
      ]
     },
     "execution_count": 7,
     "metadata": {},
     "output_type": "execute_result"
    }
   ],
   "source": [
    "np.any(a<b)"
   ]
  },
  {
   "cell_type": "code",
   "execution_count": 8,
   "id": "a10c4d97",
   "metadata": {},
   "outputs": [
    {
     "data": {
      "text/plain": [
       "False"
      ]
     },
     "execution_count": 8,
     "metadata": {},
     "output_type": "execute_result"
    }
   ],
   "source": [
    "np.all(a<b)"
   ]
  },
  {
   "cell_type": "code",
   "execution_count": 9,
   "id": "04d078cd",
   "metadata": {},
   "outputs": [
    {
     "data": {
      "text/plain": [
       "array([False, False, False, False,  True,  True])"
      ]
     },
     "execution_count": 9,
     "metadata": {},
     "output_type": "execute_result"
    }
   ],
   "source": [
    "a>3"
   ]
  },
  {
   "cell_type": "code",
   "execution_count": 10,
   "id": "501afd6a",
   "metadata": {},
   "outputs": [
    {
     "data": {
      "text/plain": [
       "array([4, 5])"
      ]
     },
     "execution_count": 10,
     "metadata": {},
     "output_type": "execute_result"
    }
   ],
   "source": [
    "a[a>3]"
   ]
  },
  {
   "cell_type": "code",
   "execution_count": 11,
   "id": "2507086c",
   "metadata": {},
   "outputs": [
    {
     "data": {
      "text/plain": [
       "array([0, 1, 2, 3, 4])"
      ]
     },
     "execution_count": 11,
     "metadata": {},
     "output_type": "execute_result"
    }
   ],
   "source": [
    "a[a<5]"
   ]
  },
  {
   "cell_type": "code",
   "execution_count": 12,
   "id": "805df17d",
   "metadata": {},
   "outputs": [
    {
     "data": {
      "text/plain": [
       "array([False, False, False, False,  True,  True])"
      ]
     },
     "execution_count": 12,
     "metadata": {},
     "output_type": "execute_result"
    }
   ],
   "source": [
    "a>3"
   ]
  },
  {
   "cell_type": "code",
   "execution_count": 13,
   "id": "f534c760",
   "metadata": {},
   "outputs": [
    {
     "data": {
      "text/plain": [
       "array([ True,  True,  True,  True,  True, False])"
      ]
     },
     "execution_count": 13,
     "metadata": {},
     "output_type": "execute_result"
    }
   ],
   "source": [
    "a<5"
   ]
  },
  {
   "cell_type": "code",
   "execution_count": 14,
   "id": "21a5457e",
   "metadata": {},
   "outputs": [
    {
     "data": {
      "text/plain": [
       "array([False, False, False, False,  True, False])"
      ]
     },
     "execution_count": 14,
     "metadata": {},
     "output_type": "execute_result"
    }
   ],
   "source": [
    "(a>3)*(a<5)"
   ]
  },
  {
   "cell_type": "code",
   "execution_count": 15,
   "id": "42ad7fc0",
   "metadata": {},
   "outputs": [
    {
     "data": {
      "text/plain": [
       "array([4])"
      ]
     },
     "execution_count": 15,
     "metadata": {},
     "output_type": "execute_result"
    }
   ],
   "source": [
    "a[(a>3)*(a<5)]"
   ]
  },
  {
   "cell_type": "code",
   "execution_count": 16,
   "id": "e08bc120",
   "metadata": {},
   "outputs": [
    {
     "data": {
      "text/plain": [
       "array([2, 3, 4])"
      ]
     },
     "execution_count": 16,
     "metadata": {},
     "output_type": "execute_result"
    }
   ],
   "source": [
    "a[(a>1)*(a<5)]"
   ]
  },
  {
   "cell_type": "code",
   "execution_count": 19,
   "id": "fc9c54aa",
   "metadata": {},
   "outputs": [
    {
     "data": {
      "text/plain": [
       "array([0, 1, 2, 3, 4, 5])"
      ]
     },
     "execution_count": 19,
     "metadata": {},
     "output_type": "execute_result"
    }
   ],
   "source": [
    "a"
   ]
  },
  {
   "cell_type": "code",
   "execution_count": 18,
   "id": "aabc4b87",
   "metadata": {},
   "outputs": [
    {
     "data": {
      "text/plain": [
       "array([0, 1, 2, 3, 0, 1], dtype=int32)"
      ]
     },
     "execution_count": 18,
     "metadata": {},
     "output_type": "execute_result"
    }
   ],
   "source": [
    "#Elementos divisibles por 4 en el array a\n",
    "a%4"
   ]
  },
  {
   "cell_type": "code",
   "execution_count": 20,
   "id": "f1659b73",
   "metadata": {},
   "outputs": [
    {
     "data": {
      "text/plain": [
       "array([ True, False, False, False,  True, False])"
      ]
     },
     "execution_count": 20,
     "metadata": {},
     "output_type": "execute_result"
    }
   ],
   "source": [
    "a%4==0"
   ]
  },
  {
   "cell_type": "code",
   "execution_count": 21,
   "id": "8da75de5",
   "metadata": {},
   "outputs": [
    {
     "data": {
      "text/plain": [
       "array([0, 4])"
      ]
     },
     "execution_count": 21,
     "metadata": {},
     "output_type": "execute_result"
    }
   ],
   "source": [
    "a[a%4==0]"
   ]
  },
  {
   "cell_type": "code",
   "execution_count": 22,
   "id": "37c5406f",
   "metadata": {},
   "outputs": [
    {
     "data": {
      "text/plain": [
       "array([1, 2, 3, 5])"
      ]
     },
     "execution_count": 22,
     "metadata": {},
     "output_type": "execute_result"
    }
   ],
   "source": [
    "a[a%4!=0]"
   ]
  },
  {
   "cell_type": "markdown",
   "id": "74c12eb2",
   "metadata": {},
   "source": [
    "## Ventaja de numpy vs bucle for"
   ]
  },
  {
   "cell_type": "code",
   "execution_count": 23,
   "id": "2df5d856",
   "metadata": {},
   "outputs": [],
   "source": [
    "# Calcular la suma del 0 al 100"
   ]
  },
  {
   "cell_type": "code",
   "execution_count": 36,
   "id": "b2b4b343",
   "metadata": {},
   "outputs": [
    {
     "name": "stdout",
     "output_type": "stream",
     "text": [
      "5.13 ms ± 97.1 µs per loop (mean ± std. dev. of 7 runs, 100 loops each)\n"
     ]
    }
   ],
   "source": [
    "%%timeit\n",
    "suma=0\n",
    "for i in range(100001):\n",
    "    suma=suma+i"
   ]
  },
  {
   "cell_type": "code",
   "execution_count": 25,
   "id": "47c8031e",
   "metadata": {},
   "outputs": [
    {
     "data": {
      "text/plain": [
       "5050"
      ]
     },
     "execution_count": 25,
     "metadata": {},
     "output_type": "execute_result"
    }
   ],
   "source": [
    "suma"
   ]
  },
  {
   "cell_type": "code",
   "execution_count": 37,
   "id": "893c96a5",
   "metadata": {},
   "outputs": [
    {
     "name": "stdout",
     "output_type": "stream",
     "text": [
      "83.6 µs ± 324 ns per loop (mean ± std. dev. of 7 runs, 10000 loops each)\n"
     ]
    }
   ],
   "source": [
    "%%timeit\n",
    "a=np.arange(0,100001,1)\n",
    "a.sum()"
   ]
  },
  {
   "cell_type": "markdown",
   "id": "8270ea09",
   "metadata": {},
   "source": [
    "## Ejemplo"
   ]
  },
  {
   "cell_type": "markdown",
   "id": "3aa995d2",
   "metadata": {},
   "source": [
    "a) Sume todos los elementos del 0 al 100\n",
    "\n",
    "b) Sume todos los elementos del 0 al 100 excepto los divisibles por 4\n",
    "\n",
    "c) Sume todos los elementos del 0 al 100 excepto los divisibles por 4 y por 6"
   ]
  },
  {
   "cell_type": "code",
   "execution_count": 39,
   "id": "2c1c09c1",
   "metadata": {},
   "outputs": [
    {
     "data": {
      "text/plain": [
       "5050"
      ]
     },
     "execution_count": 39,
     "metadata": {},
     "output_type": "execute_result"
    }
   ],
   "source": [
    "#a)\n",
    "a=np.arange(0,101,1)\n",
    "a.sum()"
   ]
  },
  {
   "cell_type": "code",
   "execution_count": 41,
   "id": "7766d8cf",
   "metadata": {},
   "outputs": [
    {
     "data": {
      "text/plain": [
       "3750"
      ]
     },
     "execution_count": 41,
     "metadata": {},
     "output_type": "execute_result"
    }
   ],
   "source": [
    "#b)\n",
    "a[a%4!=0].sum()"
   ]
  },
  {
   "cell_type": "code",
   "execution_count": 44,
   "id": "f62a0b5f",
   "metadata": {},
   "outputs": [
    {
     "data": {
      "text/plain": [
       "3366"
      ]
     },
     "execution_count": 44,
     "metadata": {},
     "output_type": "execute_result"
    }
   ],
   "source": [
    "#c)\n",
    "a[(a%4!=0)*(a%6!=0)].sum()"
   ]
  },
  {
   "cell_type": "markdown",
   "id": "f23ff519",
   "metadata": {},
   "source": [
    "## Estadística básica (promedio, desviación estándar y percentil)"
   ]
  },
  {
   "cell_type": "code",
   "execution_count": 45,
   "id": "3bb687cf",
   "metadata": {},
   "outputs": [],
   "source": [
    "a1=np.random.randn(10000)"
   ]
  },
  {
   "cell_type": "code",
   "execution_count": 47,
   "id": "3c819fc9",
   "metadata": {},
   "outputs": [],
   "source": [
    "import matplotlib.pyplot as plt"
   ]
  },
  {
   "cell_type": "code",
   "execution_count": 48,
   "id": "113f5806",
   "metadata": {},
   "outputs": [
    {
     "data": {
      "text/plain": [
       "(array([   4.,   65.,  410., 1344., 2566., 2838., 1853.,  716.,  188.,\n",
       "          16.]),\n",
       " array([-3.92204252, -3.17257372, -2.42310492, -1.67363612, -0.92416732,\n",
       "        -0.17469852,  0.57477027,  1.32423907,  2.07370787,  2.82317667,\n",
       "         3.57264547]),\n",
       " <BarContainer object of 10 artists>)"
      ]
     },
     "execution_count": 48,
     "metadata": {},
     "output_type": "execute_result"
    },
    {
     "data": {
      "image/png": "[encoded data removed]",
      "text/plain": [
       "<Figure size 432x288 with 1 Axes>"
      ]
     },
     "metadata": {
      "needs_background": "light"
     },
     "output_type": "display_data"
    }
   ],
   "source": [
    "plt.hist(a1)"
   ]
  },
  {
   "cell_type": "code",
   "execution_count": 46,
   "id": "ddddf711",
   "metadata": {},
   "outputs": [
    {
     "data": {
      "text/plain": [
       "-0.01648354013275748"
      ]
     },
     "execution_count": 46,
     "metadata": {},
     "output_type": "execute_result"
    }
   ],
   "source": [
    "np.mean(a1)"
   ]
  },
  {
   "cell_type": "code",
   "execution_count": 49,
   "id": "42fd89f4",
   "metadata": {},
   "outputs": [
    {
     "data": {
      "text/plain": [
       "1.0001450227801032"
      ]
     },
     "execution_count": 49,
     "metadata": {},
     "output_type": "execute_result"
    }
   ],
   "source": [
    "np.std(a1)"
   ]
  },
  {
   "cell_type": "code",
   "execution_count": 50,
   "id": "cd81cb8f",
   "metadata": {
    "scrolled": true
   },
   "outputs": [
    {
     "data": {
      "text/plain": [
       "-0.02304250539745218"
      ]
     },
     "execution_count": 50,
     "metadata": {},
     "output_type": "execute_result"
    }
   ],
   "source": [
    "#¿Cuál es el valor por debajo del cual se encuentra el 50% de los datos \n",
    "np.percentile(a1, 50)"
   ]
  },
  {
   "cell_type": "code",
   "execution_count": 51,
   "id": "2c32d7cc",
   "metadata": {},
   "outputs": [
    {
     "data": {
      "text/plain": [
       "0.8257608182010521"
      ]
     },
     "execution_count": 51,
     "metadata": {},
     "output_type": "execute_result"
    }
   ],
   "source": [
    "np.percentile(a1, 80)"
   ]
  },
  {
   "cell_type": "code",
   "execution_count": 52,
   "id": "2a76e758",
   "metadata": {},
   "outputs": [
    {
     "data": {
      "text/plain": [
       "3.572645467968024"
      ]
     },
     "execution_count": 52,
     "metadata": {},
     "output_type": "execute_result"
    }
   ],
   "source": [
    "np.percentile(a1, 100)"
   ]
  },
  {
   "cell_type": "code",
   "execution_count": 53,
   "id": "dab817c1",
   "metadata": {},
   "outputs": [
    {
     "data": {
      "text/plain": [
       "-3.922042515065528"
      ]
     },
     "execution_count": 53,
     "metadata": {},
     "output_type": "execute_result"
    }
   ],
   "source": [
    "np.percentile(a1, 0)"
   ]
  },
  {
   "cell_type": "code",
   "execution_count": 63,
   "id": "ad4a6c17",
   "metadata": {},
   "outputs": [],
   "source": [
    "a2=8*np.random.randn(10000)+10"
   ]
  },
  {
   "cell_type": "code",
   "execution_count": 64,
   "id": "dc424922",
   "metadata": {},
   "outputs": [
    {
     "data": {
      "text/plain": [
       "(array([4.000e+00, 7.200e+01, 5.090e+02, 1.739e+03, 3.002e+03, 2.805e+03,\n",
       "        1.434e+03, 3.770e+02, 5.500e+01, 3.000e+00]),\n",
       " array([-21.97668915, -15.46478577,  -8.9528824 ,  -2.44097903,\n",
       "          4.07092435,  10.58282772,  17.0947311 ,  23.60663447,\n",
       "         30.11853785,  36.63044122,  43.1423446 ]),\n",
       " <BarContainer object of 10 artists>)"
      ]
     },
     "execution_count": 64,
     "metadata": {},
     "output_type": "execute_result"
    },
    {
     "data": {
      "image/png": "[encoded data removed]",
      "text/plain": [
       "<Figure size 432x288 with 1 Axes>"
      ]
     },
     "metadata": {
      "needs_background": "light"
     },
     "output_type": "display_data"
    }
   ],
   "source": [
    "plt.hist(a2)"
   ]
  },
  {
   "cell_type": "code",
   "execution_count": 65,
   "id": "951183a0",
   "metadata": {},
   "outputs": [
    {
     "data": {
      "text/plain": [
       "7.978826256843452"
      ]
     },
     "execution_count": 65,
     "metadata": {},
     "output_type": "execute_result"
    }
   ],
   "source": [
    "np.std(a2)"
   ]
  },
  {
   "cell_type": "markdown",
   "id": "abbb3678",
   "metadata": {},
   "source": [
    "# Cálculo"
   ]
  },
  {
   "cell_type": "markdown",
   "id": "cd0caa8d",
   "metadata": {},
   "source": [
    "Derivadas"
   ]
  },
  {
   "cell_type": "markdown",
   "id": "1cb0988c",
   "metadata": {},
   "source": [
    "$$ y=\\frac{sin(x)}{x^2} $$"
   ]
  },
  {
   "cell_type": "code",
   "execution_count": 75,
   "id": "937693e1",
   "metadata": {},
   "outputs": [],
   "source": [
    "x=np.linspace(1,10,100)\n",
    "#y=(np.sin(x))/(np.power(x,2))\n",
    "y=(np.sin(x))/(x**2)\n",
    "dx=x[2]-x[1]\n",
    "#dx=np.diff[0]\n",
    "dydx=np.zeros(len(y)-1)\n",
    "for i in range(len(dydx)):\n",
    "    dydx[i]=(y[i+1]-y[i])/dx"
   ]
  },
  {
   "cell_type": "code",
   "execution_count": 80,
   "id": "a8a3b085",
   "metadata": {},
   "outputs": [
    {
     "data": {
      "text/plain": [
       "<matplotlib.legend.Legend at 0x21139f00a30>"
      ]
     },
     "execution_count": 80,
     "metadata": {},
     "output_type": "execute_result"
    },
    {
     "data": {
      "image/png": "[encoded data removed]",
      "text/plain": [
       "<Figure size 432x288 with 1 Axes>"
      ]
     },
     "metadata": {
      "needs_background": "light"
     },
     "output_type": "display_data"
    }
   ],
   "source": [
    "plt.plot(x,y,'r', label='f(x)')\n",
    "plt.plot(x[0:-1],dydx,'b', label='derivada')\n",
    "plt.legend()"
   ]
  },
  {
   "cell_type": "code",
   "execution_count": 81,
   "id": "46e01e79",
   "metadata": {},
   "outputs": [],
   "source": [
    "dydx_numpy=np.gradient(y,x)"
   ]
  },
  {
   "cell_type": "code",
   "execution_count": 82,
   "id": "3c877f87",
   "metadata": {},
   "outputs": [
    {
     "data": {
      "text/plain": [
       "<matplotlib.legend.Legend at 0x21139b74580>"
      ]
     },
     "execution_count": 82,
     "metadata": {},
     "output_type": "execute_result"
    },
    {
     "data": {
      "image/png": "[encoded data removed]",
      "text/plain": [
       "<Figure size 432x288 with 1 Axes>"
      ]
     },
     "metadata": {
      "needs_background": "light"
     },
     "output_type": "display_data"
    }
   ],
   "source": [
    "plt.plot(x,y,'r', label='f(x)')\n",
    "plt.plot(x[0:-1],dydx,'b', label='derivada')\n",
    "plt.plot(x,dydx_numpy,'g', label='derivada con numpy')\n",
    "plt.legend()"
   ]
  },
  {
   "cell_type": "code",
   "execution_count": 83,
   "id": "4ad4c622",
   "metadata": {},
   "outputs": [
    {
     "name": "stdout",
     "output_type": "stream",
     "text": [
      "Using matplotlib backend: Qt5Agg\n"
     ]
    }
   ],
   "source": [
    "%matplotlib"
   ]
  },
  {
   "cell_type": "code",
   "execution_count": 84,
   "id": "4bd259f7",
   "metadata": {},
   "outputs": [
    {
     "data": {
      "text/plain": [
       "<matplotlib.legend.Legend at 0x2113ca9adf0>"
      ]
     },
     "execution_count": 84,
     "metadata": {},
     "output_type": "execute_result"
    }
   ],
   "source": [
    "plt.plot(x,y,'r', label='f(x)')\n",
    "plt.plot(x[0:-1],dydx,'b', label='derivada')\n",
    "plt.plot(x,dydx_numpy,'g', label='derivada con numpy')\n",
    "plt.legend()"
   ]
  },
  {
   "cell_type": "code",
   "execution_count": 85,
   "id": "59b6735a",
   "metadata": {},
   "outputs": [],
   "source": [
    "%matplotlib inline"
   ]
  },
  {
   "cell_type": "code",
   "execution_count": 86,
   "id": "7d27613f",
   "metadata": {},
   "outputs": [
    {
     "data": {
      "text/plain": [
       "<matplotlib.legend.Legend at 0x2113ccee100>"
      ]
     },
     "execution_count": 86,
     "metadata": {},
     "output_type": "execute_result"
    },
    {
     "data": {
      "image/png": "[encoded data removed]",
      "text/plain": [
       "<Figure size 432x288 with 1 Axes>"
      ]
     },
     "metadata": {
      "needs_background": "light"
     },
     "output_type": "display_data"
    }
   ],
   "source": [
    "plt.plot(x,y,'r', label='f(x)')\n",
    "plt.plot(x[0:-1],dydx,'b', label='derivada')\n",
    "plt.plot(x,dydx_numpy,'g', label='derivada con numpy')\n",
    "plt.legend()"
   ]
  },
  {
   "cell_type": "code",
   "execution_count": null,
   "id": "409a93e9",
   "metadata": {},
   "outputs": [],
   "source": []
  }
 ],
 "metadata": {
  "kernelspec": {
   "display_name": "Python 3 (ipykernel)",
   "language": "python",
   "name": "python3"
  },
  "language_info": {
   "codemirror_mode": {
    "name": "ipython",
    "version": 3
   },
   "file_extension": ".py",
   "mimetype": "text/x-python",
   "name": "python",
   "nbconvert_exporter": "python",
   "pygments_lexer": "ipython3",
   "version": "3.9.7"
  }
 },
 "nbformat": 4,
 "nbformat_minor": 5
}
