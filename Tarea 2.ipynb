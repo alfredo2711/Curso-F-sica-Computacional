{
 "cells": [
  {
   "cell_type": "markdown",
   "id": "2ca5ec85",
   "metadata": {},
   "source": [
    "# Tarea 2\n",
    "## Física computacional\n",
    "### Profesor: Alfredo Campos\n",
    "### Fecha de entrega: 11/04/2022\n",
    "### Estudiante:\n",
    "### Identificación"
   ]
  },
  {
   "cell_type": "markdown",
   "id": "3cb821fc",
   "metadata": {},
   "source": [
    "## Problema 1\n",
    "\n",
    "a) Escriba las ecuaciones de posición, velocidad y aceleración de un objeto en caída libre. Use formato Látex.\n",
    "\n",
    "b) Crear una figura que contenga tres gráficos uno al lado del otro. Estos gráficos deben mostrar la posición, la velocidad y la aceleración de un objeto en caída libre como función del tiempo. Usted es libre de elegir los parámetros del problema.\n",
    "\n",
    "c) Realizar la integral de la velocidad y mostrar que coincide con el gráfico de la posición\n",
    "\n",
    "d) Realizar la derivada de la velocidad y mostrar que coincide con la aceleración"
   ]
  },
  {
   "cell_type": "markdown",
   "id": "07cd1962",
   "metadata": {},
   "source": [
    "## Problema 2\n",
    "En el archivo temperature.csv (ubicado en Teams), \n",
    "\n",
    "a) Suavice el gráfico de temperatura máxima vs días y aplique la derivada. Al final grafique la data bruta, la data suavizada y la derivada.\n",
    "\n",
    "b) Los días 2013/02/21 y 2013/05/18 son incorrectos debido a un daño en el sensor. Estos días deben eliminarse. Hacer los gráficos de temperatura máxima vs días y temperatura mínima vs días sin tomar en cuenta la data en esos dos días."
   ]
  },
  {
   "cell_type": "markdown",
   "id": "bac2b102",
   "metadata": {},
   "source": [
    "## Problema 3\n",
    "\n",
    "Sea $f(x,y) = x^{2} + y^{2}$ para $-10 \\leq x \\leq 10$ y $-10 \\leq y \\leq 10$. Utilice 100 puntos para el rango en $x$ y 100 para el rango en $y$\n",
    "\n",
    "1. Haga un gráfico de contorno de $f$\n",
    "2. Trace el perfil del gráfico para $y$=5\n",
    "3. Encuentre el volumen bajo la curva de $|f(x,y)|$ en el rango  $-5 \\leq x \\leq 5$ y $-7 \\leq y \\leq 7$. (Nota: No defina nuevas variables de x y y. Debe usar indexación)\n",
    "4. Encuentre el volumen bajo la curva de $|f(x,y)|$ solo en el rango donde $x^2+y^2>1$\n",
    "5. Haga un gráfico 3D y genere una animación donde se rote la función desde 0° hasta 60 ° de ángulo azimutal y que cada frame equivale a una rotación de 2°. Esta animación coloquela en el notebook. Nota: Es libre de elegir los frames per second, lo importante es que el movimiento se vea continuo.  "
   ]
  },
  {
   "cell_type": "markdown",
   "id": "08c7e7bb",
   "metadata": {},
   "source": [
    "## Problema 4\n",
    "Los niveles de energía para una partícula cuántica (ejemplo el electrón) en una caja tridimensional de dimensiones ($L_{1}$, $L_{2}$, y $L_{3}$) están dados por:\n",
    "\n",
    "$E_{n1, n2, n3}=\\frac{\\hbar^2\\pi^2}{2m}[\\frac{n_{1}^2}{L_{1}^2}+\\frac{n_{2}^2}{L_{2}^2}+\\frac{n_{3}^2}{L_{3}^2}]$\n",
    "\n",
    "\n",
    "donde $n$ son números enteros mayores o iguales a uno. Escriba un programa que calcule y muestre, en orden creciente de energía, los valores de n para los 10 primeros valores de energía dada una caja de dimensión $L_{2}=2L_{1}$ y $L_{3}=4L_{1}$"
   ]
  },
  {
   "cell_type": "markdown",
   "id": "d13b0fa1",
   "metadata": {},
   "source": [
    "## Problema 5 \n",
    "La distribución de Fermi-Dirac describe la probabilidad de encontrar una partícula cuántica con espín semientero (1/2, 3/2,...) en un estado de energía $E$\n",
    "\n",
    "$f_{FD}=\\frac{1}{e^{(E-\\mu)/kT} + 1}$\n",
    "\n",
    "La energía de Fermi ($\\mu$) se quiere ajustar de tal forma que la probabilidad total para encontrar la partícula sea uno\n",
    "$ \\int_{E_{min}}^{E_{max}} f_{FD} \\,dE=1 $\n",
    "\n",
    "Tome en cuenta que el sistema cuántico está a temperatura ambiente ($kT\\approx\\frac{1}{40}  eV$) y que la energía del sistema está restringida al rango entre $0$ y $2 eV$. ¿Cuál es el valor de la energía de Fermi? "
   ]
  }
 ],
 "metadata": {
  "kernelspec": {
   "display_name": "Python 3 (ipykernel)",
   "language": "python",
   "name": "python3"
  },
  "language_info": {
   "codemirror_mode": {
    "name": "ipython",
    "version": 3
   },
   "file_extension": ".py",
   "mimetype": "text/x-python",
   "name": "python",
   "nbconvert_exporter": "python",
   "pygments_lexer": "ipython3",
   "version": "3.9.7"
  }
 },
 "nbformat": 4,
 "nbformat_minor": 5
}
