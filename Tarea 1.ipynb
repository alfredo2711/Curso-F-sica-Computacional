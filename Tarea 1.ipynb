{
 "cells": [
  {
   "cell_type": "markdown",
   "id": "4b40965d",
   "metadata": {},
   "source": [
    "# Tarea 1\n",
    "## Física computacional\n",
    "### Profesor: Alfredo Campos\n",
    "### Fecha de entrega: 11/04/2022\n",
    "### Estudiante:\n",
    "### Identificación"
   ]
  },
  {
   "cell_type": "markdown",
   "id": "de02005e",
   "metadata": {},
   "source": [
    "## Problema 1"
   ]
  },
  {
   "cell_type": "markdown",
   "id": "51c1ec19",
   "metadata": {},
   "source": [
    "1. Crear un array 4x5 lleno de ceros de tipo entero.\n",
    "2. Crear un array 3x4 lleno de ceros salvo la primera fila que serán todos unos.\n",
    "3. Crear un array 3x4 lleno de ceros salvo la última fila que será el rango entre 5 y 8."
   ]
  },
  {
   "cell_type": "code",
   "execution_count": 2,
   "id": "d9a454cf",
   "metadata": {},
   "outputs": [],
   "source": [
    "import numpy as np"
   ]
  },
  {
   "cell_type": "code",
   "execution_count": 6,
   "id": "ea1e431f",
   "metadata": {},
   "outputs": [
    {
     "data": {
      "text/plain": [
       "array([[0, 0, 0, 0, 0],\n",
       "       [0, 0, 0, 0, 0],\n",
       "       [0, 0, 0, 0, 0],\n",
       "       [0, 0, 0, 0, 0]])"
      ]
     },
     "execution_count": 6,
     "metadata": {},
     "output_type": "execute_result"
    }
   ],
   "source": [
    "#1\n",
    "a=np.zeros((4,5), dtype=int)\n",
    "a"
   ]
  },
  {
   "cell_type": "code",
   "execution_count": 7,
   "id": "8954044a",
   "metadata": {},
   "outputs": [],
   "source": [
    "#2\n",
    "b=np.zeros((3,4), dtype=int)"
   ]
  },
  {
   "cell_type": "code",
   "execution_count": 9,
   "id": "4e5fd8e5",
   "metadata": {},
   "outputs": [],
   "source": [
    "b[0]=1"
   ]
  },
  {
   "cell_type": "code",
   "execution_count": 10,
   "id": "1a1d0445",
   "metadata": {},
   "outputs": [
    {
     "data": {
      "text/plain": [
       "array([[1, 1, 1, 1],\n",
       "       [0, 0, 0, 0],\n",
       "       [0, 0, 0, 0]])"
      ]
     },
     "execution_count": 10,
     "metadata": {},
     "output_type": "execute_result"
    }
   ],
   "source": [
    "b"
   ]
  },
  {
   "cell_type": "code",
   "execution_count": 15,
   "id": "aaf5089e",
   "metadata": {},
   "outputs": [
    {
     "data": {
      "text/plain": [
       "array([[0, 0, 0, 0],\n",
       "       [0, 0, 0, 0],\n",
       "       [0, 0, 0, 0]])"
      ]
     },
     "execution_count": 15,
     "metadata": {},
     "output_type": "execute_result"
    }
   ],
   "source": [
    "#3\n",
    "c=np.zeros((3,4), dtype=int)\n",
    "c"
   ]
  },
  {
   "cell_type": "code",
   "execution_count": 16,
   "id": "184bdccc",
   "metadata": {},
   "outputs": [],
   "source": [
    "c[2,:]=5,6,7,8"
   ]
  },
  {
   "cell_type": "code",
   "execution_count": 17,
   "id": "9a650ebd",
   "metadata": {},
   "outputs": [
    {
     "data": {
      "text/plain": [
       "array([[0, 0, 0, 0],\n",
       "       [0, 0, 0, 0],\n",
       "       [5, 6, 7, 8]])"
      ]
     },
     "execution_count": 17,
     "metadata": {},
     "output_type": "execute_result"
    }
   ],
   "source": [
    "c"
   ]
  },
  {
   "cell_type": "markdown",
   "id": "20e92dcd",
   "metadata": {},
   "source": [
    "## Problema 2"
   ]
  },
  {
   "cell_type": "markdown",
   "id": "719cbf4e",
   "metadata": {},
   "source": [
    "1. Crea una matriz aleatoria 5x5 y halla los valores mínimo y máximo.\n",
    "2. Normaliza esa matriz entre 0 y 1."
   ]
  },
  {
   "cell_type": "code",
   "execution_count": 19,
   "id": "2bb38f3c",
   "metadata": {},
   "outputs": [
    {
     "data": {
      "text/plain": [
       "array([[0.90788635, 0.4870791 , 0.982777  , 0.97295265, 0.37408129],\n",
       "       [0.52702975, 0.31823958, 0.75230595, 0.84923985, 0.32443211],\n",
       "       [0.83500647, 0.58243736, 0.57664544, 0.2585281 , 0.51404659],\n",
       "       [0.98081528, 0.43583416, 0.8267285 , 0.88836685, 0.51211144],\n",
       "       [0.33833409, 0.98892565, 0.8396871 , 0.05097021, 0.20446337]])"
      ]
     },
     "execution_count": 19,
     "metadata": {},
     "output_type": "execute_result"
    }
   ],
   "source": [
    "d=np.random.random((5,5))\n",
    "d"
   ]
  },
  {
   "cell_type": "code",
   "execution_count": 20,
   "id": "e41c769c",
   "metadata": {},
   "outputs": [],
   "source": [
    "e=d-d.min()"
   ]
  },
  {
   "cell_type": "code",
   "execution_count": 21,
   "id": "c56b4f7a",
   "metadata": {},
   "outputs": [
    {
     "data": {
      "text/plain": [
       "array([[0.85691615, 0.43610889, 0.93180679, 0.92198245, 0.32311108],\n",
       "       [0.47605954, 0.26726937, 0.70133574, 0.79826965, 0.2734619 ],\n",
       "       [0.78403627, 0.53146715, 0.52567523, 0.2075579 , 0.46307638],\n",
       "       [0.92984508, 0.38486396, 0.7757583 , 0.83739665, 0.46114123],\n",
       "       [0.28736389, 0.93795544, 0.7887169 , 0.        , 0.15349317]])"
      ]
     },
     "execution_count": 21,
     "metadata": {},
     "output_type": "execute_result"
    }
   ],
   "source": [
    "e"
   ]
  },
  {
   "cell_type": "code",
   "execution_count": 22,
   "id": "e01f7236",
   "metadata": {},
   "outputs": [
    {
     "data": {
      "text/plain": [
       "array([[0.91360006, 0.46495694, 0.99344462, 0.98297041, 0.34448447],\n",
       "       [0.50755028, 0.2849489 , 0.74772821, 0.85107417, 0.29155106],\n",
       "       [0.83589927, 0.56662303, 0.56044798, 0.22128759, 0.49370829],\n",
       "       [0.99135314, 0.41032222, 0.82707372, 0.89278937, 0.49164514],\n",
       "       [0.30637264, 1.        , 0.84088951, 0.        , 0.16364654]])"
      ]
     },
     "execution_count": 22,
     "metadata": {},
     "output_type": "execute_result"
    }
   ],
   "source": [
    "f=e/e.max()\n",
    "f"
   ]
  },
  {
   "cell_type": "markdown",
   "id": "3cfe984a",
   "metadata": {},
   "source": [
    "## Problema 3 "
   ]
  },
  {
   "cell_type": "markdown",
   "id": "42e5c7dd",
   "metadata": {},
   "source": [
    "Escriba una función que calcule los 10 primeros números triangulares. Un número triangular con cuenta objetos dispuestos en un triángulo equilátero. El n-ésimo número triangular es el número de puntos en la disposición triangular con n puntos en un lado, y es igual a la suma de los n números naturales de 1 a n, siendo por convención, el 1 el primer número triangular. Ver wikipedia"
   ]
  },
  {
   "cell_type": "markdown",
   "id": "27515734",
   "metadata": {},
   "source": [
    "https://en.wikipedia.org/wiki/Triangular_number"
   ]
  },
  {
   "cell_type": "markdown",
   "id": "823916cb",
   "metadata": {},
   "source": [
    "## Problema 4"
   ]
  },
  {
   "cell_type": "markdown",
   "id": "fdc4e214",
   "metadata": {},
   "source": [
    "a) Usando un bucle for, resuelva y grafique la integral de la siguiente función $$ y=\\frac{sin(x)}{x^2} $$\n",
    "b) Compare su resultado con la integral obtenida en clase usando la función cumsum"
   ]
  },
  {
   "cell_type": "code",
   "execution_count": 23,
   "id": "a3f74f32",
   "metadata": {},
   "outputs": [],
   "source": [
    "import matplotlib.pyplot as plt"
   ]
  },
  {
   "cell_type": "code",
   "execution_count": 24,
   "id": "a42cbfec",
   "metadata": {},
   "outputs": [],
   "source": [
    "#a\n",
    "x=np.linspace(1,10,100)\n",
    "y=(np.sin(x))/(x**2)"
   ]
  },
  {
   "cell_type": "code",
   "execution_count": 26,
   "id": "67fa9c7e",
   "metadata": {},
   "outputs": [],
   "source": [
    "y_bucle=np.zeros(len(y))\n",
    "s=0\n",
    "for i in range(len(y)):\n",
    "    s=s+y[i]\n",
    "    y_bucle[i]=s"
   ]
  },
  {
   "cell_type": "code",
   "execution_count": 29,
   "id": "8f865bb4",
   "metadata": {},
   "outputs": [],
   "source": [
    "int_bucle=y_bucle*(x[1]-x[0])"
   ]
  },
  {
   "cell_type": "code",
   "execution_count": 30,
   "id": "f95bc4f1",
   "metadata": {},
   "outputs": [
    {
     "data": {
      "text/plain": [
       "[<matplotlib.lines.Line2D at 0x2b826a36ca0>]"
      ]
     },
     "execution_count": 30,
     "metadata": {},
     "output_type": "execute_result"
    },
    {
     "data": {
      "image/png": "[encoded data removed]",
      "text/plain": [
       "<Figure size 432x288 with 1 Axes>"
      ]
     },
     "metadata": {
      "needs_background": "light"
     },
     "output_type": "display_data"
    }
   ],
   "source": [
    "plt.plot(x,y_bucle)"
   ]
  },
  {
   "cell_type": "code",
   "execution_count": 31,
   "id": "e1227b93",
   "metadata": {},
   "outputs": [],
   "source": [
    "#b\n",
    "int_cumsum=y.cumsum()*(x[1]-x[0])"
   ]
  },
  {
   "cell_type": "code",
   "execution_count": 32,
   "id": "45904590",
   "metadata": {},
   "outputs": [
    {
     "data": {
      "text/plain": [
       "<matplotlib.legend.Legend at 0x2b826a638e0>"
      ]
     },
     "execution_count": 32,
     "metadata": {},
     "output_type": "execute_result"
    },
    {
     "data": {
      "image/png": "[encoded data removed]",
      "text/plain": [
       "<Figure size 432x288 with 1 Axes>"
      ]
     },
     "metadata": {
      "needs_background": "light"
     },
     "output_type": "display_data"
    }
   ],
   "source": [
    "plt.plot(x, int_bucle,'ro', label='integral con bucle')\n",
    "plt.plot(x, int_cumsum,'b', label='integral con cumsum')\n",
    "plt.legend()"
   ]
  },
  {
   "cell_type": "markdown",
   "id": "b8b7bca3",
   "metadata": {},
   "source": [
    "## Problema 5"
   ]
  },
  {
   "cell_type": "markdown",
   "id": "0b6a5be8",
   "metadata": {},
   "source": [
    "Si $y=e^{-x/10} \\cos(x)$. Considere 10000 intervalos $x$ en el rango $[0,10]$\n",
    "\n",
    "1. Grafique $y$ vs. $x$ en el rango $[0, 10]$. \n",
    "2. Calcule el promedio y la desviación estandar de $y$ para $x$ en el rango $[3,8]$ \n",
    "3. Para $x$ en el rango $[3,8]$, encuentre el valor $y_0$ tal que 70% de los valores de $y$ están en $y_0$\n",
    "4. Grafique $dy/dx$ vs $x$\n",
    "5. En el rango de $x$ $[4,8]$, encuentre las posiciones en $x$ donde $dy/dx=0$ \n",
    "6. Calcule y grafique la integral de la función\n",
    "7. Colocar las curvas de $y$, su derivada y su integral en una sola gráfica"
   ]
  },
  {
   "cell_type": "code",
   "execution_count": 35,
   "id": "f75c6e0a",
   "metadata": {},
   "outputs": [],
   "source": [
    "#1\n",
    "x=np.linspace(0,10,10000)\n",
    "y=np.exp(-x/10)*np.cos(x)"
   ]
  },
  {
   "cell_type": "code",
   "execution_count": 36,
   "id": "7580748f",
   "metadata": {},
   "outputs": [
    {
     "data": {
      "text/plain": [
       "[<matplotlib.lines.Line2D at 0x2b8272b39d0>]"
      ]
     },
     "execution_count": 36,
     "metadata": {},
     "output_type": "execute_result"
    },
    {
     "data": {
      "image/png": "[encoded data removed]",
      "text/plain": [
       "<Figure size 432x288 with 1 Axes>"
      ]
     },
     "metadata": {
      "needs_background": "light"
     },
     "output_type": "display_data"
    }
   ],
   "source": [
    "plt.plot(x,y)"
   ]
  },
  {
   "cell_type": "code",
   "execution_count": 38,
   "id": "17140a59",
   "metadata": {},
   "outputs": [
    {
     "data": {
      "text/plain": [
       "0.054060406641438"
      ]
     },
     "execution_count": 38,
     "metadata": {},
     "output_type": "execute_result"
    }
   ],
   "source": [
    "#2\n",
    "np.mean(y[(x>=3)*(x<=8)])"
   ]
  },
  {
   "cell_type": "code",
   "execution_count": 39,
   "id": "c31935df",
   "metadata": {},
   "outputs": [
    {
     "data": {
      "text/plain": [
       "0.4228691599607995"
      ]
     },
     "execution_count": 39,
     "metadata": {},
     "output_type": "execute_result"
    }
   ],
   "source": [
    "np.std(y[(x>=3)*(x<=8)])"
   ]
  },
  {
   "cell_type": "code",
   "execution_count": 41,
   "id": "017723ae",
   "metadata": {},
   "outputs": [
    {
     "data": {
      "text/plain": [
       "0.3910329066076333"
      ]
     },
     "execution_count": 41,
     "metadata": {},
     "output_type": "execute_result"
    }
   ],
   "source": [
    "#3\n",
    "np.percentile(y[(x>=3)*(x<=8)],70)"
   ]
  },
  {
   "cell_type": "code",
   "execution_count": 44,
   "id": "3edcbb9e",
   "metadata": {},
   "outputs": [],
   "source": [
    "#4\n",
    "dydx=np.gradient(y,x)"
   ]
  },
  {
   "cell_type": "code",
   "execution_count": 45,
   "id": "800b6837",
   "metadata": {},
   "outputs": [
    {
     "data": {
      "text/plain": [
       "[<matplotlib.lines.Line2D at 0x2b8273f22b0>]"
      ]
     },
     "execution_count": 45,
     "metadata": {},
     "output_type": "execute_result"
    },
    {
     "data": {
      "image/png": "[encoded data removed]",
      "text/plain": [
       "<Figure size 432x288 with 1 Axes>"
      ]
     },
     "metadata": {
      "needs_background": "light"
     },
     "output_type": "display_data"
    }
   ],
   "source": [
    "plt.plot(x,dydx)"
   ]
  },
  {
   "cell_type": "code",
   "execution_count": 50,
   "id": "52719ae9",
   "metadata": {},
   "outputs": [
    {
     "data": {
      "text/plain": [
       "array([3.04230423, 6.18361836, 9.32593259])"
      ]
     },
     "execution_count": 50,
     "metadata": {},
     "output_type": "execute_result"
    }
   ],
   "source": [
    "#5\n",
    "x[1:][dydx[1:] * dydx[:-1] < 0]"
   ]
  },
  {
   "cell_type": "code",
   "execution_count": null,
   "id": "1a2886f3",
   "metadata": {},
   "outputs": [],
   "source": []
  }
 ],
 "metadata": {
  "kernelspec": {
   "display_name": "Python 3 (ipykernel)",
   "language": "python",
   "name": "python3"
  },
  "language_info": {
   "codemirror_mode": {
    "name": "ipython",
    "version": 3
   },
   "file_extension": ".py",
   "mimetype": "text/x-python",
   "name": "python",
   "nbconvert_exporter": "python",
   "pygments_lexer": "ipython3",
   "version": "3.9.7"
  }
 },
 "nbformat": 4,
 "nbformat_minor": 5
}
