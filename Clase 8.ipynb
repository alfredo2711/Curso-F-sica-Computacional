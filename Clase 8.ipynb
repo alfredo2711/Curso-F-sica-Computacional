{
 "cells": [
  {
   "cell_type": "markdown",
   "id": "8fb18e21",
   "metadata": {},
   "source": [
    "# Numpy (conntinuación)"
   ]
  },
  {
   "cell_type": "code",
   "execution_count": 1,
   "id": "1d9caa48",
   "metadata": {},
   "outputs": [],
   "source": [
    "import numpy as np"
   ]
  },
  {
   "cell_type": "code",
   "execution_count": 2,
   "id": "9886666d",
   "metadata": {},
   "outputs": [],
   "source": [
    "import matplotlib.pyplot as plt"
   ]
  },
  {
   "cell_type": "markdown",
   "id": "0a63d747",
   "metadata": {},
   "source": [
    "##  Valores y vectores propios"
   ]
  },
  {
   "cell_type": "code",
   "execution_count": 6,
   "id": "027832a2",
   "metadata": {},
   "outputs": [],
   "source": [
    "M=np.array([[1,2,3],\n",
    "           [0,1,0],\n",
    "           [3,0,2]])"
   ]
  },
  {
   "cell_type": "code",
   "execution_count": 7,
   "id": "d3c2b575",
   "metadata": {},
   "outputs": [
    {
     "data": {
      "text/plain": [
       "array([[1, 2, 3],\n",
       "       [0, 1, 0],\n",
       "       [3, 0, 2]])"
      ]
     },
     "execution_count": 7,
     "metadata": {},
     "output_type": "execute_result"
    }
   ],
   "source": [
    "M"
   ]
  },
  {
   "cell_type": "code",
   "execution_count": 8,
   "id": "3ae79260",
   "metadata": {},
   "outputs": [
    {
     "data": {
      "text/plain": [
       "(array([-1.54138127,  4.54138127,  1.        ]),\n",
       " array([[-0.76301998, -0.6463749 ,  0.18181818],\n",
       "        [ 0.        ,  0.        ,  0.81818182],\n",
       "        [ 0.6463749 , -0.76301998, -0.54545455]]))"
      ]
     },
     "execution_count": 8,
     "metadata": {},
     "output_type": "execute_result"
    }
   ],
   "source": [
    "np.linalg.eig(M)"
   ]
  },
  {
   "cell_type": "code",
   "execution_count": 9,
   "id": "1279f0e1",
   "metadata": {},
   "outputs": [],
   "source": [
    "val, vec = np.linalg.eig(M)"
   ]
  },
  {
   "cell_type": "code",
   "execution_count": 10,
   "id": "b9ec55b4",
   "metadata": {},
   "outputs": [
    {
     "data": {
      "text/plain": [
       "array([-1.54138127,  4.54138127,  1.        ])"
      ]
     },
     "execution_count": 10,
     "metadata": {},
     "output_type": "execute_result"
    }
   ],
   "source": [
    "val"
   ]
  },
  {
   "cell_type": "code",
   "execution_count": 11,
   "id": "a1de3ba0",
   "metadata": {},
   "outputs": [
    {
     "data": {
      "text/plain": [
       "array([[-0.76301998, -0.6463749 ,  0.18181818],\n",
       "       [ 0.        ,  0.        ,  0.81818182],\n",
       "       [ 0.6463749 , -0.76301998, -0.54545455]])"
      ]
     },
     "execution_count": 11,
     "metadata": {},
     "output_type": "execute_result"
    }
   ],
   "source": [
    "vec"
   ]
  },
  {
   "cell_type": "code",
   "execution_count": 12,
   "id": "9ce43081",
   "metadata": {},
   "outputs": [],
   "source": [
    "# Los vectores propios son las columnas y no las filas"
   ]
  },
  {
   "cell_type": "code",
   "execution_count": 13,
   "id": "ff9b26d9",
   "metadata": {},
   "outputs": [],
   "source": [
    "vec_T=vec.T"
   ]
  },
  {
   "cell_type": "code",
   "execution_count": 14,
   "id": "ab8f89c0",
   "metadata": {},
   "outputs": [
    {
     "data": {
      "text/plain": [
       "array([[-0.76301998,  0.        ,  0.6463749 ],\n",
       "       [-0.6463749 ,  0.        , -0.76301998],\n",
       "       [ 0.18181818,  0.81818182, -0.54545455]])"
      ]
     },
     "execution_count": 14,
     "metadata": {},
     "output_type": "execute_result"
    }
   ],
   "source": [
    "vec_T"
   ]
  },
  {
   "cell_type": "code",
   "execution_count": 24,
   "id": "16bb8360",
   "metadata": {},
   "outputs": [
    {
     "data": {
      "text/plain": [
       "array([ 0.18181818,  0.81818182, -0.54545455])"
      ]
     },
     "execution_count": 24,
     "metadata": {},
     "output_type": "execute_result"
    }
   ],
   "source": [
    "M@vec_T[2]"
   ]
  },
  {
   "cell_type": "code",
   "execution_count": 26,
   "id": "0f4e88db",
   "metadata": {},
   "outputs": [
    {
     "data": {
      "text/plain": [
       "array([ 0.18181818,  0.81818182, -0.54545455])"
      ]
     },
     "execution_count": 26,
     "metadata": {},
     "output_type": "execute_result"
    }
   ],
   "source": [
    "val[2]*vec_T[2]"
   ]
  },
  {
   "cell_type": "markdown",
   "id": "73f2241d",
   "metadata": {},
   "source": [
    "## Ejemplo\n",
    "Un campo eléctrico está dado por $\\vec{E}(z,t) = E_0 \\cos (z-t) \\hat{i} + 2E_0 \\cos(z-t+\\pi/2) \\hat{j}$. \n",
    "\n",
    "1. Encuentre el campo magnético para todo $z en \\in [0,4\\pi]$ y $t \\in [0,10]$ usando $c\\vec{B}(z,t) = \\hat{k} \\times \\vec{E}(z,t)$\n",
    "2. Encuentre el vector de Poynting $\\vec{S} = \\vec{E} \\times \\vec{B}$ para todo $z$ y $t$"
   ]
  },
  {
   "cell_type": "code",
   "execution_count": 28,
   "id": "c9bf8362",
   "metadata": {},
   "outputs": [],
   "source": [
    "#Asumiento E0=1 N/C"
   ]
  },
  {
   "cell_type": "code",
   "execution_count": 29,
   "id": "d0d62065",
   "metadata": {},
   "outputs": [],
   "source": [
    "z=np.linspace(0, 4*np.pi, 100)\n",
    "t=np.linspace(0,10,100)"
   ]
  },
  {
   "cell_type": "code",
   "execution_count": 30,
   "id": "7f3ce78d",
   "metadata": {},
   "outputs": [],
   "source": [
    "tt, zz = np.meshgrid(t, z)"
   ]
  },
  {
   "cell_type": "code",
   "execution_count": 31,
   "id": "dfa1b079",
   "metadata": {},
   "outputs": [],
   "source": [
    "Ex = np.cos(zz-tt)\n",
    "Ey=2*np.cos(zz-tt+np.pi/2)"
   ]
  },
  {
   "cell_type": "code",
   "execution_count": 33,
   "id": "a7675c7a",
   "metadata": {},
   "outputs": [
    {
     "data": {
      "text/plain": [
       "<matplotlib.colorbar.Colorbar at 0x197662ffeb0>"
      ]
     },
     "execution_count": 33,
     "metadata": {},
     "output_type": "execute_result"
    },
    {
     "data": {
      "image/png": "[encoded data removed]",
      "text/plain": [
       "<Figure size 432x288 with 2 Axes>"
      ]
     },
     "metadata": {
      "needs_background": "light"
     },
     "output_type": "display_data"
    }
   ],
   "source": [
    "plt.contourf(zz, tt, Ex, levels=100)\n",
    "plt.colorbar()"
   ]
  },
  {
   "cell_type": "code",
   "execution_count": 35,
   "id": "2e94d097",
   "metadata": {},
   "outputs": [
    {
     "data": {
      "text/plain": [
       "<matplotlib.colorbar.Colorbar at 0x197676e4430>"
      ]
     },
     "execution_count": 35,
     "metadata": {},
     "output_type": "execute_result"
    },
    {
     "data": {
      "image/png": "[encoded data removed]",
      "text/plain": [
       "<Figure size 432x288 with 2 Axes>"
      ]
     },
     "metadata": {
      "needs_background": "light"
     },
     "output_type": "display_data"
    }
   ],
   "source": [
    "plt.contourf(zz, tt, Ey, levels=100)\n",
    "plt.colorbar()"
   ]
  },
  {
   "cell_type": "code",
   "execution_count": 42,
   "id": "711ed5aa",
   "metadata": {},
   "outputs": [
    {
     "data": {
      "image/png": "[encoded data removed]",
      "text/plain": [
       "<Figure size 432x288 with 2 Axes>"
      ]
     },
     "metadata": {
      "needs_background": "light"
     },
     "output_type": "display_data"
    }
   ],
   "source": [
    "from matplotlib import cm\n",
    "\n",
    "fig, ax = plt.subplots(subplot_kw={\"projection\": \"3d\"})\n",
    "\n",
    "# Make data.\n",
    "\n",
    "# Plot the surface.\n",
    "surf = ax.plot_surface(tt, zz, Ey, cmap=cm.coolwarm,\n",
    "                       linewidth=0, antialiased=False)\n",
    "\n",
    "# Customize the z axis.\n",
    "#ax.set_zlim(-1.01, 1.01)\n",
    "# A StrMethodFormatter is used automatically\n",
    "ax.zaxis.set_major_formatter('{x:.02f}')\n",
    "\n",
    "# Add a color bar which maps values to colors.\n",
    "fig.colorbar(surf, shrink=0.5, aspect=5)\n",
    "\n",
    "plt.show()"
   ]
  },
  {
   "cell_type": "code",
   "execution_count": 41,
   "id": "3d1b0a32",
   "metadata": {},
   "outputs": [],
   "source": [
    "%matplotlib inline"
   ]
  },
  {
   "cell_type": "markdown",
   "id": "2e5b232b",
   "metadata": {},
   "source": [
    "Ex y Ey como función de t en z=0"
   ]
  },
  {
   "cell_type": "code",
   "execution_count": 37,
   "id": "e3974016",
   "metadata": {},
   "outputs": [
    {
     "data": {
      "text/plain": [
       "[<matplotlib.lines.Line2D at 0x197677f5220>]"
      ]
     },
     "execution_count": 37,
     "metadata": {},
     "output_type": "execute_result"
    },
    {
     "data": {
      "image/png": "[encoded data removed]",
      "text/plain": [
       "<Figure size 432x288 with 1 Axes>"
      ]
     },
     "metadata": {
      "needs_background": "light"
     },
     "output_type": "display_data"
    }
   ],
   "source": [
    "plt.plot(t,Ex[0], 'r')\n",
    "plt.plot(t,Ey[0], 'b')"
   ]
  },
  {
   "cell_type": "code",
   "execution_count": 43,
   "id": "5026b26b",
   "metadata": {},
   "outputs": [],
   "source": [
    "#1\n",
    "Ez=0*zz"
   ]
  },
  {
   "cell_type": "code",
   "execution_count": 45,
   "id": "b0d88ec6",
   "metadata": {},
   "outputs": [],
   "source": [
    "E=np.array([Ex, Ey, Ez])"
   ]
  },
  {
   "cell_type": "code",
   "execution_count": 46,
   "id": "7350e2dd",
   "metadata": {},
   "outputs": [
    {
     "data": {
      "text/plain": [
       "array([[[ 1.00000000e+00,  9.94902816e-01,  9.79663226e-01, ...,\n",
       "         -9.31164735e-01, -8.89652856e-01, -8.39071529e-01],\n",
       "        [ 9.91954813e-01,  9.99664020e-01,  9.97182283e-01, ...,\n",
       "         -9.69828789e-01, -9.40302293e-01, -9.01190009e-01],\n",
       "        [ 9.67948701e-01,  9.88340255e-01,  9.98656304e-01, ...,\n",
       "         -9.92887934e-01, -9.75821913e-01, -9.48808004e-01],\n",
       "        ...,\n",
       "        [ 9.67948701e-01,  9.37689522e-01,  8.97871191e-01, ...,\n",
       "         -8.09751458e-01, -7.46454741e-01, -6.75548390e-01],\n",
       "        [ 9.91954813e-01,  9.74133253e-01,  9.46381021e-01, ...,\n",
       "         -8.77517892e-01, -8.24688573e-01, -7.63452074e-01],\n",
       "        [ 1.00000000e+00,  9.94902816e-01,  9.79663226e-01, ...,\n",
       "         -9.31164735e-01, -8.89652856e-01, -8.39071529e-01]],\n",
       "\n",
       "       [[ 1.22464680e-16,  2.01676841e-01,  4.01297713e-01, ...,\n",
       "         -7.29197467e-01, -9.13274975e-01, -1.08804222e+00],\n",
       "        [-2.53184907e-01, -5.18400645e-02,  1.50033255e-01, ...,\n",
       "         -4.87574080e-01, -6.80680831e-01, -8.66848471e-01],\n",
       "        [-5.02295974e-01, -3.04522843e-01, -1.03645294e-01, ...,\n",
       "         -2.38105444e-01, -4.37134278e-01, -6.31706804e-01],\n",
       "        ...,\n",
       "        [ 5.02295974e-01,  6.94948515e-01,  8.80516495e-01, ...,\n",
       "         -1.17354604e+00, -1.33087237e+00, -1.47463131e+00],\n",
       "        [ 2.53184907e-01,  4.51948690e-01,  6.46105141e-01, ...,\n",
       "         -9.59087794e-01, -1.13117418e+00, -1.29172897e+00],\n",
       "        [ 1.10218212e-15,  2.01676841e-01,  4.01297713e-01, ...,\n",
       "         -7.29197467e-01, -9.13274975e-01, -1.08804222e+00]],\n",
       "\n",
       "       [[ 0.00000000e+00,  0.00000000e+00,  0.00000000e+00, ...,\n",
       "          0.00000000e+00,  0.00000000e+00,  0.00000000e+00],\n",
       "        [ 0.00000000e+00,  0.00000000e+00,  0.00000000e+00, ...,\n",
       "          0.00000000e+00,  0.00000000e+00,  0.00000000e+00],\n",
       "        [ 0.00000000e+00,  0.00000000e+00,  0.00000000e+00, ...,\n",
       "          0.00000000e+00,  0.00000000e+00,  0.00000000e+00],\n",
       "        ...,\n",
       "        [ 0.00000000e+00,  0.00000000e+00,  0.00000000e+00, ...,\n",
       "          0.00000000e+00,  0.00000000e+00,  0.00000000e+00],\n",
       "        [ 0.00000000e+00,  0.00000000e+00,  0.00000000e+00, ...,\n",
       "          0.00000000e+00,  0.00000000e+00,  0.00000000e+00],\n",
       "        [ 0.00000000e+00,  0.00000000e+00,  0.00000000e+00, ...,\n",
       "          0.00000000e+00,  0.00000000e+00,  0.00000000e+00]]])"
      ]
     },
     "execution_count": 46,
     "metadata": {},
     "output_type": "execute_result"
    }
   ],
   "source": [
    "E"
   ]
  },
  {
   "cell_type": "code",
   "execution_count": 47,
   "id": "15835511",
   "metadata": {},
   "outputs": [],
   "source": [
    "k=np.array([0,0,1])"
   ]
  },
  {
   "cell_type": "code",
   "execution_count": 51,
   "id": "13273ae1",
   "metadata": {},
   "outputs": [],
   "source": [
    "E_T=E.T"
   ]
  },
  {
   "cell_type": "code",
   "execution_count": 52,
   "id": "144bd453",
   "metadata": {},
   "outputs": [
    {
     "data": {
      "text/plain": [
       "array([[[ 1.00000000e+00,  1.22464680e-16,  0.00000000e+00],\n",
       "        [ 9.91954813e-01, -2.53184907e-01,  0.00000000e+00],\n",
       "        [ 9.67948701e-01, -5.02295974e-01,  0.00000000e+00],\n",
       "        ...,\n",
       "        [ 9.67948701e-01,  5.02295974e-01,  0.00000000e+00],\n",
       "        [ 9.91954813e-01,  2.53184907e-01,  0.00000000e+00],\n",
       "        [ 1.00000000e+00,  1.10218212e-15,  0.00000000e+00]],\n",
       "\n",
       "       [[ 9.94902816e-01,  2.01676841e-01,  0.00000000e+00],\n",
       "        [ 9.99664020e-01, -5.18400645e-02,  0.00000000e+00],\n",
       "        [ 9.88340255e-01, -3.04522843e-01,  0.00000000e+00],\n",
       "        ...,\n",
       "        [ 9.37689522e-01,  6.94948515e-01,  0.00000000e+00],\n",
       "        [ 9.74133253e-01,  4.51948690e-01,  0.00000000e+00],\n",
       "        [ 9.94902816e-01,  2.01676841e-01,  0.00000000e+00]],\n",
       "\n",
       "       [[ 9.79663226e-01,  4.01297713e-01,  0.00000000e+00],\n",
       "        [ 9.97182283e-01,  1.50033255e-01,  0.00000000e+00],\n",
       "        [ 9.98656304e-01, -1.03645294e-01,  0.00000000e+00],\n",
       "        ...,\n",
       "        [ 8.97871191e-01,  8.80516495e-01,  0.00000000e+00],\n",
       "        [ 9.46381021e-01,  6.46105141e-01,  0.00000000e+00],\n",
       "        [ 9.79663226e-01,  4.01297713e-01,  0.00000000e+00]],\n",
       "\n",
       "       ...,\n",
       "\n",
       "       [[-9.31164735e-01, -7.29197467e-01,  0.00000000e+00],\n",
       "        [-9.69828789e-01, -4.87574080e-01,  0.00000000e+00],\n",
       "        [-9.92887934e-01, -2.38105444e-01,  0.00000000e+00],\n",
       "        ...,\n",
       "        [-8.09751458e-01, -1.17354604e+00,  0.00000000e+00],\n",
       "        [-8.77517892e-01, -9.59087794e-01,  0.00000000e+00],\n",
       "        [-9.31164735e-01, -7.29197467e-01,  0.00000000e+00]],\n",
       "\n",
       "       [[-8.89652856e-01, -9.13274975e-01,  0.00000000e+00],\n",
       "        [-9.40302293e-01, -6.80680831e-01,  0.00000000e+00],\n",
       "        [-9.75821913e-01, -4.37134278e-01,  0.00000000e+00],\n",
       "        ...,\n",
       "        [-7.46454741e-01, -1.33087237e+00,  0.00000000e+00],\n",
       "        [-8.24688573e-01, -1.13117418e+00,  0.00000000e+00],\n",
       "        [-8.89652856e-01, -9.13274975e-01,  0.00000000e+00]],\n",
       "\n",
       "       [[-8.39071529e-01, -1.08804222e+00,  0.00000000e+00],\n",
       "        [-9.01190009e-01, -8.66848471e-01,  0.00000000e+00],\n",
       "        [-9.48808004e-01, -6.31706804e-01,  0.00000000e+00],\n",
       "        ...,\n",
       "        [-6.75548390e-01, -1.47463131e+00,  0.00000000e+00],\n",
       "        [-7.63452074e-01, -1.29172897e+00,  0.00000000e+00],\n",
       "        [-8.39071529e-01, -1.08804222e+00,  0.00000000e+00]]])"
      ]
     },
     "execution_count": 52,
     "metadata": {},
     "output_type": "execute_result"
    }
   ],
   "source": [
    "E_T"
   ]
  },
  {
   "cell_type": "code",
   "execution_count": 49,
   "id": "b9d9360c",
   "metadata": {},
   "outputs": [],
   "source": [
    "c=3E8"
   ]
  },
  {
   "cell_type": "code",
   "execution_count": 53,
   "id": "4315a290",
   "metadata": {},
   "outputs": [],
   "source": [
    "B=np.cross(k,E_T)/c"
   ]
  },
  {
   "cell_type": "code",
   "execution_count": 54,
   "id": "80a0bc51",
   "metadata": {},
   "outputs": [
    {
     "data": {
      "text/plain": [
       "array([[[-4.08215600e-25,  3.33333333e-09,  0.00000000e+00],\n",
       "        [ 8.43949690e-10,  3.30651604e-09, -0.00000000e+00],\n",
       "        [ 1.67431991e-09,  3.22649567e-09, -0.00000000e+00],\n",
       "        ...,\n",
       "        [-1.67431991e-09,  3.22649567e-09,  0.00000000e+00],\n",
       "        [-8.43949690e-10,  3.30651604e-09,  0.00000000e+00],\n",
       "        [-3.67394040e-24,  3.33333333e-09,  0.00000000e+00]],\n",
       "\n",
       "       [[-6.72256135e-10,  3.31634272e-09,  0.00000000e+00],\n",
       "        [ 1.72800215e-10,  3.33221340e-09, -0.00000000e+00],\n",
       "        [ 1.01507614e-09,  3.29446752e-09, -0.00000000e+00],\n",
       "        ...,\n",
       "        [-2.31649505e-09,  3.12563174e-09,  0.00000000e+00],\n",
       "        [-1.50649563e-09,  3.24711084e-09,  0.00000000e+00],\n",
       "        [-6.72256135e-10,  3.31634272e-09,  0.00000000e+00]],\n",
       "\n",
       "       [[-1.33765904e-09,  3.26554409e-09,  0.00000000e+00],\n",
       "        [-5.00110850e-10,  3.32394094e-09,  0.00000000e+00],\n",
       "        [ 3.45484315e-10,  3.32885435e-09, -0.00000000e+00],\n",
       "        ...,\n",
       "        [-2.93505498e-09,  2.99290397e-09,  0.00000000e+00],\n",
       "        [-2.15368380e-09,  3.15460340e-09,  0.00000000e+00],\n",
       "        [-1.33765904e-09,  3.26554409e-09,  0.00000000e+00]],\n",
       "\n",
       "       ...,\n",
       "\n",
       "       [[ 2.43065822e-09, -3.10388245e-09,  0.00000000e+00],\n",
       "        [ 1.62524693e-09, -3.23276263e-09,  0.00000000e+00],\n",
       "        [ 7.93684813e-10, -3.30962645e-09,  0.00000000e+00],\n",
       "        ...,\n",
       "        [ 3.91182013e-09, -2.69917153e-09,  0.00000000e+00],\n",
       "        [ 3.19695931e-09, -2.92505964e-09,  0.00000000e+00],\n",
       "        [ 2.43065822e-09, -3.10388245e-09,  0.00000000e+00]],\n",
       "\n",
       "       [[ 3.04424992e-09, -2.96550952e-09,  0.00000000e+00],\n",
       "        [ 2.26893610e-09, -3.13434098e-09,  0.00000000e+00],\n",
       "        [ 1.45711426e-09, -3.25273971e-09,  0.00000000e+00],\n",
       "        ...,\n",
       "        [ 4.43624125e-09, -2.48818247e-09,  0.00000000e+00],\n",
       "        [ 3.77058061e-09, -2.74896191e-09,  0.00000000e+00],\n",
       "        [ 3.04424992e-09, -2.96550952e-09,  0.00000000e+00]],\n",
       "\n",
       "       [[ 3.62680741e-09, -2.79690510e-09,  0.00000000e+00],\n",
       "        [ 2.88949490e-09, -3.00396670e-09,  0.00000000e+00],\n",
       "        [ 2.10568935e-09, -3.16269335e-09,  0.00000000e+00],\n",
       "        ...,\n",
       "        [ 4.91543769e-09, -2.25182797e-09,  0.00000000e+00],\n",
       "        [ 4.30576322e-09, -2.54484025e-09,  0.00000000e+00],\n",
       "        [ 3.62680741e-09, -2.79690510e-09,  0.00000000e+00]]])"
      ]
     },
     "execution_count": 54,
     "metadata": {},
     "output_type": "execute_result"
    }
   ],
   "source": [
    "B"
   ]
  },
  {
   "cell_type": "code",
   "execution_count": 55,
   "id": "c2080835",
   "metadata": {},
   "outputs": [],
   "source": [
    "S=np.cross(E_T,B)"
   ]
  },
  {
   "cell_type": "code",
   "execution_count": 56,
   "id": "33c4d6a2",
   "metadata": {},
   "outputs": [
    {
     "data": {
      "text/plain": [
       "array([[[ 0.00000000e+00, -0.00000000e+00,  3.33333333e-09],\n",
       "        [ 0.00000000e+00,  0.00000000e+00,  3.49358983e-09],\n",
       "        [ 0.00000000e+00,  0.00000000e+00,  3.96408645e-09],\n",
       "        ...,\n",
       "        [ 0.00000000e+00, -0.00000000e+00,  3.96408645e-09],\n",
       "        [ 0.00000000e+00, -0.00000000e+00,  3.49358983e-09],\n",
       "        [ 0.00000000e+00, -0.00000000e+00,  3.33333333e-09]],\n",
       "\n",
       "       [[ 0.00000000e+00, -0.00000000e+00,  3.43501720e-09],\n",
       "        [ 0.00000000e+00,  0.00000000e+00,  3.34005181e-09],\n",
       "        [ 0.00000000e+00,  0.00000000e+00,  3.56516874e-09],\n",
       "        ...,\n",
       "        [ 0.00000000e+00, -0.00000000e+00,  4.54071693e-09],\n",
       "        [ 0.00000000e+00, -0.00000000e+00,  3.84397738e-09],\n",
       "        [ 0.00000000e+00, -0.00000000e+00,  3.43501720e-09]],\n",
       "\n",
       "       [[ 0.00000000e+00, -0.00000000e+00,  3.73593297e-09],\n",
       "        [ 0.00000000e+00, -0.00000000e+00,  3.38960828e-09],\n",
       "        [ 0.00000000e+00,  0.00000000e+00,  3.36018920e-09],\n",
       "        ...,\n",
       "        [ 0.00000000e+00, -0.00000000e+00,  5.27160658e-09],\n",
       "        [ 0.00000000e+00, -0.00000000e+00,  4.37696297e-09],\n",
       "        [ 0.00000000e+00, -0.00000000e+00,  3.73593297e-09]],\n",
       "\n",
       "       ...,\n",
       "\n",
       "       [[ 0.00000000e+00,  0.00000000e+00,  4.66265570e-09],\n",
       "        [ 0.00000000e+00,  0.00000000e+00,  3.92765454e-09],\n",
       "        [ 0.00000000e+00,  0.00000000e+00,  3.47506884e-09],\n",
       "        ...,\n",
       "        [ 0.00000000e+00,  0.00000000e+00,  6.77635910e-09],\n",
       "        [ 0.00000000e+00,  0.00000000e+00,  5.63295683e-09],\n",
       "        [ 0.00000000e+00,  0.00000000e+00,  4.66265570e-09]],\n",
       "\n",
       "       [[ 0.00000000e+00,  0.00000000e+00,  5.41851128e-09],\n",
       "        [ 0.00000000e+00,  0.00000000e+00,  4.49164932e-09],\n",
       "        [ 0.00000000e+00,  0.00000000e+00,  3.81104928e-09],\n",
       "        ...,\n",
       "        [ 0.00000000e+00,  0.00000000e+00,  7.76138653e-09],\n",
       "        [ 0.00000000e+00,  0.00000000e+00,  6.53222091e-09],\n",
       "        [ 0.00000000e+00,  0.00000000e+00,  5.41851128e-09]],\n",
       "\n",
       "       [[ 0.00000000e+00,  0.00000000e+00,  6.29292302e-09],\n",
       "        [ 0.00000000e+00,  0.00000000e+00,  5.21189901e-09],\n",
       "        [ 0.00000000e+00,  0.00000000e+00,  4.33096705e-09],\n",
       "        ...,\n",
       "        [ 0.00000000e+00,  0.00000000e+00,  8.76967706e-09],\n",
       "        [ 0.00000000e+00,  0.00000000e+00,  7.50474263e-09],\n",
       "        [ 0.00000000e+00,  0.00000000e+00,  6.29292302e-09]]])"
      ]
     },
     "execution_count": 56,
     "metadata": {},
     "output_type": "execute_result"
    }
   ],
   "source": [
    "S"
   ]
  },
  {
   "cell_type": "code",
   "execution_count": 57,
   "id": "f03b1209",
   "metadata": {},
   "outputs": [],
   "source": [
    "#Graficar Sz"
   ]
  },
  {
   "cell_type": "code",
   "execution_count": 58,
   "id": "74c859c9",
   "metadata": {},
   "outputs": [],
   "source": [
    "S_T=S.T"
   ]
  },
  {
   "cell_type": "code",
   "execution_count": 59,
   "id": "b0c8dfc7",
   "metadata": {},
   "outputs": [
    {
     "data": {
      "text/plain": [
       "array([[[ 0.00000000e+00,  0.00000000e+00,  0.00000000e+00, ...,\n",
       "          0.00000000e+00,  0.00000000e+00,  0.00000000e+00],\n",
       "        [ 0.00000000e+00,  0.00000000e+00,  0.00000000e+00, ...,\n",
       "          0.00000000e+00,  0.00000000e+00,  0.00000000e+00],\n",
       "        [ 0.00000000e+00,  0.00000000e+00,  0.00000000e+00, ...,\n",
       "          0.00000000e+00,  0.00000000e+00,  0.00000000e+00],\n",
       "        ...,\n",
       "        [ 0.00000000e+00,  0.00000000e+00,  0.00000000e+00, ...,\n",
       "          0.00000000e+00,  0.00000000e+00,  0.00000000e+00],\n",
       "        [ 0.00000000e+00,  0.00000000e+00,  0.00000000e+00, ...,\n",
       "          0.00000000e+00,  0.00000000e+00,  0.00000000e+00],\n",
       "        [ 0.00000000e+00,  0.00000000e+00,  0.00000000e+00, ...,\n",
       "          0.00000000e+00,  0.00000000e+00,  0.00000000e+00]],\n",
       "\n",
       "       [[-0.00000000e+00, -0.00000000e+00, -0.00000000e+00, ...,\n",
       "          0.00000000e+00,  0.00000000e+00,  0.00000000e+00],\n",
       "        [ 0.00000000e+00,  0.00000000e+00, -0.00000000e+00, ...,\n",
       "          0.00000000e+00,  0.00000000e+00,  0.00000000e+00],\n",
       "        [ 0.00000000e+00,  0.00000000e+00,  0.00000000e+00, ...,\n",
       "          0.00000000e+00,  0.00000000e+00,  0.00000000e+00],\n",
       "        ...,\n",
       "        [-0.00000000e+00, -0.00000000e+00, -0.00000000e+00, ...,\n",
       "          0.00000000e+00,  0.00000000e+00,  0.00000000e+00],\n",
       "        [-0.00000000e+00, -0.00000000e+00, -0.00000000e+00, ...,\n",
       "          0.00000000e+00,  0.00000000e+00,  0.00000000e+00],\n",
       "        [-0.00000000e+00, -0.00000000e+00, -0.00000000e+00, ...,\n",
       "          0.00000000e+00,  0.00000000e+00,  0.00000000e+00]],\n",
       "\n",
       "       [[ 3.33333333e-09,  3.43501720e-09,  3.73593297e-09, ...,\n",
       "          4.66265570e-09,  5.41851128e-09,  6.29292302e-09],\n",
       "        [ 3.49358983e-09,  3.34005181e-09,  3.38960828e-09, ...,\n",
       "          3.92765454e-09,  4.49164932e-09,  5.21189901e-09],\n",
       "        [ 3.96408645e-09,  3.56516874e-09,  3.36018920e-09, ...,\n",
       "          3.47506884e-09,  3.81104928e-09,  4.33096705e-09],\n",
       "        ...,\n",
       "        [ 3.96408645e-09,  4.54071693e-09,  5.27160658e-09, ...,\n",
       "          6.77635910e-09,  7.76138653e-09,  8.76967706e-09],\n",
       "        [ 3.49358983e-09,  3.84397738e-09,  4.37696297e-09, ...,\n",
       "          5.63295683e-09,  6.53222091e-09,  7.50474263e-09],\n",
       "        [ 3.33333333e-09,  3.43501720e-09,  3.73593297e-09, ...,\n",
       "          4.66265570e-09,  5.41851128e-09,  6.29292302e-09]]])"
      ]
     },
     "execution_count": 59,
     "metadata": {},
     "output_type": "execute_result"
    }
   ],
   "source": [
    "S_T"
   ]
  },
  {
   "cell_type": "code",
   "execution_count": 61,
   "id": "68b2f5d9",
   "metadata": {},
   "outputs": [],
   "source": [
    "Sx, Sy, Sz = S_T"
   ]
  },
  {
   "cell_type": "code",
   "execution_count": 64,
   "id": "5b55a8cb",
   "metadata": {},
   "outputs": [
    {
     "data": {
      "text/plain": [
       "array([[3.33333333e-09, 3.43501720e-09, 3.73593297e-09, ...,\n",
       "        4.66265570e-09, 5.41851128e-09, 6.29292302e-09],\n",
       "       [3.49358983e-09, 3.34005181e-09, 3.38960828e-09, ...,\n",
       "        3.92765454e-09, 4.49164932e-09, 5.21189901e-09],\n",
       "       [3.96408645e-09, 3.56516874e-09, 3.36018920e-09, ...,\n",
       "        3.47506884e-09, 3.81104928e-09, 4.33096705e-09],\n",
       "       ...,\n",
       "       [3.96408645e-09, 4.54071693e-09, 5.27160658e-09, ...,\n",
       "        6.77635910e-09, 7.76138653e-09, 8.76967706e-09],\n",
       "       [3.49358983e-09, 3.84397738e-09, 4.37696297e-09, ...,\n",
       "        5.63295683e-09, 6.53222091e-09, 7.50474263e-09],\n",
       "       [3.33333333e-09, 3.43501720e-09, 3.73593297e-09, ...,\n",
       "        4.66265570e-09, 5.41851128e-09, 6.29292302e-09]])"
      ]
     },
     "execution_count": 64,
     "metadata": {},
     "output_type": "execute_result"
    }
   ],
   "source": [
    "Sz"
   ]
  },
  {
   "cell_type": "code",
   "execution_count": 66,
   "id": "706f1eb5",
   "metadata": {},
   "outputs": [
    {
     "data": {
      "text/plain": [
       "<matplotlib.colorbar.Colorbar at 0x1976d2c5fd0>"
      ]
     },
     "execution_count": 66,
     "metadata": {},
     "output_type": "execute_result"
    },
    {
     "data": {
      "image/png": "[encoded data removed]",
      "text/plain": [
       "<Figure size 432x288 with 2 Axes>"
      ]
     },
     "metadata": {
      "needs_background": "light"
     },
     "output_type": "display_data"
    }
   ],
   "source": [
    "plt.contourf(zz, tt, Sz, levels=100)\n",
    "plt.colorbar()"
   ]
  },
  {
   "cell_type": "markdown",
   "id": "b45c26ed",
   "metadata": {},
   "source": [
    "## Importar data"
   ]
  },
  {
   "cell_type": "code",
   "execution_count": 68,
   "id": "bd03df39",
   "metadata": {},
   "outputs": [],
   "source": [
    "a=np.loadtxt(fname='temperatura_1.csv', delimiter=',')"
   ]
  },
  {
   "cell_type": "code",
   "execution_count": 69,
   "id": "7603730b",
   "metadata": {},
   "outputs": [
    {
     "data": {
      "text/plain": [
       "(24, 30)"
      ]
     },
     "execution_count": 69,
     "metadata": {},
     "output_type": "execute_result"
    }
   ],
   "source": [
    "a.shape"
   ]
  },
  {
   "cell_type": "code",
   "execution_count": null,
   "id": "9b1e2407",
   "metadata": {},
   "outputs": [],
   "source": [
    "#Las columnas representan mediciones de temperatura por día\n",
    "#Las filas representan mediciones de temperatura por hora"
   ]
  },
  {
   "cell_type": "code",
   "execution_count": 70,
   "id": "3b6e66f6",
   "metadata": {},
   "outputs": [],
   "source": [
    "#Calcular el promedio de temperaturas en el primer día"
   ]
  },
  {
   "cell_type": "code",
   "execution_count": 72,
   "id": "4037898a",
   "metadata": {},
   "outputs": [
    {
     "data": {
      "text/plain": [
       "0.0"
      ]
     },
     "execution_count": 72,
     "metadata": {},
     "output_type": "execute_result"
    }
   ],
   "source": [
    "a[:,0].mean()"
   ]
  },
  {
   "cell_type": "code",
   "execution_count": 73,
   "id": "e5740446",
   "metadata": {},
   "outputs": [
    {
     "data": {
      "text/plain": [
       "0.4583333333333333"
      ]
     },
     "execution_count": 73,
     "metadata": {},
     "output_type": "execute_result"
    }
   ],
   "source": [
    "#Calcular el promedio de temperaturas en el segundo día\n",
    "a[:,1].mean()"
   ]
  },
  {
   "cell_type": "code",
   "execution_count": 74,
   "id": "0cef8775",
   "metadata": {},
   "outputs": [],
   "source": [
    "#Calcular el promedio de cada día"
   ]
  },
  {
   "cell_type": "code",
   "execution_count": 76,
   "id": "2bd27f45",
   "metadata": {},
   "outputs": [
    {
     "name": "stdout",
     "output_type": "stream",
     "text": [
      "0.0  0.4583333333333333  1.0416666666666667  1.4583333333333333  2.2083333333333335  2.7916666666666665  3.4166666666666665  3.6666666666666665  5.458333333333333  5.583333333333333  5.208333333333333  5.75  8.5  7.833333333333333  8.333333333333334  9.25  9.208333333333334  10.875  11.333333333333334  12.041666666666666  12.583333333333334  12.875  11.416666666666666  9.166666666666666  9.416666666666666  8.791666666666666  8.791666666666666  7.208333333333333  7.458333333333333  7.166666666666667  "
     ]
    }
   ],
   "source": [
    "for i in range(30):\n",
    "    b=a[:,i].mean()\n",
    "    print(b, end='  ')"
   ]
  },
  {
   "cell_type": "code",
   "execution_count": 79,
   "id": "7af7651c",
   "metadata": {},
   "outputs": [],
   "source": [
    "#Promediando cada columna\n",
    "c=a.mean(axis=0)"
   ]
  },
  {
   "cell_type": "code",
   "execution_count": null,
   "id": "1caf8f63",
   "metadata": {},
   "outputs": [],
   "source": [
    "#Promediando cada fila\n",
    "#a.mean(axis=1)"
   ]
  },
  {
   "cell_type": "code",
   "execution_count": 78,
   "id": "cc35c8a7",
   "metadata": {},
   "outputs": [],
   "source": [
    "#Graficar el promedio de temperaturas vs día"
   ]
  },
  {
   "cell_type": "code",
   "execution_count": 80,
   "id": "685e4a47",
   "metadata": {},
   "outputs": [
    {
     "data": {
      "text/plain": [
       "[<matplotlib.lines.Line2D at 0x1976d81a4c0>]"
      ]
     },
     "execution_count": 80,
     "metadata": {},
     "output_type": "execute_result"
    },
    {
     "data": {
      "image/png": "[encoded data removed]",
      "text/plain": [
       "<Figure size 432x288 with 1 Axes>"
      ]
     },
     "metadata": {
      "needs_background": "light"
     },
     "output_type": "display_data"
    }
   ],
   "source": [
    "plt.plot(c)"
   ]
  },
  {
   "cell_type": "code",
   "execution_count": null,
   "id": "cd0113b2",
   "metadata": {},
   "outputs": [],
   "source": []
  }
 ],
 "metadata": {
  "kernelspec": {
   "display_name": "Python 3 (ipykernel)",
   "language": "python",
   "name": "python3"
  },
  "language_info": {
   "codemirror_mode": {
    "name": "ipython",
    "version": 3
   },
   "file_extension": ".py",
   "mimetype": "text/x-python",
   "name": "python",
   "nbconvert_exporter": "python",
   "pygments_lexer": "ipython3",
   "version": "3.9.7"
  }
 },
 "nbformat": 4,
 "nbformat_minor": 5
}
