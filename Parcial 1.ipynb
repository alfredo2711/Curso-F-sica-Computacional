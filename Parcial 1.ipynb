{
 "cells": [
  {
   "cell_type": "markdown",
   "id": "4ca382fe",
   "metadata": {},
   "source": [
    "# Parcial\n",
    "## Física computacional\n",
    "### Profesor: Alfredo Campos\n",
    "### Fecha de entrega: 30/05/2022\n",
    "### Estudiante:\n",
    "### Identificación:"
   ]
  },
  {
   "cell_type": "markdown",
   "id": "4cd25a12",
   "metadata": {},
   "source": [
    "# Problema 1\n",
    "En Física de la materia condensada, la constante de Madelung es el potencial eléctrico total sentido por un átomo en un sólido. Depende de las cargas de los otros átomos cercanos y sus ubicaciones. Considere, por ejemplo, un sólido de \n",
    "cloruro de sodio. El cristal de cloruro de sodio tiene átomos dispuestos en una red cúbica, pero alternando átomos de sodio y cloro, los de sodio con una sola carga positiva $+e$ y los de cloro con una sola carga negativa $-e$, donde $e$ es la carga del electrón. Si etiquetamos cada posición en la red con tres números enteros $(i,j,k)$, entonces los átomos de sodio caen en posiciones donde $i+j+k$ es par, y los átomos de cloro en posiciones donde $i+j+k$ es impar.\n",
    "\n",
    "Considere un átomo de sodio en el origen, $i=j=k=0$, calculemos la constante de Madelung siguiendo el siguiente procedimiento. Si el espaciado de los átomos en la red es $a$, entonces la distancia desde el origen hasta el átomo en la posición $(i,j,k)$ es\n",
    "$ \\sqrt{(ia)^2 + (ja)^2 + (ka)^2} = a \\sqrt{i^2+j^2+k^2}$,\n",
    "y el potencial en el origen creado por tal átomo es\n",
    "$ V(i,j,k) = \\pm {e\\over4\\pi\\epsilon_0 a\\sqrt{i^2+j^2+k^2}}$,\n",
    "siendo $\\epsilon_0$ la permitividad del vacío y el signo de la expresión dependiendo de si $i+j+k$ es par o impar. El potencial total sentido por el átomo de sodio es entonces la suma de esta cantidad sobre todos los otros átomos. Supongamos una caja cúbica alrededor del sodio ubicado en el origen, con $L$ átomos en todas las direcciones. Entonces\n",
    "$V_\\textrm{total} = \\sum_{\\substack{i,j,k=-L\\\\ \\textrm{no }i=j=k=0}}^L\n",
    "                   \\hspace{-0.5em} V(i,j,k)\n",
    "                 = {e\\over4\\pi\\epsilon_0 a}\\,M,$\n",
    "\n",
    "donde $M$ es la constante de Madelung, al menos aproximadamente---técnicamente\n",
    "la constante de Madelung es el valor de $M$ cuando $L\\to\\infty$, pero uno puede\n",
    "obtener una buena aproximación simplemente usando un valor grande de $L$.\n",
    "\n",
    "Escriba un programa para calcular e imprimir la constante de Madelung para el cloruro de sodio. Use un valor de $L$ tan grande como pueda, sin dejar de tener un tiempo de cálculo razonable --- digamos en un minuto o menos."
   ]
  },
  {
   "cell_type": "markdown",
   "id": "a9c6ea77",
   "metadata": {},
   "source": [
    "## Problema 2\n",
    "### Ajuste por mínimos cuadrados y el efecto fotoeléctrico\n",
    "\n",
    "Es una situación común en física que un experimento produzca datos que se encuentran aproximadamente sobre una línea recta, como los puntos en esta figura:"
   ]
  },
  {
   "attachments": {
    "least%20squares%20fitting.png": {
     "image/png": "[encoded data removed]"
    }
   },
   "cell_type": "markdown",
   "id": "02f9f81e",
   "metadata": {},
   "source": [
    "![least%20squares%20fitting.png](attachment:least%20squares%20fitting.png)"
   ]
  },
  {
   "cell_type": "code",
   "execution_count": null,
   "id": "c6cd6c76",
   "metadata": {},
   "outputs": [],
   "source": []
  },
  {
   "cell_type": "markdown",
   "id": "e4c7077c",
   "metadata": {},
   "source": [
    "La línea sólida aquí representa una línea recta, que por lo general no conocemos, y los puntos representan los datos medidos. Estos puntos se encuentran más o menos sobre la línea pero no caen exactamente sobre ella, por lo general debido a un error de medición.\n",
    "\n",
    "La línea recta se puede representar en la forma $y=mx+c$ y una\n",
    "pregunta frecuente es: cuáles son los valores apropiados de la pendiente $m$ y el\n",
    "intercepto $c$ para obtener una línea más cercana a la data. Dado que los datos\n",
    "no caen perfectamente en una línea recta, no hay una respuesta perfecta para tal\n",
    "una problema, pero podemos encontrar la línea recta que da el mejor\n",
    "ajuste. La técnica estándar para hacer esto es el método de mínimos cuadrados.\n",
    "\n",
    "Supongamos que hacemos algunas conjeturas sobre los parámetros $m$ y $c$ para la\n",
    "línea recta. Luego calculamos las distancias verticales entre los puntos y esa línea, representada por las líneas verticales punteadas en la figura, luego calculamos la suma de los cuadrados de esas distancias, que\n",
    "denotamos $\\chi^2$. Si tenemos $N$ puntos de datos con\n",
    "coordenadas $(x_i,y_i)$, entonces $\\chi^2$ viene dado por\n",
    "$\\chi^2 = \\sum_{i=1}^N (mx_i+c-y_i)^2$.\n",
    "El ajuste por mínimos cuadrados de la línea recta a los datos es la línea recta\n",
    "que minimiza esta distancia total al cuadrado de los datos a la línea. Encontramos el\n",
    "mínimo diferenciando con respecto a $m$ y $c$ y estableciendo la \n",
    "derivada igual a cero, lo que da\n",
    "\\begin{align*}\n",
    "m \\sum_{i=1}^N x_i^2 + c \\sum_{i=1}^N x_i - \\sum_{i=1}^N x_iy_i &= 0, \\\\\n",
    "m \\sum_{i=1}^N x_i + cN - \\sum_{i=1}^N y_i &= 0.\n",
    "\\end{align*}\n",
    "Por convenicencia, definamos las siguientes cantidades:\n",
    "\n",
    "$\n",
    "E_x = {1\\over N} \\sum_{i=1}^N x_i,\\qquad\n",
    "E_y = {1\\over N} \\sum_{i=1}^N y_i,\\qquad\n",
    "E_{xx} = {1\\over N} \\sum_{i=1}^N x_i^2,\\qquad\n",
    "E_{xy} = {1\\over N} \\sum_{i=1}^N x_iy_i,\n",
    "$\n",
    "\n",
    "las ecuaciones pueden ser entonces escritas\n",
    "\\begin{align*}\n",
    "mE_{xx} + cE_x &= E_{xy}\\,, \\\\\n",
    "mE_x + c &= E_y\\,.\n",
    "\\end{align*}\n",
    "Resolviendo estas ecuaciones simultáneamente para $m$ y $c$ ahora tenemos\n",
    "\n",
    "$m = {E_{xy}-E_x E_y\\over E_{xx} - E_x^2},\\qquad$\n",
    "$c = {E_{xx}E_y-E_x E_{xy}\\over E_{xx} - E_x^2}$.\n",
    "\n",
    "Estas son las ecuaciones para el ajuste por mínimos cuadrados de una línea recta a $N$\n",
    "puntos de datos. Nos dicen los valores de $m$ y $c$ para la línea que\n",
    "mejor se ajusta a los datos dados.\n",
    "\n",
    "\n",
    "1. En los recursos de Teams encontrarás un archivo llamado millikan.txt. El archivo contiene dos columnas de números, dando\n",
    "  las coordenadas $x$ y $y$ de un conjunto de puntos de datos. Escribe un programa para que\n",
    "  lea este archivo y haga un gráfico mostrando los puntos.\n",
    "2. Calcule las cantidades $E_x$, $E_y$, $E_{xx}$ y $E_{xy}$ definidas\n",
    "  anteriormente, y de ellas calcular e imprimir la pendiente $m$ y\n",
    "  el intercepto $c$ de la línea de mejor ajuste.\n",
    "3. Ahora escriba código para calcular la cantidad $mx_i+c$ usando los valores de $m$ y $c$ que\n",
    "  ha calculado. Almacene estos valores en un arreglo o lista y luego grafique\n",
    "  estos valores, como una línea continua, junto con los datos experimentales.\n",
    "  Debería terminar con una gráfica de los puntos de datos más una línea recta\n",
    "  que los atraviesa.\n",
    "4. Los datos del archivo millikan.txt se toman de un histórico\n",
    "  experimento de Robert Millikan quien midió el\n",
    "  efecto fotoeléctrico. Cuando la luz de una longitud de onda apropiada impacta sobre la superficie de un metal, los fotones de la luz pueden golpear los electrones de conducción en el metal y, a veces, expulsarlos de la\n",
    "  superficie en el espacio libre. La energía de un electrón expulsado es\n",
    "  igual a la energía del fotón que lo golpeó menos una pequeña\n",
    "  cantidad $\\phi$ llamada función de trabajo de la superficie,\n",
    "  que representa la energía necesaria para sacar un electrón de la\n",
    "  superficie. La energía de un fotón es $h\\nu$, donde $h$ es la constante de Planck\n",
    "  y $\\nu$ es la frecuencia de la luz, y podemos medir la\n",
    "  energía de un electrón expulsado midiendo el voltaje $V$ que es justo\n",
    "  suficiente para detener el movimiento del electrón. Entonces, el voltaje, la frecuencia y\n",
    "  función de trabajo están relacionados por la ecuación\n",
    "$V = {h\\over e}\\nu - \\phi$,\n",
    "donde $e$ es la carga del electrón. Esta ecuación fue dada por primera vez por\n",
    "Albert Einstein en 1905.\n",
    "\n",
    "Los datos en el archivo millikan.txt representan frecuencias $\\nu$ en\n",
    "hercios (primera columna) y voltajes $V$ en voltios (segunda columna) de\n",
    "mediciones fotoeléctricas de este tipo. Usando la ecuación anterior y el\n",
    "programa que usted escribió, y dado que la carga del electrón es\n",
    "$1,602\\times10^{-19}\\,$C, calcule a partir de los datos experimentales de Millikan el\n",
    "valor de la constante de Planck. Compare su valor con el valor aceptado de\n",
    "la constante, que puede encontrar en internet. Debería conseguir un\n",
    "resultado dentro de un valor aceptado. Este cálculo es esencialmente el mismo que el realizado por Millikan\n",
    "para determinar el valor de la constante de Planck, aunque, a falta de un\n",
    "computadora, ajustó su línea recta a los datos a simple vista. En parte por este\n",
    "trabajo, Millikan fue galardonado con el premio Nobel de física en 1923."
   ]
  },
  {
   "cell_type": "code",
   "execution_count": null,
   "id": "1cf8f1cf",
   "metadata": {},
   "outputs": [],
   "source": []
  }
 ],
 "metadata": {
  "kernelspec": {
   "display_name": "Python 3 (ipykernel)",
   "language": "python",
   "name": "python3"
  },
  "language_info": {
   "codemirror_mode": {
    "name": "ipython",
    "version": 3
   },
   "file_extension": ".py",
   "mimetype": "text/x-python",
   "name": "python",
   "nbconvert_exporter": "python",
   "pygments_lexer": "ipython3",
   "version": "3.9.7"
  }
 },
 "nbformat": 4,
 "nbformat_minor": 5
}
