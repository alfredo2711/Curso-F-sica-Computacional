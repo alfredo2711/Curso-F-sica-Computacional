{
 "cells": [
  {
   "cell_type": "markdown",
   "id": "9f30ba56",
   "metadata": {},
   "source": [
    "# Análisis de Data Hyperespectral proveniente de Microscopía Electrónica"
   ]
  },
  {
   "cell_type": "markdown",
   "id": "117d737d",
   "metadata": {},
   "source": [
    "### HyperSpy es una librería Python de código abierto que proporciona herramientas para facilitar el análisis interactivo de conjuntos de datos multidimensionales que se pueden describir como matrices multidimensionales de una señal dada (p. ej., una matriz de espectros 2D conocida como espectro imagen 'spim'). HyperSpy tiene como objetivo hacer que sea fácil y natural aplicar procedimientos analíticos que operan en una señal individual a matrices multidimensionales, así como proporcionar un fácil acceso a las herramientas analíticas que aprovechan la multidimensionalidad del conjunto de datos. Su estructura modular hace que sea fácil agregar características para analizar diferentes tipos de señales."
   ]
  },
  {
   "cell_type": "markdown",
   "id": "ae5f611f",
   "metadata": {},
   "source": [
    "## Importar Hyperspy"
   ]
  },
  {
   "cell_type": "code",
   "execution_count": 1,
   "id": "3bbe8efb",
   "metadata": {},
   "outputs": [],
   "source": [
    "%matplotlib qt\n",
    "import hyperspy.api as hs"
   ]
  },
  {
   "cell_type": "markdown",
   "id": "9f1d31fe",
   "metadata": {},
   "source": [
    "### Otras Librerías"
   ]
  },
  {
   "cell_type": "code",
   "execution_count": 2,
   "id": "c4a253fc",
   "metadata": {},
   "outputs": [],
   "source": [
    "import numpy as np\n",
    "import matplotlib.pyplot as plt"
   ]
  },
  {
   "cell_type": "code",
   "execution_count": 29,
   "id": "f8e4b955",
   "metadata": {},
   "outputs": [],
   "source": [
    "#Usamos el signo de interrogación para inspeccionar hs\n",
    "hs?"
   ]
  },
  {
   "cell_type": "code",
   "execution_count": 5,
   "id": "ade2ffa4",
   "metadata": {},
   "outputs": [
    {
     "data": {
      "text/plain": [
       "['__builtins__',\n",
       " '__cached__',\n",
       " '__doc__',\n",
       " '__file__',\n",
       " '__loader__',\n",
       " '__name__',\n",
       " '__package__',\n",
       " '__spec__',\n",
       " '_logger',\n",
       " 'datasets',\n",
       " 'eds',\n",
       " 'get_configuration_directory_path',\n",
       " 'hyperspy',\n",
       " 'hyperspy_gui_ipywidgets',\n",
       " 'hyperspy_gui_traitsui',\n",
       " 'interactive',\n",
       " 'load',\n",
       " 'logging',\n",
       " 'markers',\n",
       " 'material',\n",
       " 'model',\n",
       " 'model_selection',\n",
       " 'plot',\n",
       " 'preferences',\n",
       " 'print_known_signal_types',\n",
       " 'roi',\n",
       " 'samfire',\n",
       " 'set_log_level',\n",
       " 'signals',\n",
       " 'stack',\n",
       " 'transpose']"
      ]
     },
     "execution_count": 5,
     "metadata": {},
     "output_type": "execute_result"
    }
   ],
   "source": [
    "#Usamos la función dir para inspeccionar los atributos de hs\n",
    "dir(hs)"
   ]
  },
  {
   "cell_type": "markdown",
   "id": "43ed5b68",
   "metadata": {},
   "source": [
    "## Autocompletar"
   ]
  },
  {
   "cell_type": "code",
   "execution_count": 6,
   "id": "77601eb2",
   "metadata": {},
   "outputs": [],
   "source": [
    "# Crear una señal 1D llamada `ten` que contenga valores enteros del uno al diez:\n",
    "ten = hs.signals.Signal1D([0, 1, 2, 3, 4, 5, 6, 7])"
   ]
  },
  {
   "cell_type": "code",
   "execution_count": 7,
   "id": "8d064c2e",
   "metadata": {},
   "outputs": [
    {
     "data": {
      "text/plain": [
       "<Signal1D, title: , dimensions: (|8)>"
      ]
     },
     "execution_count": 7,
     "metadata": {},
     "output_type": "execute_result"
    }
   ],
   "source": [
    "ten"
   ]
  },
  {
   "cell_type": "code",
   "execution_count": 8,
   "id": "b3a47ec1",
   "metadata": {},
   "outputs": [
    {
     "data": {
      "text/plain": [
       "['T',\n",
       " '__abs__',\n",
       " '__add__',\n",
       " '__and__',\n",
       " '__array__',\n",
       " '__array_wrap__',\n",
       " '__call__',\n",
       " '__class__',\n",
       " '__deepcopy__',\n",
       " '__delattr__',\n",
       " '__dict__',\n",
       " '__dir__',\n",
       " '__divmod__',\n",
       " '__doc__',\n",
       " '__eq__',\n",
       " '__floordiv__',\n",
       " '__format__',\n",
       " '__ge__',\n",
       " '__getattribute__',\n",
       " '__gt__',\n",
       " '__hash__',\n",
       " '__iadd__',\n",
       " '__iand__',\n",
       " '__ifloordiv__',\n",
       " '__ilshift__',\n",
       " '__imod__',\n",
       " '__imul__',\n",
       " '__init__',\n",
       " '__init_subclass__',\n",
       " '__invert__',\n",
       " '__ior__',\n",
       " '__ipow__',\n",
       " '__irshift__',\n",
       " '__isub__',\n",
       " '__iter__',\n",
       " '__itruediv__',\n",
       " '__ixor__',\n",
       " '__le__',\n",
       " '__len__',\n",
       " '__lshift__',\n",
       " '__lt__',\n",
       " '__mod__',\n",
       " '__module__',\n",
       " '__mul__',\n",
       " '__ne__',\n",
       " '__neg__',\n",
       " '__new__',\n",
       " '__next__',\n",
       " '__or__',\n",
       " '__pos__',\n",
       " '__pow__',\n",
       " '__reduce__',\n",
       " '__reduce_ex__',\n",
       " '__repr__',\n",
       " '__rshift__',\n",
       " '__setattr__',\n",
       " '__sizeof__',\n",
       " '__str__',\n",
       " '__sub__',\n",
       " '__subclasshook__',\n",
       " '__truediv__',\n",
       " '__weakref__',\n",
       " '__xor__',\n",
       " '_additional_slicing_targets',\n",
       " '_alias_signal_types',\n",
       " '_apply_function_on_data_and_remove_axis',\n",
       " '_assign_subclass',\n",
       " '_auto_reverse_bss_component',\n",
       " '_binary_operator_ruler',\n",
       " '_calculate_recmatrix',\n",
       " '_calculate_summary_statistics',\n",
       " '_check_navigation_mask',\n",
       " '_check_signal_dimension_equals_one',\n",
       " '_check_signal_dimension_equals_two',\n",
       " '_check_signal_mask',\n",
       " '_cluster_analysis',\n",
       " '_create_metadata',\n",
       " '_cycle_signal',\n",
       " '_data',\n",
       " '_data_aligned_with_axes',\n",
       " '_deepcopy_with_new_data',\n",
       " '_distances_within_cluster',\n",
       " '_dtype',\n",
       " '_estimate_poissonian_noise_variance',\n",
       " '_export_factors',\n",
       " '_export_loadings',\n",
       " '_get_array_slices',\n",
       " '_get_cluster_algorithm',\n",
       " '_get_cluster_preprocessing_algorithm',\n",
       " '_get_cluster_signal',\n",
       " '_get_cluster_signals_factors',\n",
       " '_get_factors',\n",
       " '_get_loadings',\n",
       " '_get_navigation_signal',\n",
       " '_get_number_of_components_for_clustering',\n",
       " '_get_plot_title',\n",
       " '_get_signal_signal',\n",
       " '_get_undefined_axes_list',\n",
       " '_integrate_in_range_commandline',\n",
       " '_iterate_signal',\n",
       " '_lazy',\n",
       " '_load_dictionary',\n",
       " '_ma_workaround',\n",
       " '_make_sure_data_is_contiguous',\n",
       " '_map_all',\n",
       " '_map_iterate',\n",
       " '_mask_for_clustering',\n",
       " '_plot',\n",
       " '_plot_factors_or_pchars',\n",
       " '_plot_loadings',\n",
       " '_plot_permanent_markers',\n",
       " '_print_summary',\n",
       " '_remove_axis',\n",
       " '_remove_background_cli',\n",
       " '_render_figure',\n",
       " '_replot',\n",
       " '_scale_data_for_clustering',\n",
       " '_signal_dimension',\n",
       " '_signal_type',\n",
       " '_slicer',\n",
       " '_spikes_diagnosis',\n",
       " '_summary',\n",
       " '_to_dictionary',\n",
       " '_unary_operator_ruler',\n",
       " '_unfold',\n",
       " '_unmix_components',\n",
       " '_validate_rebin_args_and_get_factors',\n",
       " 'add_gaussian_noise',\n",
       " 'add_marker',\n",
       " 'add_poissonian_noise',\n",
       " 'align1D',\n",
       " 'apply_apodization',\n",
       " 'as_lazy',\n",
       " 'as_signal1D',\n",
       " 'as_signal2D',\n",
       " 'axes_manager',\n",
       " 'blind_source_separation',\n",
       " 'calibrate',\n",
       " 'change_dtype',\n",
       " 'cluster_analysis',\n",
       " 'copy',\n",
       " 'create_model',\n",
       " 'crop',\n",
       " 'crop_signal1D',\n",
       " 'data',\n",
       " 'decomposition',\n",
       " 'deepcopy',\n",
       " 'derivative',\n",
       " 'diff',\n",
       " 'estimate_elbow_position',\n",
       " 'estimate_number_of_clusters',\n",
       " 'estimate_peak_width',\n",
       " 'estimate_poissonian_noise_variance',\n",
       " 'estimate_shift1D',\n",
       " 'events',\n",
       " 'export_bss_results',\n",
       " 'export_cluster_results',\n",
       " 'export_decomposition_results',\n",
       " 'fft',\n",
       " 'filter_butterworth',\n",
       " 'find_peaks1D_ohaver',\n",
       " 'fold',\n",
       " 'gaussian_filter',\n",
       " 'get_bss_factors',\n",
       " 'get_bss_loadings',\n",
       " 'get_bss_model',\n",
       " 'get_cluster_distances',\n",
       " 'get_cluster_labels',\n",
       " 'get_cluster_signals',\n",
       " 'get_current_signal',\n",
       " 'get_decomposition_factors',\n",
       " 'get_decomposition_loadings',\n",
       " 'get_decomposition_model',\n",
       " 'get_dimensions_from_data',\n",
       " 'get_explained_variance_ratio',\n",
       " 'get_histogram',\n",
       " 'get_noise_variance',\n",
       " 'hanning_taper',\n",
       " 'ifft',\n",
       " 'inav',\n",
       " 'indexmax',\n",
       " 'indexmin',\n",
       " 'integrate1D',\n",
       " 'integrate_in_range',\n",
       " 'integrate_simpson',\n",
       " 'interpolate_in_between',\n",
       " 'is_rgb',\n",
       " 'is_rgba',\n",
       " 'is_rgbx',\n",
       " 'isig',\n",
       " 'learning_results',\n",
       " 'map',\n",
       " 'max',\n",
       " 'mean',\n",
       " 'metadata',\n",
       " 'min',\n",
       " 'models',\n",
       " 'nanmax',\n",
       " 'nanmean',\n",
       " 'nanmin',\n",
       " 'nanstd',\n",
       " 'nansum',\n",
       " 'nanvar',\n",
       " 'navigator',\n",
       " 'normalize_bss_components',\n",
       " 'normalize_decomposition_components',\n",
       " 'normalize_poissonian_noise',\n",
       " 'original_metadata',\n",
       " 'plot',\n",
       " 'plot_bss_factors',\n",
       " 'plot_bss_loadings',\n",
       " 'plot_bss_results',\n",
       " 'plot_cluster_distances',\n",
       " 'plot_cluster_labels',\n",
       " 'plot_cluster_metric',\n",
       " 'plot_cluster_results',\n",
       " 'plot_cluster_signals',\n",
       " 'plot_cumulative_explained_variance_ratio',\n",
       " 'plot_decomposition_factors',\n",
       " 'plot_decomposition_loadings',\n",
       " 'plot_decomposition_results',\n",
       " 'plot_explained_variance_ratio',\n",
       " 'print_summary_statistics',\n",
       " 'rebin',\n",
       " 'remove_background',\n",
       " 'reverse_bss_component',\n",
       " 'reverse_decomposition_component',\n",
       " 'rollaxis',\n",
       " 'save',\n",
       " 'set_noise_variance',\n",
       " 'set_signal_origin',\n",
       " 'set_signal_type',\n",
       " 'shift1D',\n",
       " 'smooth_lowess',\n",
       " 'smooth_savitzky_golay',\n",
       " 'smooth_tv',\n",
       " 'spikes_removal_tool',\n",
       " 'split',\n",
       " 'squeeze',\n",
       " 'std',\n",
       " 'sum',\n",
       " 'swap_axes',\n",
       " 'tmp_parameters',\n",
       " 'to_signal2D',\n",
       " 'transpose',\n",
       " 'undo_treatments',\n",
       " 'unfold',\n",
       " 'unfold_navigation_space',\n",
       " 'unfold_signal_space',\n",
       " 'unfolded',\n",
       " 'update_plot',\n",
       " 'valuemax',\n",
       " 'valuemin',\n",
       " 'var']"
      ]
     },
     "execution_count": 8,
     "metadata": {},
     "output_type": "execute_result"
    }
   ],
   "source": [
    "dir(ten)"
   ]
  },
  {
   "cell_type": "code",
   "execution_count": 9,
   "id": "32625e1d",
   "metadata": {},
   "outputs": [
    {
     "name": "stdout",
     "output_type": "stream",
     "text": [
      "Summary statistics\n",
      "------------------\n",
      "mean:\t3.5\n",
      "std:\t2.29\n",
      "\n",
      "min:\t0\n",
      "Q1:\t1.75\n",
      "median:\t3.5\n",
      "Q3:\t5.25\n",
      "max:\t7\n"
     ]
    }
   ],
   "source": [
    "ten.print_summary_statistics()"
   ]
  },
  {
   "cell_type": "markdown",
   "id": "d8d27daf",
   "metadata": {},
   "source": [
    "# Importar Data"
   ]
  },
  {
   "cell_type": "code",
   "execution_count": 13,
   "id": "714ab34f",
   "metadata": {},
   "outputs": [],
   "source": [
    "s = hs.load(\"spim8.dm3\")"
   ]
  },
  {
   "cell_type": "code",
   "execution_count": 14,
   "id": "4629a3f0",
   "metadata": {},
   "outputs": [
    {
     "data": {
      "text/plain": [
       "<EELSSpectrum, title: spim8, dimensions: (113, 104|1024)>"
      ]
     },
     "execution_count": 14,
     "metadata": {},
     "output_type": "execute_result"
    }
   ],
   "source": [
    "#Veamos que hay dentro de la variable s\n",
    "s"
   ]
  },
  {
   "cell_type": "code",
   "execution_count": 15,
   "id": "704feb28",
   "metadata": {},
   "outputs": [],
   "source": [
    "#HyperSpy ha cargado los datos en un objeto EELSSpectrum que hemos almacenado en la variable s. El símbolo | separa las dimensiones de navegación x, y y las dimensiones de la señal, en este caso la pérdida de energía."
   ]
  },
  {
   "cell_type": "code",
   "execution_count": 16,
   "id": "67bb2c89",
   "metadata": {},
   "outputs": [
    {
     "data": {
      "text/html": [
       "<ul style=\"margin: 0px; list-style-position: outside;\">\n",
       "                    <details open>\n",
       "                    <summary style=\"display: list-item;\">\n",
       "                    <li style=\"display: inline;\">\n",
       "                    General\n",
       "                    </li></summary>\n",
       "                    \n",
       "    <ul style=\"margin: 0px; list-style-position: outside;\">\n",
       "    <li style='margin-left:1em; padding-left: 0.5em'>original_filename = spim8.dm3</li></ul>\n",
       "    \n",
       "    <ul style=\"margin: 0px; list-style-position: outside;\">\n",
       "    <li style='margin-left:1em; padding-left: 0.5em'>title = spim8</li></ul>\n",
       "    </details></ul><ul style=\"margin: 0px; list-style-position: outside;\">\n",
       "                    <details open>\n",
       "                    <summary style=\"display: list-item;\">\n",
       "                    <li style=\"display: inline;\">\n",
       "                    Signal\n",
       "                    </li></summary>\n",
       "                    <ul style=\"margin: 0px; list-style-position: outside;\">\n",
       "                    <details closed>\n",
       "                    <summary style=\"display: list-item;\">\n",
       "                    <li style=\"display: inline;\">\n",
       "                    Noise_properties\n",
       "                    </li></summary>\n",
       "                    <ul style=\"margin: 0px; list-style-position: outside;\">\n",
       "                    <details closed>\n",
       "                    <summary style=\"display: list-item;\">\n",
       "                    <li style=\"display: inline;\">\n",
       "                    Variance_linear_model\n",
       "                    </li></summary>\n",
       "                    \n",
       "    <ul style=\"margin: 0px; list-style-position: outside;\">\n",
       "    <li style='margin-left:1em; padding-left: 0.5em'>gain_factor = 1.0</li></ul>\n",
       "    \n",
       "    <ul style=\"margin: 0px; list-style-position: outside;\">\n",
       "    <li style='margin-left:1em; padding-left: 0.5em'>gain_offset = 0.0</li></ul>\n",
       "    </details></ul></details></ul>\n",
       "    <ul style=\"margin: 0px; list-style-position: outside;\">\n",
       "    <li style='margin-left:1em; padding-left: 0.5em'>binned = True</li></ul>\n",
       "    \n",
       "    <ul style=\"margin: 0px; list-style-position: outside;\">\n",
       "    <li style='margin-left:1em; padding-left: 0.5em'>quantity = Intensity</li></ul>\n",
       "    \n",
       "    <ul style=\"margin: 0px; list-style-position: outside;\">\n",
       "    <li style='margin-left:1em; padding-left: 0.5em'>signal_type = EELS</li></ul>\n",
       "    </details></ul>"
      ],
      "text/plain": [
       "├── General\n",
       "│   ├── original_filename = spim8.dm3\n",
       "│   └── title = spim8\n",
       "└── Signal\n",
       "    ├── Noise_properties\n",
       "    │   └── Variance_linear_model\n",
       "    │       ├── gain_factor = 1.0\n",
       "    │       └── gain_offset = 0.0\n",
       "    ├── binned = True\n",
       "    ├── quantity = Intensity\n",
       "    └── signal_type = EELS"
      ]
     },
     "execution_count": 16,
     "metadata": {},
     "output_type": "execute_result"
    }
   ],
   "source": [
    "s.metadata"
   ]
  },
  {
   "cell_type": "markdown",
   "id": "c620094e",
   "metadata": {},
   "source": [
    "## Propiedades de los Ejes"
   ]
  },
  {
   "cell_type": "code",
   "execution_count": 17,
   "id": "42257e19",
   "metadata": {},
   "outputs": [
    {
     "data": {
      "text/html": [
       "<style>\n",
       "table, th, td {\n",
       "\tborder: 1px solid black;\n",
       "\tborder-collapse: collapse;\n",
       "}\n",
       "th, td {\n",
       "\tpadding: 5px;\n",
       "}\n",
       "</style>\n",
       "<p><b>< Axes manager, axes: (113, 104|1024) ></b></p>\n",
       "<table style='width:100%'>\n",
       "\n",
       "<tr> \n",
       "<th>Navigation axis name</th> \n",
       "<th>size</th> \n",
       "<th>index</th> \n",
       "<th>offset</th> \n",
       "<th>scale</th> \n",
       "<th>units</th> </tr>\n",
       "<tr> \n",
       "<td>x</td> \n",
       "<td>113</td> \n",
       "<td>0</td> \n",
       "<td>-0.0</td> \n",
       "<td>1.0327364206314087</td> \n",
       "<td>nm</td> </tr>\n",
       "<tr> \n",
       "<td>y</td> \n",
       "<td>104</td> \n",
       "<td>0</td> \n",
       "<td>-0.0</td> \n",
       "<td>1.051682710647583</td> \n",
       "<td>nm</td> </tr></table>\n",
       "<table style='width:100%'>\n",
       "\n",
       "<tr> \n",
       "<th>Signal axis name</th> \n",
       "<th>size</th> \n",
       "<th>offset</th> \n",
       "<th>scale</th> \n",
       "<th>units</th> </tr>\n",
       "<tr> \n",
       "<td>Energy loss</td> \n",
       "<td>1024</td> \n",
       "<td>-4.320000034543796</td> \n",
       "<td>0.0205758735537529</td> \n",
       "<td>eV</td> </tr></table>\n"
      ],
      "text/plain": [
       "<Axes manager, axes: (113, 104|1024)>\n",
       "            Name |   size |  index |  offset |   scale |  units \n",
       "================ | ====== | ====== | ======= | ======= | ====== \n",
       "               x |    113 |      0 |      -0 |       1 |     nm \n",
       "               y |    104 |      0 |      -0 |     1.1 |     nm \n",
       "---------------- | ------ | ------ | ------- | ------- | ------ \n",
       "     Energy loss |   1024 |        |    -4.3 |   0.021 |     eV "
      ]
     },
     "execution_count": 17,
     "metadata": {},
     "output_type": "execute_result"
    }
   ],
   "source": [
    "# Mostrar el gestor de ejes\n",
    "s.axes_manager"
   ]
  },
  {
   "cell_type": "code",
   "execution_count": 18,
   "id": "9f2c588e",
   "metadata": {},
   "outputs": [
    {
     "data": {
      "text/plain": [
       "<x axis, size: 113, index: 0>"
      ]
     },
     "execution_count": 18,
     "metadata": {},
     "output_type": "execute_result"
    }
   ],
   "source": [
    "#Obtener el primer eje del gestor de ejes:\n",
    "s.axes_manager[0]"
   ]
  },
  {
   "cell_type": "code",
   "execution_count": 19,
   "id": "fde6891a",
   "metadata": {},
   "outputs": [
    {
     "data": {
      "text/plain": [
       "<y axis, size: 104, index: 0>"
      ]
     },
     "execution_count": 19,
     "metadata": {},
     "output_type": "execute_result"
    }
   ],
   "source": [
    "s.axes_manager[1]"
   ]
  },
  {
   "cell_type": "code",
   "execution_count": 20,
   "id": "6b7082af",
   "metadata": {},
   "outputs": [
    {
     "data": {
      "text/plain": [
       "<Energy loss axis, size: 1024>"
      ]
     },
     "execution_count": 20,
     "metadata": {},
     "output_type": "execute_result"
    }
   ],
   "source": [
    "#También es posible indexar por nombre\n",
    "s.axes_manager['Energy loss']"
   ]
  },
  {
   "cell_type": "code",
   "execution_count": 21,
   "id": "ef516687",
   "metadata": {},
   "outputs": [],
   "source": [
    "# Los ejes tienen los atributos offset, scale y units"
   ]
  },
  {
   "cell_type": "code",
   "execution_count": 22,
   "id": "1c7ad59e",
   "metadata": {},
   "outputs": [
    {
     "data": {
      "text/plain": [
       "0.0205758735537529"
      ]
     },
     "execution_count": 22,
     "metadata": {},
     "output_type": "execute_result"
    }
   ],
   "source": [
    "s.axes_manager['Energy loss'].scale"
   ]
  },
  {
   "cell_type": "code",
   "execution_count": 23,
   "id": "a635b97c",
   "metadata": {},
   "outputs": [
    {
     "data": {
      "text/plain": [
       "'eV'"
      ]
     },
     "execution_count": 23,
     "metadata": {},
     "output_type": "execute_result"
    }
   ],
   "source": [
    "s.axes_manager['Energy loss'].units"
   ]
  },
  {
   "cell_type": "code",
   "execution_count": 24,
   "id": "3fbaac88",
   "metadata": {},
   "outputs": [
    {
     "data": {
      "text/plain": [
       "-4.320000034543796"
      ]
     },
     "execution_count": 24,
     "metadata": {},
     "output_type": "execute_result"
    }
   ],
   "source": [
    "s.axes_manager['Energy loss'].offset"
   ]
  },
  {
   "cell_type": "code",
   "execution_count": 25,
   "id": "392a7ace",
   "metadata": {},
   "outputs": [
    {
     "data": {
      "application/vnd.jupyter.widget-view+json": {
       "model_id": "29ece227892848128e4cbb6ea6176b90",
       "version_major": 2,
       "version_minor": 0
      },
      "text/plain": [
       "HBox(children=(Accordion(children=(VBox(children=(HBox(children=(Label(value='Name'), Text(value='x')), layout…"
      ]
     },
     "metadata": {},
     "output_type": "display_data"
    }
   ],
   "source": [
    "# Llamando el método GUI de axes manager\n",
    "s.axes_manager.gui()"
   ]
  },
  {
   "cell_type": "code",
   "execution_count": 26,
   "id": "64004f18",
   "metadata": {},
   "outputs": [
    {
     "data": {
      "application/vnd.jupyter.widget-view+json": {
       "model_id": "e046f4c32c4e4cf28b092398dd748206",
       "version_major": 2,
       "version_minor": 0
      },
      "text/plain": [
       "VBox(children=(Tab(children=(VBox(children=(HBox(children=(Label(value='Expand structures in DictionaryTreeBro…"
      ]
     },
     "metadata": {},
     "output_type": "display_data"
    }
   ],
   "source": [
    "# Llamando el método GUI de las preferencias\n",
    "hs.preferences.gui()"
   ]
  },
  {
   "cell_type": "markdown",
   "id": "d34f15e0",
   "metadata": {},
   "source": [
    "# Visualización"
   ]
  },
  {
   "cell_type": "code",
   "execution_count": 30,
   "id": "0ccb2131",
   "metadata": {},
   "outputs": [],
   "source": [
    "s.plot()"
   ]
  },
  {
   "cell_type": "code",
   "execution_count": 31,
   "id": "d4c569ce",
   "metadata": {},
   "outputs": [],
   "source": [
    "#Para cerrar\n",
    "plt.close('all')"
   ]
  },
  {
   "cell_type": "code",
   "execution_count": 32,
   "id": "dc123157",
   "metadata": {},
   "outputs": [],
   "source": [
    "#Intercambiando señal y navegación de los ejes\n",
    "im = s.to_signal2D()"
   ]
  },
  {
   "cell_type": "code",
   "execution_count": 33,
   "id": "e115cde6",
   "metadata": {},
   "outputs": [
    {
     "data": {
      "text/plain": [
       "<Signal2D, title: spim8, dimensions: (1024|113, 104)>"
      ]
     },
     "execution_count": 33,
     "metadata": {},
     "output_type": "execute_result"
    }
   ],
   "source": [
    "im"
   ]
  },
  {
   "cell_type": "code",
   "execution_count": 34,
   "id": "d12bdc4f",
   "metadata": {},
   "outputs": [],
   "source": [
    "#Visualizando ahora la misma data pero ahora en haciendo un \"filtrado de energía\"\n",
    "im.plot()"
   ]
  },
  {
   "cell_type": "code",
   "execution_count": 35,
   "id": "b3384792",
   "metadata": {},
   "outputs": [
    {
     "name": "stdout",
     "output_type": "stream",
     "text": [
      "s: <EELSSpectrum, title: spim8, dimensions: (113, 104|1024)>\n",
      "s.T: <Signal2D, title: spim8, dimensions: (1024|113, 104)>\n"
     ]
    }
   ],
   "source": [
    "# Una operación similar se puede realizar utilizando la función tranpose() o T() su acceso directo:\n",
    "print('s:', s)\n",
    "print('s.T:', s.T)"
   ]
  },
  {
   "cell_type": "code",
   "execution_count": 36,
   "id": "75e5d900",
   "metadata": {},
   "outputs": [],
   "source": [
    "#Utilizar el método `T` para trazar los datos de `s_ELS` en forma de \"energía filtrada\":\n",
    "s.T.plot()"
   ]
  },
  {
   "cell_type": "markdown",
   "id": "bf5d07fc",
   "metadata": {},
   "source": [
    "# ROI´s y operaciones interactivas"
   ]
  },
  {
   "cell_type": "code",
   "execution_count": 1,
   "id": "750e382e",
   "metadata": {},
   "outputs": [],
   "source": [
    "# Es necesario reiniciar el kernel"
   ]
  },
  {
   "cell_type": "code",
   "execution_count": 27,
   "id": "056a26f5",
   "metadata": {},
   "outputs": [],
   "source": [
    "%matplotlib qt\n",
    "import hyperspy.api as hs"
   ]
  },
  {
   "cell_type": "code",
   "execution_count": 4,
   "id": "084b0baa",
   "metadata": {},
   "outputs": [],
   "source": [
    "s_EELS = hs.load('spim8.dm3')\n",
    "s_HAADF = hs.load('spim8-df-ref.dm3')"
   ]
  },
  {
   "cell_type": "code",
   "execution_count": 9,
   "id": "bf39bb79",
   "metadata": {},
   "outputs": [],
   "source": [
    "#Graficando s_EELS\n",
    "s_EELS.plot()"
   ]
  },
  {
   "cell_type": "code",
   "execution_count": 10,
   "id": "f80c23a6",
   "metadata": {},
   "outputs": [],
   "source": [
    "#Graficando s_HAADF\n",
    "s_HAADF.plot()"
   ]
  },
  {
   "cell_type": "code",
   "execution_count": 7,
   "id": "39408c04",
   "metadata": {},
   "outputs": [],
   "source": [
    "#Hay varios tipos de regiones de interés (ROI) disponibles, y están disponibles en hs.roi"
   ]
  },
  {
   "cell_type": "code",
   "execution_count": 8,
   "id": "77282844",
   "metadata": {},
   "outputs": [
    {
     "data": {
      "text/plain": [
       "['CircleROI',\n",
       " 'Line2DROI',\n",
       " 'Point1DROI',\n",
       " 'Point2DROI',\n",
       " 'RectangularROI',\n",
       " 'SpanROI',\n",
       " '__builtins__',\n",
       " '__cached__',\n",
       " '__doc__',\n",
       " '__file__',\n",
       " '__loader__',\n",
       " '__name__',\n",
       " '__package__',\n",
       " '__spec__',\n",
       " 'hyperspy']"
      ]
     },
     "execution_count": 8,
     "metadata": {},
     "output_type": "execute_result"
    }
   ],
   "source": [
    "#Lista de todos los ROI disponibles utilizando la función `dir` :\n",
    "dir(hs.roi)"
   ]
  },
  {
   "cell_type": "code",
   "execution_count": 11,
   "id": "2cc45492",
   "metadata": {},
   "outputs": [],
   "source": [
    "#Creando un roi circular usando `RectangularROI` y asígnelo a `roi_rectangle`\n",
    "roi_rectangle = hs.roi.RectangularROI(left=0.5, top=1.0, right=1.5, bottom=2.0)"
   ]
  },
  {
   "cell_type": "code",
   "execution_count": 12,
   "id": "8bae72c3",
   "metadata": {},
   "outputs": [],
   "source": [
    "#Añadiendo el objeto `roi_rectangle` a la gráfica de `s_EELS` llamando al método `interactivo` de `roi_rectangle`:\n",
    "s_EELS_roi = roi_rectangle.interactive(s_EELS)"
   ]
  },
  {
   "cell_type": "code",
   "execution_count": 13,
   "id": "b8501d9f",
   "metadata": {},
   "outputs": [],
   "source": [
    "#Graficando la señal definida por s_EELS_roi:\n",
    "s_EELS_roi.plot()    "
   ]
  },
  {
   "cell_type": "code",
   "execution_count": 14,
   "id": "ffb2cc78",
   "metadata": {},
   "outputs": [],
   "source": [
    "#Creando un roi circular usando roi_circle\n",
    "#Por ejemplo usando los parámetros: cx=2, cy=2, r=1\n",
    "roi_circle = hs.roi.CircleROI(1, 1, 1)"
   ]
  },
  {
   "cell_type": "code",
   "execution_count": 15,
   "id": "062a3ddd",
   "metadata": {},
   "outputs": [],
   "source": [
    "# Añadiendo el objeto `roi_circle` a la gráfica de `s_EELS` pero esta vez `recompute_out_event`a `None` y\n",
    "# modificar el color del roi a azul utilizando el argumento `color`:\n",
    "s_EELS_roi_fast = roi_circle.interactive(s_EELS, recompute_out_event=None, color='blue')"
   ]
  },
  {
   "cell_type": "markdown",
   "id": "5eb78059",
   "metadata": {},
   "source": [
    "#### El mismo roi puede también ser añadido a muchas otras señales. Por ejemplo, podemos añadir el roi a la señal HAADF adquirida simultánemente."
   ]
  },
  {
   "cell_type": "code",
   "execution_count": 16,
   "id": "4bf4d300",
   "metadata": {},
   "outputs": [
    {
     "data": {
      "text/plain": [
       "<hyperspy.drawing._widgets.circle.CircleWidget at 0x1c8820ea760>"
      ]
     },
     "execution_count": 16,
     "metadata": {},
     "output_type": "execute_result"
    }
   ],
   "source": [
    "#Añadiendo el `roi_circle` a la gráfica de `s_HAADF` llamando el método `add_widgets` a `roi_circle`:\n",
    "roi_circle.add_widget(s_HAADF)"
   ]
  },
  {
   "cell_type": "markdown",
   "id": "98780379",
   "metadata": {},
   "source": [
    "#### Es posible encadenar operaciones interactivas, tomamos la suma de s_EELS_roi "
   ]
  },
  {
   "cell_type": "code",
   "execution_count": 17,
   "id": "13f2d157",
   "metadata": {},
   "outputs": [],
   "source": [
    "# Usando la función 'hs.interactive' para, de forma interactiva, calcular la suma de s_EELS_roi_fast \n",
    "# y asignar su output a 's_EELS_roi_sum':\n",
    "s_EELS_roi_fast_sum = hs.interactive(s_EELS_roi_fast.sum, recompute_out_event=None)"
   ]
  },
  {
   "cell_type": "code",
   "execution_count": 19,
   "id": "40f8186f",
   "metadata": {},
   "outputs": [],
   "source": [
    "# Gráfica de `s_EELS_roi_sum`:\n",
    "s_EELS_roi_fast_sum.plot()"
   ]
  },
  {
   "cell_type": "markdown",
   "id": "f4105608",
   "metadata": {},
   "source": [
    "# Alineamiento del ZLP"
   ]
  },
  {
   "cell_type": "code",
   "execution_count": 37,
   "id": "d1db9867",
   "metadata": {},
   "outputs": [],
   "source": [
    "s = hs.load(\"spim8.dm3\")"
   ]
  },
  {
   "cell_type": "code",
   "execution_count": 38,
   "id": "b69b8c29",
   "metadata": {},
   "outputs": [],
   "source": [
    "s.plot()"
   ]
  },
  {
   "cell_type": "code",
   "execution_count": 39,
   "id": "edd34926",
   "metadata": {
    "scrolled": true
   },
   "outputs": [
    {
     "name": "stdout",
     "output_type": "stream",
     "text": [
      "\n",
      "Initial ZLP position statistics\n",
      "-------------------------------\n",
      "Summary statistics\n",
      "------------------\n",
      "mean:\t-0.194\n",
      "std:\t0.039\n",
      "\n",
      "min:\t-0.328\n",
      "Q1:\t-0.225\n",
      "median:\t-0.184\n",
      "Q3:\t-0.164\n",
      "max:\t-0.0608\n"
     ]
    },
    {
     "data": {
      "application/vnd.jupyter.widget-view+json": {
       "model_id": "bb2388225e584560aae20dcf3c87d722",
       "version_major": 2,
       "version_minor": 0
      },
      "text/plain": [
       "  0%|          | 0/11752 [00:00<?, ?it/s]"
      ]
     },
     "metadata": {},
     "output_type": "display_data"
    },
    {
     "name": "stderr",
     "output_type": "stream",
     "text": [
      "C:\\Users\\50769\\HyperSpy-bundle\\lib\\site-packages\\numpy\\core\\fromnumeric.py:87: RuntimeWarning: invalid value encountered in reduce\n",
      "  return ufunc.reduce(obj, axis, dtype, out, **passkwargs)\n"
     ]
    },
    {
     "data": {
      "application/vnd.jupyter.widget-view+json": {
       "model_id": "b2a808554679416d982c6ae956a6b69d",
       "version_major": 2,
       "version_minor": 0
      },
      "text/plain": [
       "  0%|          | 0/11752 [00:00<?, ?it/s]"
      ]
     },
     "metadata": {},
     "output_type": "display_data"
    },
    {
     "data": {
      "application/vnd.jupyter.widget-view+json": {
       "model_id": "d1cb7d7fa91a44d0a528c86b9cd4d4ca",
       "version_major": 2,
       "version_minor": 0
      },
      "text/plain": [
       "  0%|          | 0/11752 [00:00<?, ?it/s]"
      ]
     },
     "metadata": {},
     "output_type": "display_data"
    },
    {
     "name": "stderr",
     "output_type": "stream",
     "text": [
      "Exception ignored in: <function tqdm.__del__ at 0x00000200D90EF310>\n",
      "Traceback (most recent call last):\n",
      "  File \"C:\\Users\\50769\\HyperSpy-bundle\\lib\\site-packages\\tqdm\\std.py\", line 1147, in __del__\n",
      "    self.close()\n",
      "  File \"C:\\Users\\50769\\HyperSpy-bundle\\lib\\site-packages\\tqdm\\notebook.py\", line 289, in close\n",
      "    self.disp(bar_style='success', check_delay=False)\n",
      "  File \"C:\\Users\\50769\\HyperSpy-bundle\\lib\\site-packages\\tqdm\\notebook.py\", line 167, in display\n",
      "    pbar.value = self.n\n",
      "  File \"C:\\Users\\50769\\HyperSpy-bundle\\lib\\site-packages\\traitlets\\traitlets.py\", line 606, in __set__\n",
      "    self.set(obj, value)\n",
      "  File \"C:\\Users\\50769\\HyperSpy-bundle\\lib\\site-packages\\traitlets\\traitlets.py\", line 595, in set\n",
      "    obj._notify_trait(self.name, old_value, new_value)\n",
      "  File \"C:\\Users\\50769\\HyperSpy-bundle\\lib\\site-packages\\traitlets\\traitlets.py\", line 1219, in _notify_trait\n",
      "    self.notify_change(Bunch(\n",
      "  File \"C:\\Users\\50769\\HyperSpy-bundle\\lib\\site-packages\\ipywidgets\\widgets\\widget.py\", line 605, in notify_change\n",
      "    self.send_state(key=name)\n",
      "  File \"C:\\Users\\50769\\HyperSpy-bundle\\lib\\site-packages\\ipywidgets\\widgets\\widget.py\", line 489, in send_state\n",
      "    self._send(msg, buffers=buffers)\n",
      "  File \"C:\\Users\\50769\\HyperSpy-bundle\\lib\\site-packages\\ipywidgets\\widgets\\widget.py\", line 737, in _send\n",
      "    self.comm.send(data=msg, buffers=buffers)\n",
      "  File \"C:\\Users\\50769\\HyperSpy-bundle\\lib\\site-packages\\ipykernel\\comm\\comm.py\", line 122, in send\n",
      "    self._publish_msg('comm_msg',\n",
      "  File \"C:\\Users\\50769\\HyperSpy-bundle\\lib\\site-packages\\ipykernel\\comm\\comm.py\", line 66, in _publish_msg\n",
      "    self.kernel.session.send(self.kernel.iopub_socket, msg_type,\n",
      "  File \"C:\\Users\\50769\\HyperSpy-bundle\\lib\\site-packages\\jupyter_client\\session.py\", line 753, in send\n",
      "    stream.send_multipart(to_send, copy=copy)\n",
      "  File \"C:\\Users\\50769\\HyperSpy-bundle\\lib\\site-packages\\ipykernel\\iostream.py\", line 283, in send_multipart\n",
      "    return self.io_thread.send_multipart(*args, **kwargs)\n",
      "  File \"C:\\Users\\50769\\HyperSpy-bundle\\lib\\site-packages\\ipykernel\\iostream.py\", line 223, in send_multipart\n",
      "    self.schedule(lambda : self._really_send(*args, **kwargs))\n",
      "  File \"C:\\Users\\50769\\HyperSpy-bundle\\lib\\site-packages\\ipykernel\\iostream.py\", line 214, in schedule\n",
      "    self._event_pipe.send(b'')\n",
      "  File \"C:\\Users\\50769\\HyperSpy-bundle\\lib\\site-packages\\zmq\\sugar\\socket.py\", line 547, in send\n",
      "    return super(Socket, self).send(data, flags=flags, copy=copy, track=track)\n",
      "  File \"zmq/backend/cython/socket.pyx\", line 718, in zmq.backend.cython.socket.Socket.send\n",
      "  File \"zmq/backend/cython/socket.pyx\", line 765, in zmq.backend.cython.socket.Socket.send\n",
      "  File \"zmq/backend/cython/socket.pyx\", line 242, in zmq.backend.cython.socket._send_copy\n",
      "  File \"zmq/backend/cython/checkrc.pxd\", line 13, in zmq.backend.cython.checkrc._check_rc\n",
      "    PyErr_CheckSignals()\n",
      "KeyboardInterrupt: \n",
      "C:\\Users\\50769\\HyperSpy-bundle\\lib\\site-packages\\numpy\\core\\fromnumeric.py:87: RuntimeWarning: invalid value encountered in reduce\n",
      "  return ufunc.reduce(obj, axis, dtype, out, **passkwargs)\n"
     ]
    }
   ],
   "source": [
    "s.align_zero_loss_peak()"
   ]
  },
  {
   "cell_type": "code",
   "execution_count": 41,
   "id": "077495da",
   "metadata": {},
   "outputs": [],
   "source": [
    "s.plot()"
   ]
  },
  {
   "cell_type": "markdown",
   "id": "4cb0ff7c",
   "metadata": {},
   "source": [
    "# Remover Spikes"
   ]
  },
  {
   "cell_type": "code",
   "execution_count": 42,
   "id": "65ee630c",
   "metadata": {},
   "outputs": [
    {
     "data": {
      "application/vnd.jupyter.widget-view+json": {
       "model_id": "599cc01aa53d408fb86e81aa958736ee",
       "version_major": 2,
       "version_minor": 0
      },
      "text/plain": [
       "VBox(children=(VBox(children=(Button(description='Show derivative histogram', layout=Layout(width='auto'), sty…"
      ]
     },
     "metadata": {},
     "output_type": "display_data"
    }
   ],
   "source": [
    "s.spikes_removal_tool()"
   ]
  },
  {
   "cell_type": "markdown",
   "id": "c9d16ef2",
   "metadata": {},
   "source": [
    "# Deconvolución"
   ]
  },
  {
   "cell_type": "code",
   "execution_count": 44,
   "id": "866a5e30",
   "metadata": {},
   "outputs": [],
   "source": [
    "sdata=hs.load(\"spim1_aligned.dm3\")"
   ]
  },
  {
   "cell_type": "code",
   "execution_count": 45,
   "id": "03a35adb",
   "metadata": {},
   "outputs": [],
   "source": [
    "zpl=hs.load(\"spim1zpl.dm3\")"
   ]
  },
  {
   "cell_type": "code",
   "execution_count": 46,
   "id": "87ce3a2d",
   "metadata": {},
   "outputs": [
    {
     "data": {
      "application/vnd.jupyter.widget-view+json": {
       "model_id": "dee01583b4e949738fd15ed1791527ea",
       "version_major": 2,
       "version_minor": 0
      },
      "text/plain": [
       "  0%|          | 0/5625 [00:00<?, ?it/s]"
      ]
     },
     "metadata": {},
     "output_type": "display_data"
    },
    {
     "ename": "KeyboardInterrupt",
     "evalue": "",
     "output_type": "error",
     "traceback": [
      "\u001b[1;31m---------------------------------------------------------------------------\u001b[0m",
      "\u001b[1;31mKeyboardInterrupt\u001b[0m                         Traceback (most recent call last)",
      "\u001b[1;32m~\\AppData\\Local\\Temp/ipykernel_11096/3352768684.py\u001b[0m in \u001b[0;36m<module>\u001b[1;34m\u001b[0m\n\u001b[1;32m----> 1\u001b[1;33m \u001b[0msdata\u001b[0m\u001b[1;33m=\u001b[0m\u001b[0msdata\u001b[0m\u001b[1;33m.\u001b[0m\u001b[0mrichardson_lucy_deconvolution\u001b[0m\u001b[1;33m(\u001b[0m\u001b[0mzpl\u001b[0m\u001b[1;33m,\u001b[0m\u001b[0miterations\u001b[0m\u001b[1;33m=\u001b[0m\u001b[1;36m15\u001b[0m\u001b[1;33m,\u001b[0m\u001b[0mmask\u001b[0m\u001b[1;33m=\u001b[0m\u001b[1;32mNone\u001b[0m\u001b[1;33m,\u001b[0m\u001b[0mshow_progressbar\u001b[0m\u001b[1;33m=\u001b[0m\u001b[1;32mNone\u001b[0m\u001b[1;33m)\u001b[0m\u001b[1;33m\u001b[0m\u001b[1;33m\u001b[0m\u001b[0m\n\u001b[0m",
      "\u001b[1;32m~\\HyperSpy-bundle\\lib\\site-packages\\hyperspy\\_signals\\eels.py\u001b[0m in \u001b[0;36mrichardson_lucy_deconvolution\u001b[1;34m(self, psf, iterations, mask, show_progressbar, parallel, max_workers)\u001b[0m\n\u001b[0;32m    984\u001b[0m                                       first)[mimax:mimax + psf_size]\n\u001b[0;32m    985\u001b[0m             \u001b[1;32mreturn\u001b[0m \u001b[0mresult\u001b[0m\u001b[1;33m\u001b[0m\u001b[1;33m\u001b[0m\u001b[0m\n\u001b[1;32m--> 986\u001b[1;33m         ds = self.map(deconv_function, kernel=psf, iterations=iterations,\n\u001b[0m\u001b[0;32m    987\u001b[0m                       \u001b[0mpsf_size\u001b[0m\u001b[1;33m=\u001b[0m\u001b[0mpsf_size\u001b[0m\u001b[1;33m,\u001b[0m \u001b[0mshow_progressbar\u001b[0m\u001b[1;33m=\u001b[0m\u001b[0mshow_progressbar\u001b[0m\u001b[1;33m,\u001b[0m\u001b[1;33m\u001b[0m\u001b[1;33m\u001b[0m\u001b[0m\n\u001b[0;32m    988\u001b[0m                       \u001b[0mparallel\u001b[0m\u001b[1;33m=\u001b[0m\u001b[0mparallel\u001b[0m\u001b[1;33m,\u001b[0m \u001b[0mmax_workers\u001b[0m\u001b[1;33m=\u001b[0m\u001b[0mmax_workers\u001b[0m\u001b[1;33m,\u001b[0m\u001b[1;33m\u001b[0m\u001b[1;33m\u001b[0m\u001b[0m\n",
      "\u001b[1;32m~\\HyperSpy-bundle\\lib\\site-packages\\hyperspy\\signal.py\u001b[0m in \u001b[0;36mmap\u001b[1;34m(self, function, show_progressbar, parallel, max_workers, inplace, ragged, output_signal_size, output_dtype, **kwargs)\u001b[0m\n\u001b[0;32m   4591\u001b[0m                 \u001b[0mkwargs\u001b[0m\u001b[1;33m[\u001b[0m\u001b[1;34m\"output_dtype\"\u001b[0m\u001b[1;33m]\u001b[0m \u001b[1;33m=\u001b[0m \u001b[0moutput_dtype\u001b[0m\u001b[1;33m\u001b[0m\u001b[1;33m\u001b[0m\u001b[0m\n\u001b[0;32m   4592\u001b[0m             \u001b[1;31m# Iteration over coordinates.\u001b[0m\u001b[1;33m\u001b[0m\u001b[1;33m\u001b[0m\u001b[1;33m\u001b[0m\u001b[0m\n\u001b[1;32m-> 4593\u001b[1;33m             res = self._map_iterate(function, iterating_kwargs=ndkwargs,\n\u001b[0m\u001b[0;32m   4594\u001b[0m                                     \u001b[0mshow_progressbar\u001b[0m\u001b[1;33m=\u001b[0m\u001b[0mshow_progressbar\u001b[0m\u001b[1;33m,\u001b[0m\u001b[1;33m\u001b[0m\u001b[1;33m\u001b[0m\u001b[0m\n\u001b[0;32m   4595\u001b[0m                                     \u001b[0mparallel\u001b[0m\u001b[1;33m=\u001b[0m\u001b[0mparallel\u001b[0m\u001b[1;33m,\u001b[0m\u001b[1;33m\u001b[0m\u001b[1;33m\u001b[0m\u001b[0m\n",
      "\u001b[1;32m~\\HyperSpy-bundle\\lib\\site-packages\\hyperspy\\signal.py\u001b[0m in \u001b[0;36m_map_iterate\u001b[1;34m(self, function, iterating_kwargs, show_progressbar, parallel, max_workers, ragged, inplace, **kwargs)\u001b[0m\n\u001b[0;32m   4733\u001b[0m \u001b[1;33m\u001b[0m\u001b[0m\n\u001b[0;32m   4734\u001b[0m             \u001b[1;32mwith\u001b[0m \u001b[0mThreadPoolExecutor\u001b[0m\u001b[1;33m(\u001b[0m\u001b[0mmax_workers\u001b[0m\u001b[1;33m=\u001b[0m\u001b[0mmax_workers\u001b[0m\u001b[1;33m)\u001b[0m \u001b[1;32mas\u001b[0m \u001b[0mexecutor\u001b[0m\u001b[1;33m:\u001b[0m\u001b[1;33m\u001b[0m\u001b[1;33m\u001b[0m\u001b[0m\n\u001b[1;32m-> 4735\u001b[1;33m                 for ind, res in zip(\n\u001b[0m\u001b[0;32m   4736\u001b[0m                     \u001b[0mrange\u001b[0m\u001b[1;33m(\u001b[0m\u001b[0mres_data\u001b[0m\u001b[1;33m.\u001b[0m\u001b[0msize\u001b[0m\u001b[1;33m)\u001b[0m\u001b[1;33m,\u001b[0m \u001b[0mexecutor\u001b[0m\u001b[1;33m.\u001b[0m\u001b[0mmap\u001b[0m\u001b[1;33m(\u001b[0m\u001b[0mfunc\u001b[0m\u001b[1;33m,\u001b[0m \u001b[0mzip\u001b[0m\u001b[1;33m(\u001b[0m\u001b[1;33m*\u001b[0m\u001b[0miterators\u001b[0m\u001b[1;33m)\u001b[0m\u001b[1;33m)\u001b[0m\u001b[1;33m\u001b[0m\u001b[1;33m\u001b[0m\u001b[0m\n\u001b[0;32m   4737\u001b[0m                 ):\n",
      "\u001b[1;32m~\\HyperSpy-bundle\\lib\\concurrent\\futures\\_base.py\u001b[0m in \u001b[0;36mresult_iterator\u001b[1;34m()\u001b[0m\n\u001b[0;32m    617\u001b[0m                     \u001b[1;31m# Careful not to keep a reference to the popped future\u001b[0m\u001b[1;33m\u001b[0m\u001b[1;33m\u001b[0m\u001b[1;33m\u001b[0m\u001b[0m\n\u001b[0;32m    618\u001b[0m                     \u001b[1;32mif\u001b[0m \u001b[0mtimeout\u001b[0m \u001b[1;32mis\u001b[0m \u001b[1;32mNone\u001b[0m\u001b[1;33m:\u001b[0m\u001b[1;33m\u001b[0m\u001b[1;33m\u001b[0m\u001b[0m\n\u001b[1;32m--> 619\u001b[1;33m                         \u001b[1;32myield\u001b[0m \u001b[0mfs\u001b[0m\u001b[1;33m.\u001b[0m\u001b[0mpop\u001b[0m\u001b[1;33m(\u001b[0m\u001b[1;33m)\u001b[0m\u001b[1;33m.\u001b[0m\u001b[0mresult\u001b[0m\u001b[1;33m(\u001b[0m\u001b[1;33m)\u001b[0m\u001b[1;33m\u001b[0m\u001b[1;33m\u001b[0m\u001b[0m\n\u001b[0m\u001b[0;32m    620\u001b[0m                     \u001b[1;32melse\u001b[0m\u001b[1;33m:\u001b[0m\u001b[1;33m\u001b[0m\u001b[1;33m\u001b[0m\u001b[0m\n\u001b[0;32m    621\u001b[0m                         \u001b[1;32myield\u001b[0m \u001b[0mfs\u001b[0m\u001b[1;33m.\u001b[0m\u001b[0mpop\u001b[0m\u001b[1;33m(\u001b[0m\u001b[1;33m)\u001b[0m\u001b[1;33m.\u001b[0m\u001b[0mresult\u001b[0m\u001b[1;33m(\u001b[0m\u001b[0mend_time\u001b[0m \u001b[1;33m-\u001b[0m \u001b[0mtime\u001b[0m\u001b[1;33m.\u001b[0m\u001b[0mmonotonic\u001b[0m\u001b[1;33m(\u001b[0m\u001b[1;33m)\u001b[0m\u001b[1;33m)\u001b[0m\u001b[1;33m\u001b[0m\u001b[1;33m\u001b[0m\u001b[0m\n",
      "\u001b[1;32m~\\HyperSpy-bundle\\lib\\concurrent\\futures\\_base.py\u001b[0m in \u001b[0;36mresult\u001b[1;34m(self, timeout)\u001b[0m\n\u001b[0;32m    437\u001b[0m                     \u001b[1;32mreturn\u001b[0m \u001b[0mself\u001b[0m\u001b[1;33m.\u001b[0m\u001b[0m__get_result\u001b[0m\u001b[1;33m(\u001b[0m\u001b[1;33m)\u001b[0m\u001b[1;33m\u001b[0m\u001b[1;33m\u001b[0m\u001b[0m\n\u001b[0;32m    438\u001b[0m \u001b[1;33m\u001b[0m\u001b[0m\n\u001b[1;32m--> 439\u001b[1;33m                 \u001b[0mself\u001b[0m\u001b[1;33m.\u001b[0m\u001b[0m_condition\u001b[0m\u001b[1;33m.\u001b[0m\u001b[0mwait\u001b[0m\u001b[1;33m(\u001b[0m\u001b[0mtimeout\u001b[0m\u001b[1;33m)\u001b[0m\u001b[1;33m\u001b[0m\u001b[1;33m\u001b[0m\u001b[0m\n\u001b[0m\u001b[0;32m    440\u001b[0m \u001b[1;33m\u001b[0m\u001b[0m\n\u001b[0;32m    441\u001b[0m                 \u001b[1;32mif\u001b[0m \u001b[0mself\u001b[0m\u001b[1;33m.\u001b[0m\u001b[0m_state\u001b[0m \u001b[1;32min\u001b[0m \u001b[1;33m[\u001b[0m\u001b[0mCANCELLED\u001b[0m\u001b[1;33m,\u001b[0m \u001b[0mCANCELLED_AND_NOTIFIED\u001b[0m\u001b[1;33m]\u001b[0m\u001b[1;33m:\u001b[0m\u001b[1;33m\u001b[0m\u001b[1;33m\u001b[0m\u001b[0m\n",
      "\u001b[1;32m~\\HyperSpy-bundle\\lib\\threading.py\u001b[0m in \u001b[0;36mwait\u001b[1;34m(self, timeout)\u001b[0m\n\u001b[0;32m    300\u001b[0m         \u001b[1;32mtry\u001b[0m\u001b[1;33m:\u001b[0m    \u001b[1;31m# restore state no matter what (e.g., KeyboardInterrupt)\u001b[0m\u001b[1;33m\u001b[0m\u001b[1;33m\u001b[0m\u001b[0m\n\u001b[0;32m    301\u001b[0m             \u001b[1;32mif\u001b[0m \u001b[0mtimeout\u001b[0m \u001b[1;32mis\u001b[0m \u001b[1;32mNone\u001b[0m\u001b[1;33m:\u001b[0m\u001b[1;33m\u001b[0m\u001b[1;33m\u001b[0m\u001b[0m\n\u001b[1;32m--> 302\u001b[1;33m                 \u001b[0mwaiter\u001b[0m\u001b[1;33m.\u001b[0m\u001b[0macquire\u001b[0m\u001b[1;33m(\u001b[0m\u001b[1;33m)\u001b[0m\u001b[1;33m\u001b[0m\u001b[1;33m\u001b[0m\u001b[0m\n\u001b[0m\u001b[0;32m    303\u001b[0m                 \u001b[0mgotit\u001b[0m \u001b[1;33m=\u001b[0m \u001b[1;32mTrue\u001b[0m\u001b[1;33m\u001b[0m\u001b[1;33m\u001b[0m\u001b[0m\n\u001b[0;32m    304\u001b[0m             \u001b[1;32melse\u001b[0m\u001b[1;33m:\u001b[0m\u001b[1;33m\u001b[0m\u001b[1;33m\u001b[0m\u001b[0m\n",
      "\u001b[1;31mKeyboardInterrupt\u001b[0m: "
     ]
    }
   ],
   "source": [
    "sdata=sdata.richardson_lucy_deconvolution(zpl,iterations=15,mask=None,show_progressbar=None)"
   ]
  },
  {
   "cell_type": "markdown",
   "id": "c47eac2f",
   "metadata": {},
   "source": [
    "# Salvar Data"
   ]
  },
  {
   "cell_type": "code",
   "execution_count": null,
   "id": "f9183b5b",
   "metadata": {},
   "outputs": [],
   "source": [
    "s.save('Spim1_aligned.rpl') "
   ]
  },
  {
   "cell_type": "markdown",
   "id": "05e2afa3",
   "metadata": {},
   "source": [
    "### Ejemplo de Spim luego de procesamiento"
   ]
  },
  {
   "cell_type": "code",
   "execution_count": 28,
   "id": "7e34182d",
   "metadata": {},
   "outputs": [
    {
     "data": {
      "text/html": [
       "<video src=\"video.mp4\" controls  >\n",
       "      Your browser does not support the <code>video</code> element.\n",
       "    </video>"
      ],
      "text/plain": [
       "<IPython.core.display.Video object>"
      ]
     },
     "execution_count": 28,
     "metadata": {},
     "output_type": "execute_result"
    }
   ],
   "source": [
    "from IPython.display import Video\n",
    "filename='video.mp4'\n",
    "Video(filename)"
   ]
  },
  {
   "cell_type": "code",
   "execution_count": null,
   "id": "14021c80",
   "metadata": {},
   "outputs": [],
   "source": []
  }
 ],
 "metadata": {
  "kernelspec": {
   "display_name": "Python 3 (ipykernel)",
   "language": "python",
   "name": "python3"
  },
  "language_info": {
   "codemirror_mode": {
    "name": "ipython",
    "version": 3
   },
   "file_extension": ".py",
   "mimetype": "text/x-python",
   "name": "python",
   "nbconvert_exporter": "python",
   "pygments_lexer": "ipython3",
   "version": "3.9.7"
  }
 },
 "nbformat": 4,
 "nbformat_minor": 5
}
