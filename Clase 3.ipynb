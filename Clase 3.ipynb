{
 "cells": [
  {
   "cell_type": "markdown",
   "id": "37eb34c4",
   "metadata": {},
   "source": [
    "# Problemas"
   ]
  },
  {
   "cell_type": "markdown",
   "id": "27606a98",
   "metadata": {},
   "source": [
    "### Problema 1\n",
    "La ecuación para la altura de una pelota en caída libre es $y = -1/2 g t^2 + v_0 t$ donde\n",
    "\n",
    "* $t$ es tiempo\n",
    "* $y$ es altura\n",
    "* $v_0$ es la velocidad inicial\n",
    "* $g$ es la gravedad\n",
    "\n",
    "Julio lanza una pelota a 10m/s y Marcos lanza otra pelota a 15m/s hacia arriba. Grafique la altura de las pelotas como función del tiempo desde 0 to 2 segundos"
   ]
  },
  {
   "cell_type": "code",
   "execution_count": 2,
   "id": "f2c388b2",
   "metadata": {},
   "outputs": [],
   "source": [
    "import numpy as np\n",
    "import matplotlib.pyplot as plt"
   ]
  },
  {
   "cell_type": "code",
   "execution_count": 7,
   "id": "2445e4c0",
   "metadata": {},
   "outputs": [],
   "source": [
    "t=np.linspace(0,2,100)\n",
    "g=9.81\n",
    "v0_J=10\n",
    "v0_M=15"
   ]
  },
  {
   "cell_type": "code",
   "execution_count": 8,
   "id": "ca139783",
   "metadata": {},
   "outputs": [],
   "source": [
    "y_J=-(1/2)*g*(t**2) + v0_J*t\n",
    "y_M=-(1/2)*g*(t**2) + v0_M*t"
   ]
  },
  {
   "cell_type": "code",
   "execution_count": 18,
   "id": "ccb4d90e",
   "metadata": {},
   "outputs": [
    {
     "data": {
      "text/plain": [
       "<matplotlib.legend.Legend at 0x1aa67ddd3a0>"
      ]
     },
     "execution_count": 18,
     "metadata": {},
     "output_type": "execute_result"
    },
    {
     "data": {
      "image/png": "[encoded data removed]",
      "text/plain": [
       "<Figure size 432x288 with 1 Axes>"
      ]
     },
     "metadata": {
      "needs_background": "light"
     },
     "output_type": "display_data"
    }
   ],
   "source": [
    "plt.plot(t,y_J,'ro--', label='Julio')\n",
    "plt.plot(t,y_M,'bo--', label='Marcos')\n",
    "plt.xlabel('tiempo')\n",
    "plt.ylabel('altura')\n",
    "plt.grid()\n",
    "plt.legend()"
   ]
  },
  {
   "cell_type": "markdown",
   "id": "1d77a562",
   "metadata": {},
   "source": [
    "### Problema 2:\n",
    "\n",
    "El siguiente poema está organizado de tal forma que cada línea del poema es un elemento de la lista llamada poem\n",
    "\n",
    "`poem=['when day comes we ask ourselves,',\n",
    "    'where can we find light in this never-ending shade?',\n",
    "    'the loss we carry,',\n",
    "    'a sea we must wade',\n",
    "    \"we've braved the belly of the beast\",\n",
    "    \"we've learned that quiet isn't always peace\",\n",
    "    \"and the norms and notions\",\n",
    "    \"of what just is\"]`\n",
    "    \n",
    "Busque entre todas las líneas del poema y si una línea contiene los carácteres `'we'`, entonces imprima `'la línea __ contiene we'` donde `'__'` es el número de línea."
   ]
  },
  {
   "cell_type": "code",
   "execution_count": 19,
   "id": "802403ce",
   "metadata": {},
   "outputs": [],
   "source": [
    "poem=['when day comes we ask ourselves,',\n",
    "    'where can we find light in this never-ending shade?',\n",
    "    'the loss we carry,',\n",
    "    'a sea we must wade',\n",
    "    \"we've braved the belly of the beast\",\n",
    "    \"we've learned that quiet isn't always peace\",\n",
    "    \"and the norms and notions\",\n",
    "    \"of what just is\"]"
   ]
  },
  {
   "cell_type": "code",
   "execution_count": 22,
   "id": "13402b73",
   "metadata": {},
   "outputs": [
    {
     "name": "stdout",
     "output_type": "stream",
     "text": [
      "La Línea 1 contiene we\n",
      "La Línea 2 contiene we\n",
      "La Línea 3 contiene we\n",
      "La Línea 4 contiene we\n",
      "La Línea 5 contiene we\n",
      "La Línea 6 contiene we\n"
     ]
    }
   ],
   "source": [
    "for i, línea in enumerate(poem):\n",
    "    if 'we' in línea:\n",
    "        print('La Línea {} contiene we'.format(i+1))"
   ]
  },
  {
   "cell_type": "markdown",
   "id": "3fce34ee",
   "metadata": {},
   "source": [
    "### Problema 3\n",
    "a) Sume todos los números del 1 al 100\n",
    "\n",
    "b) Sume todos los números del 1 al 100, excepto por aquellos que sean divisibles por 4 \n",
    "\n",
    "c) Sume todos los números del 1 al 100, excepto por aquellos que sean divisibles por 4 y divisibles por 6"
   ]
  },
  {
   "cell_type": "code",
   "execution_count": 27,
   "id": "fea12162",
   "metadata": {},
   "outputs": [],
   "source": [
    "suma=0\n",
    "for i in range (101):\n",
    "    suma=suma+i\n",
    "    #suma+=i"
   ]
  },
  {
   "cell_type": "code",
   "execution_count": 28,
   "id": "e22bac54",
   "metadata": {},
   "outputs": [
    {
     "data": {
      "text/plain": [
       "5050"
      ]
     },
     "execution_count": 28,
     "metadata": {},
     "output_type": "execute_result"
    }
   ],
   "source": [
    "suma"
   ]
  },
  {
   "cell_type": "code",
   "execution_count": 34,
   "id": "27b7293f",
   "metadata": {},
   "outputs": [],
   "source": [
    "suma=0\n",
    "for i in range(101):\n",
    "    if not(i%4==0):\n",
    "        suma=suma+i"
   ]
  },
  {
   "cell_type": "code",
   "execution_count": 36,
   "id": "cc08a039",
   "metadata": {},
   "outputs": [],
   "source": [
    "suma=0\n",
    "for i in range(101):\n",
    "    if i%4!=0:\n",
    "        suma=suma+i"
   ]
  },
  {
   "cell_type": "code",
   "execution_count": 37,
   "id": "a4c299a9",
   "metadata": {},
   "outputs": [
    {
     "data": {
      "text/plain": [
       "3750"
      ]
     },
     "execution_count": 37,
     "metadata": {},
     "output_type": "execute_result"
    }
   ],
   "source": [
    "suma"
   ]
  },
  {
   "cell_type": "code",
   "execution_count": 40,
   "id": "62c74d1c",
   "metadata": {},
   "outputs": [],
   "source": [
    "suma=0\n",
    "for i in range(101):\n",
    "    if not(i%4==0) and not(i%6==0):\n",
    "        suma=suma+i"
   ]
  },
  {
   "cell_type": "code",
   "execution_count": 41,
   "id": "7588b462",
   "metadata": {},
   "outputs": [
    {
     "data": {
      "text/plain": [
       "3366"
      ]
     },
     "execution_count": 41,
     "metadata": {},
     "output_type": "execute_result"
    }
   ],
   "source": [
    "suma"
   ]
  },
  {
   "cell_type": "markdown",
   "id": "77d691c9",
   "metadata": {},
   "source": [
    "### Problema 4\n",
    "\n",
    "Escriba un programa que muestre la tabla de multiplicar de un número dado"
   ]
  },
  {
   "cell_type": "code",
   "execution_count": 42,
   "id": "237c7991",
   "metadata": {},
   "outputs": [
    {
     "name": "stdout",
     "output_type": "stream",
     "text": [
      "12 X 1 = 12\n",
      "12 X 2 = 24\n",
      "12 X 3 = 36\n",
      "12 X 4 = 48\n",
      "12 X 5 = 60\n",
      "12 X 6 = 72\n",
      "12 X 7 = 84\n",
      "12 X 8 = 96\n",
      "12 X 9 = 108\n",
      "12 X 10 = 120\n",
      "12 X 11 = 132\n",
      "12 X 12 = 144\n"
     ]
    }
   ],
   "source": [
    "num=12\n",
    "for i in range(1,13):\n",
    "    print(num,'X',i,'=',num*i)"
   ]
  },
  {
   "cell_type": "markdown",
   "id": "982159b0",
   "metadata": {},
   "source": [
    "### Problema 5\n",
    "\n",
    "Muestre la serie de Fibonacci hasta 10 términos\n",
    "\n",
    "La secuencia de Fibonacci es una serie de números. El siguiente número en la serie se encuentra sumando los dos números anteriores. Los primeros dos números son 0 y 1\n",
    "\n",
    "Por ejemplo, 0, 1, 1, 2, 3, 5, 8, 13, 21. El siguiente número en esta serie es 13+21 = 34."
   ]
  },
  {
   "cell_type": "code",
   "execution_count": 44,
   "id": "07af6052",
   "metadata": {},
   "outputs": [
    {
     "name": "stdout",
     "output_type": "stream",
     "text": [
      "0\n",
      "1\n",
      "1\n",
      "2\n",
      "3\n",
      "5\n",
      "8\n",
      "13\n",
      "21\n",
      "34\n"
     ]
    }
   ],
   "source": [
    "número1=0\n",
    "número2=1\n",
    "for i in range(10):\n",
    "    print(número1)\n",
    "    suma=número1+número2\n",
    "    \n",
    "    número1=número2\n",
    "    número2=suma    "
   ]
  },
  {
   "cell_type": "markdown",
   "id": "141f6589",
   "metadata": {},
   "source": [
    "### Problema 6\n",
    "Encuentre el factorial de un número\n",
    "Escriba un programa usando un bucle for para encontrar el factorial de un número\n",
    "El factorial de un número entero positivo se define como el producto de todos los números naturales anteriores o iguales a él."
   ]
  },
  {
   "cell_type": "code",
   "execution_count": 48,
   "id": "5087dc20",
   "metadata": {},
   "outputs": [
    {
     "name": "stdout",
     "output_type": "stream",
     "text": [
      "El factorial de  5 es 120\n"
     ]
    }
   ],
   "source": [
    "número=5\n",
    "factorial=1\n",
    "if número<0:\n",
    "    print('El factorial no existe')\n",
    "elif número==0:\n",
    "    print('El factorial de 0 es 1')\n",
    "else:\n",
    "    for i in range(1, número+1):\n",
    "        factorial=factorial*i\n",
    "    print('El factorial de ', número,'es', factorial)\n",
    "    "
   ]
  },
  {
   "cell_type": "markdown",
   "id": "b305cf16",
   "metadata": {},
   "source": [
    "## Función input"
   ]
  },
  {
   "cell_type": "code",
   "execution_count": 53,
   "id": "f3703151",
   "metadata": {},
   "outputs": [
    {
     "name": "stdout",
     "output_type": "stream",
     "text": [
      "Colocar edad:27\n"
     ]
    }
   ],
   "source": [
    "edad=int(input('Colocar edad:'))"
   ]
  },
  {
   "cell_type": "code",
   "execution_count": 54,
   "id": "73bb75e7",
   "metadata": {},
   "outputs": [
    {
     "data": {
      "text/plain": [
       "27"
      ]
     },
     "execution_count": 54,
     "metadata": {},
     "output_type": "execute_result"
    }
   ],
   "source": [
    "edad"
   ]
  },
  {
   "cell_type": "code",
   "execution_count": 55,
   "id": "4e3bf394",
   "metadata": {},
   "outputs": [
    {
     "name": "stdout",
     "output_type": "stream",
     "text": [
      "Colocar nombre:Alfredo\n"
     ]
    }
   ],
   "source": [
    "nombre=input('Colocar nombre:')"
   ]
  },
  {
   "cell_type": "code",
   "execution_count": 56,
   "id": "c1b083bd",
   "metadata": {},
   "outputs": [
    {
     "data": {
      "text/plain": [
       "'Alfredo'"
      ]
     },
     "execution_count": 56,
     "metadata": {},
     "output_type": "execute_result"
    }
   ],
   "source": [
    "nombre"
   ]
  },
  {
   "cell_type": "code",
   "execution_count": 57,
   "id": "162b3d6a",
   "metadata": {},
   "outputs": [
    {
     "name": "stdout",
     "output_type": "stream",
     "text": [
      "Colocar masa:87.5\n"
     ]
    }
   ],
   "source": [
    "masa=float(input('Colocar masa:'))"
   ]
  },
  {
   "cell_type": "code",
   "execution_count": 58,
   "id": "cf5d88df",
   "metadata": {},
   "outputs": [
    {
     "data": {
      "text/plain": [
       "87.5"
      ]
     },
     "execution_count": 58,
     "metadata": {},
     "output_type": "execute_result"
    }
   ],
   "source": [
    "masa"
   ]
  },
  {
   "cell_type": "markdown",
   "id": "80a058c7",
   "metadata": {},
   "source": [
    "## Números complejos"
   ]
  },
  {
   "cell_type": "code",
   "execution_count": 59,
   "id": "5c9ea00f",
   "metadata": {},
   "outputs": [
    {
     "data": {
      "text/plain": [
       "(2+3j)"
      ]
     },
     "execution_count": 59,
     "metadata": {},
     "output_type": "execute_result"
    }
   ],
   "source": [
    "2+3j"
   ]
  },
  {
   "cell_type": "code",
   "execution_count": 60,
   "id": "61393d3b",
   "metadata": {},
   "outputs": [
    {
     "data": {
      "text/plain": [
       "(5-1j)"
      ]
     },
     "execution_count": 60,
     "metadata": {},
     "output_type": "execute_result"
    }
   ],
   "source": [
    "(3+2j)*(1-1j)"
   ]
  },
  {
   "cell_type": "code",
   "execution_count": 64,
   "id": "049eb8ce",
   "metadata": {},
   "outputs": [
    {
     "data": {
      "text/plain": [
       "(-1+0j)"
      ]
     },
     "execution_count": 64,
     "metadata": {},
     "output_type": "execute_result"
    }
   ],
   "source": [
    "(1j)**2"
   ]
  },
  {
   "cell_type": "code",
   "execution_count": 65,
   "id": "cdf73628",
   "metadata": {},
   "outputs": [
    {
     "data": {
      "text/plain": [
       "1.0"
      ]
     },
     "execution_count": 65,
     "metadata": {},
     "output_type": "execute_result"
    }
   ],
   "source": [
    "abs((1j)**2)"
   ]
  },
  {
   "cell_type": "code",
   "execution_count": 66,
   "id": "057780a3",
   "metadata": {},
   "outputs": [],
   "source": [
    "x=5.4"
   ]
  },
  {
   "cell_type": "code",
   "execution_count": 67,
   "id": "cebfc9ed",
   "metadata": {},
   "outputs": [
    {
     "data": {
      "text/plain": [
       "(5.4+0j)"
      ]
     },
     "execution_count": 67,
     "metadata": {},
     "output_type": "execute_result"
    }
   ],
   "source": [
    "complex(x)"
   ]
  },
  {
   "cell_type": "code",
   "execution_count": 68,
   "id": "b22748c5",
   "metadata": {},
   "outputs": [
    {
     "data": {
      "text/plain": [
       "3.0"
      ]
     },
     "execution_count": 68,
     "metadata": {},
     "output_type": "execute_result"
    }
   ],
   "source": [
    "(2+3j).imag"
   ]
  },
  {
   "cell_type": "code",
   "execution_count": 69,
   "id": "c0b62897",
   "metadata": {},
   "outputs": [
    {
     "data": {
      "text/plain": [
       "2.0"
      ]
     },
     "execution_count": 69,
     "metadata": {},
     "output_type": "execute_result"
    }
   ],
   "source": [
    "(2+3j).real"
   ]
  },
  {
   "cell_type": "markdown",
   "id": "88a06749",
   "metadata": {},
   "source": [
    " Otras funciones útiles"
   ]
  },
  {
   "cell_type": "code",
   "execution_count": 70,
   "id": "ef708aad",
   "metadata": {},
   "outputs": [],
   "source": [
    "a=[1,2,3,4]"
   ]
  },
  {
   "cell_type": "code",
   "execution_count": 71,
   "id": "9b5763ec",
   "metadata": {},
   "outputs": [
    {
     "data": {
      "text/plain": [
       "4"
      ]
     },
     "execution_count": 71,
     "metadata": {},
     "output_type": "execute_result"
    }
   ],
   "source": [
    "max(a)"
   ]
  },
  {
   "cell_type": "code",
   "execution_count": 72,
   "id": "4f90d7ff",
   "metadata": {},
   "outputs": [
    {
     "data": {
      "text/plain": [
       "1"
      ]
     },
     "execution_count": 72,
     "metadata": {},
     "output_type": "execute_result"
    }
   ],
   "source": [
    "min(a)"
   ]
  },
  {
   "cell_type": "code",
   "execution_count": 73,
   "id": "c48a677c",
   "metadata": {},
   "outputs": [
    {
     "data": {
      "text/plain": [
       "5"
      ]
     },
     "execution_count": 73,
     "metadata": {},
     "output_type": "execute_result"
    }
   ],
   "source": [
    "round(5.4)"
   ]
  },
  {
   "cell_type": "code",
   "execution_count": 74,
   "id": "4f1de876",
   "metadata": {},
   "outputs": [
    {
     "data": {
      "text/plain": [
       "7"
      ]
     },
     "execution_count": 74,
     "metadata": {},
     "output_type": "execute_result"
    }
   ],
   "source": [
    "int(7.8)"
   ]
  },
  {
   "cell_type": "markdown",
   "id": "097ca760",
   "metadata": {},
   "source": [
    "## Bucle while"
   ]
  },
  {
   "cell_type": "code",
   "execution_count": 75,
   "id": "caf0c68a",
   "metadata": {},
   "outputs": [
    {
     "name": "stdout",
     "output_type": "stream",
     "text": [
      "0\n",
      "1\n",
      "2\n",
      "3\n",
      "4\n"
     ]
    }
   ],
   "source": [
    "i=0\n",
    "while i<5:\n",
    "    print(i)\n",
    "    i=i+1"
   ]
  },
  {
   "cell_type": "code",
   "execution_count": 76,
   "id": "164c0a6c",
   "metadata": {},
   "outputs": [
    {
     "name": "stdout",
     "output_type": "stream",
     "text": [
      "0\n",
      "1\n",
      "2\n"
     ]
    }
   ],
   "source": [
    "i=0\n",
    "while i<5:\n",
    "    print(i)\n",
    "    i=i+1\n",
    "    if i==3:\n",
    "        break"
   ]
  },
  {
   "cell_type": "code",
   "execution_count": 77,
   "id": "e0aeec0e",
   "metadata": {},
   "outputs": [
    {
     "name": "stdout",
     "output_type": "stream",
     "text": [
      "0\n",
      "1\n",
      "2\n",
      "3\n",
      "4\n"
     ]
    }
   ],
   "source": [
    "i=0\n",
    "while i<5:\n",
    "    print(i)\n",
    "    i=i+1\n",
    "    if i==3:\n",
    "        pass"
   ]
  },
  {
   "cell_type": "code",
   "execution_count": 78,
   "id": "0ad60a86",
   "metadata": {},
   "outputs": [
    {
     "name": "stdout",
     "output_type": "stream",
     "text": [
      "0\n",
      "1\n",
      "2\n",
      "3\n",
      "4\n"
     ]
    }
   ],
   "source": [
    "i=0\n",
    "while i<5:\n",
    "    print(i)\n",
    "    i=i+1\n",
    "    if i==3:\n",
    "        continue"
   ]
  },
  {
   "cell_type": "code",
   "execution_count": null,
   "id": "a8fb3a72",
   "metadata": {},
   "outputs": [],
   "source": []
  }
 ],
 "metadata": {
  "kernelspec": {
   "display_name": "Python 3 (ipykernel)",
   "language": "python",
   "name": "python3"
  },
  "language_info": {
   "codemirror_mode": {
    "name": "ipython",
    "version": 3
   },
   "file_extension": ".py",
   "mimetype": "text/x-python",
   "name": "python",
   "nbconvert_exporter": "python",
   "pygments_lexer": "ipython3",
   "version": "3.9.7"
  }
 },
 "nbformat": 4,
 "nbformat_minor": 5
}
