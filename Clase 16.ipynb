{
 "cells": [
  {
   "cell_type": "code",
   "execution_count": 1,
   "id": "0f49e0f4",
   "metadata": {},
   "outputs": [],
   "source": [
    "import numpy as np\n",
    "import matplotlib.pyplot as plt"
   ]
  },
  {
   "cell_type": "markdown",
   "id": "fde86996",
   "metadata": {},
   "source": [
    "# Scypy (Continuación)"
   ]
  },
  {
   "cell_type": "markdown",
   "id": "14ff30b4",
   "metadata": {},
   "source": [
    "# Integración"
   ]
  },
  {
   "cell_type": "markdown",
   "id": "e8886740",
   "metadata": {},
   "source": [
    "$$ \\int_0^{1} x^2 \\sin(2x) e^{-x} dx $$"
   ]
  },
  {
   "cell_type": "code",
   "execution_count": 2,
   "id": "66a7e3fe",
   "metadata": {},
   "outputs": [],
   "source": [
    "from scipy import integrate"
   ]
  },
  {
   "cell_type": "code",
   "execution_count": 5,
   "id": "a8579d28",
   "metadata": {},
   "outputs": [],
   "source": [
    "def f(x):\n",
    "    return x**2*np.sin(2*x)*np.exp(-x)"
   ]
  },
  {
   "cell_type": "code",
   "execution_count": 7,
   "id": "5431ea13",
   "metadata": {},
   "outputs": [],
   "source": [
    "integral, error = integrate.quad(f,0,1)"
   ]
  },
  {
   "cell_type": "code",
   "execution_count": 8,
   "id": "d12a4496",
   "metadata": {},
   "outputs": [
    {
     "data": {
      "text/plain": [
       "0.14558175869954834"
      ]
     },
     "execution_count": 8,
     "metadata": {},
     "output_type": "execute_result"
    }
   ],
   "source": [
    "integral"
   ]
  },
  {
   "cell_type": "code",
   "execution_count": 9,
   "id": "ce6f47c0",
   "metadata": {},
   "outputs": [
    {
     "data": {
      "text/plain": [
       "1.6162822047366225e-15"
      ]
     },
     "execution_count": 9,
     "metadata": {},
     "output_type": "execute_result"
    }
   ],
   "source": [
    "error"
   ]
  },
  {
   "cell_type": "code",
   "execution_count": 10,
   "id": "7dd28a01",
   "metadata": {},
   "outputs": [],
   "source": [
    "integrando = lambda x:x**2*np.sin(2*x)*np.exp(-x)"
   ]
  },
  {
   "cell_type": "code",
   "execution_count": 11,
   "id": "c5225a65",
   "metadata": {},
   "outputs": [],
   "source": [
    "integral, error = integrate.quad(integrando,0,1)"
   ]
  },
  {
   "cell_type": "code",
   "execution_count": 12,
   "id": "b5b2d770",
   "metadata": {},
   "outputs": [
    {
     "data": {
      "text/plain": [
       "0.14558175869954834"
      ]
     },
     "execution_count": 12,
     "metadata": {},
     "output_type": "execute_result"
    }
   ],
   "source": [
    "integral"
   ]
  },
  {
   "cell_type": "code",
   "execution_count": 13,
   "id": "ae96cce2",
   "metadata": {},
   "outputs": [
    {
     "data": {
      "text/plain": [
       "1.6162822047366225e-15"
      ]
     },
     "execution_count": 13,
     "metadata": {},
     "output_type": "execute_result"
    }
   ],
   "source": [
    "error"
   ]
  },
  {
   "cell_type": "markdown",
   "id": "6eb7721f",
   "metadata": {},
   "source": [
    "Doble integral"
   ]
  },
  {
   "cell_type": "markdown",
   "id": "0ccdfa1c",
   "metadata": {},
   "source": [
    "$$ \\int_{0}^{1} \\int_{-x}^{x^2} \\sin(x+y^2) dy dx $$"
   ]
  },
  {
   "cell_type": "code",
   "execution_count": 15,
   "id": "ddc4e5eb",
   "metadata": {},
   "outputs": [],
   "source": [
    "integrando=lambda y, x: np.sin(x+y**2)\n",
    "y_inf=lambda x:-x\n",
    "y_sup=lambda x:x**2"
   ]
  },
  {
   "cell_type": "code",
   "execution_count": 17,
   "id": "402ccfc0",
   "metadata": {},
   "outputs": [],
   "source": [
    "integral, error = integrate.dblquad(integrando,0,1, y_inf, y_sup)"
   ]
  },
  {
   "cell_type": "code",
   "execution_count": 18,
   "id": "b3ec2929",
   "metadata": {},
   "outputs": [
    {
     "data": {
      "text/plain": [
       "0.590090324408853"
      ]
     },
     "execution_count": 18,
     "metadata": {},
     "output_type": "execute_result"
    }
   ],
   "source": [
    "integral"
   ]
  },
  {
   "cell_type": "code",
   "execution_count": 19,
   "id": "e606da74",
   "metadata": {},
   "outputs": [
    {
     "data": {
      "text/plain": [
       "2.0545915475811425e-14"
      ]
     },
     "execution_count": 19,
     "metadata": {},
     "output_type": "execute_result"
    }
   ],
   "source": [
    "error"
   ]
  },
  {
   "cell_type": "code",
   "execution_count": 20,
   "id": "dad563db",
   "metadata": {},
   "outputs": [
    {
     "data": {
      "text/plain": [
       "<function scipy.integrate.quadpack.nquad(func, ranges, args=None, opts=None, full_output=False)>"
      ]
     },
     "execution_count": 20,
     "metadata": {},
     "output_type": "execute_result"
    }
   ],
   "source": [
    "#Para integración de más variables usar=\n",
    "integrate.nquad"
   ]
  },
  {
   "cell_type": "markdown",
   "id": "5b64da6b",
   "metadata": {},
   "source": [
    "## Derivada"
   ]
  },
  {
   "cell_type": "code",
   "execution_count": 22,
   "id": "c5623126",
   "metadata": {},
   "outputs": [],
   "source": [
    "from scipy import misc"
   ]
  },
  {
   "cell_type": "markdown",
   "id": "e1f71d2b",
   "metadata": {},
   "source": [
    "Derivar $x^{3}$"
   ]
  },
  {
   "cell_type": "code",
   "execution_count": 23,
   "id": "ad0bdccb",
   "metadata": {},
   "outputs": [],
   "source": [
    "def f(x):\n",
    "    return x**2"
   ]
  },
  {
   "cell_type": "code",
   "execution_count": 24,
   "id": "2f3c1a0a",
   "metadata": {},
   "outputs": [],
   "source": [
    "x=np.linspace(0,1,100)"
   ]
  },
  {
   "cell_type": "code",
   "execution_count": 26,
   "id": "48d6947c",
   "metadata": {},
   "outputs": [],
   "source": [
    "derivada=misc.derivative(f, x, dx=1e-7)"
   ]
  },
  {
   "cell_type": "code",
   "execution_count": 27,
   "id": "2f41683a",
   "metadata": {},
   "outputs": [],
   "source": [
    "segunda_der=misc.derivative(f, x, dx=1e-7, n=2)"
   ]
  },
  {
   "cell_type": "code",
   "execution_count": 29,
   "id": "6d122ebf",
   "metadata": {},
   "outputs": [
    {
     "data": {
      "text/plain": [
       "<matplotlib.legend.Legend at 0x2548b624460>"
      ]
     },
     "execution_count": 29,
     "metadata": {},
     "output_type": "execute_result"
    },
    {
     "data": {
      "image/png": "[encoded data removed]",
      "text/plain": [
       "<Figure size 432x288 with 1 Axes>"
      ]
     },
     "metadata": {
      "needs_background": "light"
     },
     "output_type": "display_data"
    }
   ],
   "source": [
    "plt.plot(x, f(x), 'r', label='data')\n",
    "plt.plot(x,derivada,'b', label='derivada')\n",
    "plt.plot(x,segunda_der,'g',label='segunda derivada')\n",
    "plt.legend()"
   ]
  },
  {
   "cell_type": "markdown",
   "id": "c5d6ea1c",
   "metadata": {},
   "source": [
    "## Ecuaciones diferenciales (ODEs)"
   ]
  },
  {
   "cell_type": "markdown",
   "id": "a918250d",
   "metadata": {},
   "source": [
    "Caída libre con fricción\n",
    "\n",
    "$$ v' - \\alpha v^2 + \\beta = 0 \\hspace{10mm} v(0) = 0$$"
   ]
  },
  {
   "cell_type": "code",
   "execution_count": 31,
   "id": "d08d1045",
   "metadata": {},
   "outputs": [],
   "source": [
    "from scipy import integrate"
   ]
  },
  {
   "cell_type": "code",
   "execution_count": 32,
   "id": "26e71e20",
   "metadata": {},
   "outputs": [],
   "source": [
    "def dvdt(v,t):\n",
    "    return 2*v**2-4\n",
    "v0=0"
   ]
  },
  {
   "cell_type": "code",
   "execution_count": 33,
   "id": "9bc6065f",
   "metadata": {},
   "outputs": [],
   "source": [
    "t=np.linspace(0,1,100)\n",
    "solución=integrate.odeint(dvdt, v0, t)"
   ]
  },
  {
   "cell_type": "code",
   "execution_count": 49,
   "id": "182e6855",
   "metadata": {},
   "outputs": [
    {
     "data": {
      "text/plain": [
       "array([ 0.        , -0.04039307, -0.08072028, -0.1209162 , -0.16091629,\n",
       "       -0.20065721, -0.24007734, -0.27911704, -0.31771903, -0.35582878,\n",
       "       -0.3933947 , -0.43036838, -0.46670485, -0.50236272, -0.53730429,\n",
       "       -0.57149564, -0.6049067 , -0.63751127, -0.66928694, -0.70021499,\n",
       "       -0.73028047, -0.75947198, -0.78778149, -0.81520428, -0.8417387 ,\n",
       "       -0.86738601, -0.89215022, -0.91603779, -0.93905755, -0.96122038,\n",
       "       -0.98253909, -1.00302818, -1.02270364, -1.04158274, -1.05968392,\n",
       "       -1.07702653, -1.09363072, -1.10951728, -1.12470745, -1.13922285,\n",
       "       -1.15308532, -1.16631682, -1.17893932, -1.1909747 , -1.20244469,\n",
       "       -1.21337079, -1.22377418, -1.23367573, -1.24309585, -1.25205455,\n",
       "       -1.26057135, -1.26866525, -1.27635474, -1.28365773, -1.29059164,\n",
       "       -1.29717326, -1.30341883, -1.30934401, -1.31496389, -1.320293  ,\n",
       "       -1.32534528, -1.33013413, -1.33467243, -1.33897247, -1.34304608,\n",
       "       -1.34690453, -1.35055861, -1.35401865, -1.35729448, -1.3603955 ,\n",
       "       -1.36333069, -1.36610856, -1.36873726, -1.37122455, -1.37357777,\n",
       "       -1.37580396, -1.37790977, -1.37990156, -1.38178533, -1.38356682,\n",
       "       -1.38525145, -1.38684439, -1.38835052, -1.3897745 , -1.39112071,\n",
       "       -1.39239335, -1.39359637, -1.39473353, -1.39580837, -1.39682428,\n",
       "       -1.39778443, -1.39869187, -1.39954945, -1.40035987, -1.40112572,\n",
       "       -1.40184942, -1.40253327, -1.40317944, -1.40378999, -1.40436689])"
      ]
     },
     "execution_count": 49,
     "metadata": {},
     "output_type": "execute_result"
    }
   ],
   "source": [
    "solución.T[0]"
   ]
  },
  {
   "cell_type": "code",
   "execution_count": 50,
   "id": "a39714be",
   "metadata": {},
   "outputs": [],
   "source": [
    "v_sol=solución.T[0]"
   ]
  },
  {
   "cell_type": "code",
   "execution_count": 51,
   "id": "5a3e0681",
   "metadata": {},
   "outputs": [
    {
     "data": {
      "text/plain": [
       "[<matplotlib.lines.Line2D at 0x2548d1229d0>]"
      ]
     },
     "execution_count": 51,
     "metadata": {},
     "output_type": "execute_result"
    },
    {
     "data": {
      "image/png": "[encoded data removed]",
      "text/plain": [
       "<Figure size 432x288 with 1 Axes>"
      ]
     },
     "metadata": {
      "needs_background": "light"
     },
     "output_type": "display_data"
    }
   ],
   "source": [
    "plt.plot(t, v_sol)"
   ]
  },
  {
   "cell_type": "markdown",
   "id": "ca0d61f6",
   "metadata": {},
   "source": [
    "## ODEs acopladas"
   ]
  },
  {
   "cell_type": "markdown",
   "id": "f0ba7ca2",
   "metadata": {},
   "source": [
    "$$ y_1' = y_1 + y_2^2 + 3x \\hspace{10mm} y_1(0)=0$$\n",
    "$$ y_2' = 3y_1 + y_2^3 - \\cos(x) \\hspace{10mm} y_2(0)=0$$"
   ]
  },
  {
   "cell_type": "markdown",
   "id": "e3c6cf5d",
   "metadata": {},
   "source": [
    "Sea $S=(y_{1},y_{2})$, definamos una función que regrese\n",
    "$dS/dx=(dy_{1}/dx, dy_{2}/dx)$"
   ]
  },
  {
   "cell_type": "code",
   "execution_count": 53,
   "id": "a83fb414",
   "metadata": {},
   "outputs": [],
   "source": [
    "def dSdx(S, x):\n",
    "    y1, y2 = S\n",
    "    return [y1+y2**2+3*x,\n",
    "           3*y1+y2**3-np.cos(x)]\n",
    "y1_0=0\n",
    "y2_0=0\n",
    "S_0=(y1_0,y2_0)"
   ]
  },
  {
   "cell_type": "code",
   "execution_count": 54,
   "id": "777dfb01",
   "metadata": {},
   "outputs": [],
   "source": [
    "x=np.linspace(0,1,100)\n",
    "solución=integrate.odeint(dSdx,S_0,x)"
   ]
  },
  {
   "cell_type": "code",
   "execution_count": 56,
   "id": "a1924544",
   "metadata": {},
   "outputs": [
    {
     "data": {
      "text/plain": [
       "array([[ 0.00000000e+00,  1.53914061e-04,  6.19093356e-04,\n",
       "         1.40076628e-03,  2.50418953e-03,  3.93464633e-03,\n",
       "         5.69744401e-03,  7.79789517e-03,  1.02413187e-02,\n",
       "         1.30330245e-02,  1.61783065e-02,  1.96824391e-02,\n",
       "         2.35506573e-02,  2.77881638e-02,  3.24001125e-02,\n",
       "         3.73915921e-02,  4.27676179e-02,  4.85331404e-02,\n",
       "         5.46930282e-02,  6.12520553e-02,  6.82148995e-02,\n",
       "         7.55861308e-02,  8.33702071e-02,  9.15714669e-02,\n",
       "         1.00194121e-01,  1.09242251e-01,  1.18719801e-01,\n",
       "         1.28630571e-01,  1.38978219e-01,  1.49766252e-01,\n",
       "         1.60998020e-01,  1.72676732e-01,  1.84805434e-01,\n",
       "         1.97387014e-01,  2.10424222e-01,  2.23919648e-01,\n",
       "         2.37875730e-01,  2.52294784e-01,  2.67178978e-01,\n",
       "         2.82530347e-01,  2.98350829e-01,  3.14642248e-01,\n",
       "         3.31406342e-01,  3.48644774e-01,  3.66359140e-01,\n",
       "         3.84551013e-01,  4.03221942e-01,  4.22373488e-01,\n",
       "         4.42007253e-01,  4.62124894e-01,  4.82728181e-01,\n",
       "         5.03819005e-01,  5.25399429e-01,  5.47471735e-01,\n",
       "         5.70038442e-01,  5.93102385e-01,  6.16666735e-01,\n",
       "         6.40735063e-01,  6.65311401e-01,  6.90400276e-01,\n",
       "         7.16006799e-01,  7.42136714e-01,  7.68796463e-01,\n",
       "         7.95993253e-01,  8.23735143e-01,  8.52031104e-01,\n",
       "         8.80891112e-01,  9.10326223e-01,  9.40348671e-01,\n",
       "         9.70971957e-01,  1.00221095e+00,  1.03408198e+00,\n",
       "         1.06660299e+00,  1.09979361e+00,  1.13367532e+00,\n",
       "         1.16827157e+00,  1.20360797e+00,  1.23971243e+00,\n",
       "         1.27661538e+00,  1.31434994e+00,  1.35295223e+00,\n",
       "         1.39246158e+00,  1.43292087e+00,  1.47437687e+00,\n",
       "         1.51688069e+00,  1.56048820e+00,  1.60526063e+00,\n",
       "         1.65126523e+00,  1.69857604e+00,  1.74727479e+00,\n",
       "         1.79745207e+00,  1.84920864e+00,  1.90265708e+00,\n",
       "         1.95792385e+00,  2.01515175e+00,  2.07450310e+00,\n",
       "         2.13616376e+00,  2.20034823e+00,  2.26730636e+00,\n",
       "         2.33733216e+00],\n",
       "       [ 0.00000000e+00, -1.00992734e-02, -2.01882005e-02,\n",
       "        -3.02563164e-02, -4.02930766e-02, -5.02878361e-02,\n",
       "        -6.02298432e-02, -7.01082428e-02, -7.99120712e-02,\n",
       "        -8.96302498e-02, -9.92515816e-02, -1.08764749e-01,\n",
       "        -1.18158303e-01, -1.27420669e-01, -1.36540133e-01,\n",
       "        -1.45504834e-01, -1.54302762e-01, -1.62921756e-01,\n",
       "        -1.71349495e-01, -1.79573493e-01, -1.87581095e-01,\n",
       "        -1.95359467e-01, -2.02895598e-01, -2.10176290e-01,\n",
       "        -2.17188157e-01, -2.23917621e-01, -2.30350906e-01,\n",
       "        -2.36474041e-01, -2.42272857e-01, -2.47732981e-01,\n",
       "        -2.52839835e-01, -2.57578659e-01, -2.61934483e-01,\n",
       "        -2.65892141e-01, -2.69436297e-01, -2.72551418e-01,\n",
       "        -2.75221791e-01, -2.77431559e-01, -2.79164693e-01,\n",
       "        -2.80405012e-01, -2.81136222e-01, -2.81341905e-01,\n",
       "        -2.81005542e-01, -2.80110529e-01, -2.78640187e-01,\n",
       "        -2.76577800e-01, -2.73906616e-01, -2.70609873e-01,\n",
       "        -2.66670823e-01, -2.62072745e-01, -2.56798966e-01,\n",
       "        -2.50832883e-01, -2.44157971e-01, -2.36757804e-01,\n",
       "        -2.28616068e-01, -2.19716553e-01, -2.10043183e-01,\n",
       "        -1.99579993e-01, -1.88311119e-01, -1.76220821e-01,\n",
       "        -1.63293405e-01, -1.49513226e-01, -1.34864636e-01,\n",
       "        -1.19331954e-01, -1.02899359e-01, -8.55508556e-02,\n",
       "        -6.72701355e-02, -4.80405161e-02, -2.78447548e-02,\n",
       "        -6.66492984e-03,  1.55177321e-02,  3.87230761e-02,\n",
       "         6.29722272e-02,  8.82878711e-02,  1.14694542e-01,\n",
       "         1.42218950e-01,  1.70890394e-01,  2.00741167e-01,\n",
       "         2.31807067e-01,  2.64127972e-01,  2.97748502e-01,\n",
       "         3.32718734e-01,  3.69095107e-01,  4.06941417e-01,\n",
       "         4.46329999e-01,  4.87343105e-01,  5.30074560e-01,\n",
       "         5.74631731e-01,  6.21137874e-01,  6.69734974e-01,\n",
       "         7.20587249e-01,  7.73885430e-01,  8.29852098e-01,\n",
       "         8.88748463e-01,  9.50882831e-01,  1.01662163e+00,\n",
       "         1.08640368e+00,  1.16075924e+00,  1.24033522e+00,\n",
       "         1.32592999e+00]])"
      ]
     },
     "execution_count": 56,
     "metadata": {},
     "output_type": "execute_result"
    }
   ],
   "source": [
    "solución.T"
   ]
  },
  {
   "cell_type": "code",
   "execution_count": 57,
   "id": "b3701304",
   "metadata": {},
   "outputs": [],
   "source": [
    "y1_sol=solución.T[0]\n",
    "y2_sol=solución.T[1]"
   ]
  },
  {
   "cell_type": "code",
   "execution_count": 58,
   "id": "05b37d01",
   "metadata": {},
   "outputs": [
    {
     "data": {
      "text/plain": [
       "[<matplotlib.lines.Line2D at 0x2548d18fe20>]"
      ]
     },
     "execution_count": 58,
     "metadata": {},
     "output_type": "execute_result"
    },
    {
     "data": {
      "image/png": "[encoded data removed]",
      "text/plain": [
       "<Figure size 432x288 with 1 Axes>"
      ]
     },
     "metadata": {
      "needs_background": "light"
     },
     "output_type": "display_data"
    }
   ],
   "source": [
    "plt.plot(x,y1_sol)\n",
    "plt.plot(x,y2_sol)"
   ]
  },
  {
   "cell_type": "markdown",
   "id": "f5340e34",
   "metadata": {},
   "source": [
    "Segundo orden"
   ]
  },
  {
   "cell_type": "markdown",
   "id": "9c89e3ad",
   "metadata": {},
   "source": [
    "Ecuación del péndulo\n",
    "\n",
    "$$\\theta'' - \\sin(\\theta) = 0 \\hspace{10mm} \\theta(0)=\\pi/4 \\hspace{10mm}\\theta'(0)=0 $$"
   ]
  },
  {
   "cell_type": "markdown",
   "id": "093cd36b",
   "metadata": {},
   "source": [
    "Una ODE de segundo orden puede ser convertida a ODEs de primer orden acopladas haciendo los cambios de variables adecuados"
   ]
  },
  {
   "cell_type": "markdown",
   "id": "2a576db4",
   "metadata": {},
   "source": [
    "$$\\omega=d\\theta/dt$$\n",
    "$$d\\omega/dt=\\sin(\\theta)$$"
   ]
  },
  {
   "cell_type": "markdown",
   "id": "c2efc561",
   "metadata": {},
   "source": [
    "$S=(\\theta,\\omega)$"
   ]
  },
  {
   "cell_type": "code",
   "execution_count": 83,
   "id": "5e1b30dd",
   "metadata": {},
   "outputs": [],
   "source": [
    "def dSdt(S,t):\n",
    "    theta, omega=S\n",
    "    return [omega,np.sin(theta)]\n",
    "theta_0=np.pi/4\n",
    "omega_0=0\n",
    "S_0=(theta_0,omega_0)"
   ]
  },
  {
   "cell_type": "code",
   "execution_count": 84,
   "id": "f72f23dd",
   "metadata": {},
   "outputs": [],
   "source": [
    "t=np.linspace(0,30,100)\n",
    "solución=integrate.odeint(dSdt,S_0,t)"
   ]
  },
  {
   "cell_type": "code",
   "execution_count": 85,
   "id": "eb8c00ec",
   "metadata": {},
   "outputs": [],
   "source": [
    "theta_sol=solución.T[0]\n",
    "omega_sol=solución.T[1]"
   ]
  },
  {
   "cell_type": "code",
   "execution_count": 86,
   "id": "1cd6d1ff",
   "metadata": {},
   "outputs": [
    {
     "data": {
      "text/plain": [
       "[<matplotlib.lines.Line2D at 0x2548d45f340>]"
      ]
     },
     "execution_count": 86,
     "metadata": {},
     "output_type": "execute_result"
    },
    {
     "data": {
      "image/png": "[encoded data removed]",
      "text/plain": [
       "<Figure size 432x288 with 1 Axes>"
      ]
     },
     "metadata": {
      "needs_background": "light"
     },
     "output_type": "display_data"
    }
   ],
   "source": [
    "plt.plot(t,theta_sol)"
   ]
  },
  {
   "cell_type": "markdown",
   "id": "9ca0ce28",
   "metadata": {},
   "source": [
    "## Funciones especiales"
   ]
  },
  {
   "cell_type": "markdown",
   "id": "06e479eb",
   "metadata": {},
   "source": [
    "Los polinomios de Legendre $P_l(x)$: satisfacen $(1-x^2)y'' -2xy'+l(l+1)y = 0$"
   ]
  },
  {
   "cell_type": "code",
   "execution_count": 88,
   "id": "5bb0fef0",
   "metadata": {},
   "outputs": [],
   "source": [
    "from scipy import special"
   ]
  },
  {
   "cell_type": "code",
   "execution_count": 95,
   "id": "a983ab1b",
   "metadata": {},
   "outputs": [],
   "source": [
    "x=np.linspace(0,1,100)\n",
    "y=special.legendre(6)(x)"
   ]
  },
  {
   "cell_type": "code",
   "execution_count": 97,
   "id": "95306be7",
   "metadata": {},
   "outputs": [
    {
     "data": {
      "text/plain": [
       "[<matplotlib.lines.Line2D at 0x2548d4aee80>]"
      ]
     },
     "execution_count": 97,
     "metadata": {},
     "output_type": "execute_result"
    },
    {
     "data": {
      "image/png": "[encoded data removed]",
      "text/plain": [
       "<Figure size 432x288 with 1 Axes>"
      ]
     },
     "metadata": {
      "needs_background": "light"
     },
     "output_type": "display_data"
    }
   ],
   "source": [
    "plt.plot(x,y)"
   ]
  },
  {
   "cell_type": "markdown",
   "id": "257fce18",
   "metadata": {},
   "source": [
    "Las funciones de Bessel $J_{\\alpha}(x)$: satisfacen $x^2 y'' + xy' + (x^2-\\alpha^2)y = 0$"
   ]
  },
  {
   "cell_type": "code",
   "execution_count": 100,
   "id": "fe6faa70",
   "metadata": {},
   "outputs": [],
   "source": [
    "x=np.linspace(0,10,100)\n",
    "y=special.jv(3,x)"
   ]
  },
  {
   "cell_type": "code",
   "execution_count": 101,
   "id": "b7ab4e59",
   "metadata": {},
   "outputs": [
    {
     "data": {
      "text/plain": [
       "[<matplotlib.lines.Line2D at 0x2548d5c2190>]"
      ]
     },
     "execution_count": 101,
     "metadata": {},
     "output_type": "execute_result"
    },
    {
     "data": {
      "image/png": "[encoded data removed]",
      "text/plain": [
       "<Figure size 432x288 with 1 Axes>"
      ]
     },
     "metadata": {
      "needs_background": "light"
     },
     "output_type": "display_data"
    }
   ],
   "source": [
    "plt.plot(x,y)"
   ]
  },
  {
   "cell_type": "markdown",
   "id": "1d5bacd3",
   "metadata": {},
   "source": [
    "## Optimización"
   ]
  },
  {
   "cell_type": "code",
   "execution_count": 103,
   "id": "bffc28ec",
   "metadata": {},
   "outputs": [],
   "source": [
    "from scipy import optimize"
   ]
  },
  {
   "cell_type": "markdown",
   "id": "9c7d09d1",
   "metadata": {},
   "source": [
    "minimizar $f(x)=(x-3)^2$"
   ]
  },
  {
   "cell_type": "code",
   "execution_count": 104,
   "id": "b072bd8d",
   "metadata": {},
   "outputs": [],
   "source": [
    "def f(x):\n",
    "    return (x-3)**2\n",
    "\n",
    "respuesta=optimize.minimize(f,1)"
   ]
  },
  {
   "cell_type": "code",
   "execution_count": 105,
   "id": "a858d0aa",
   "metadata": {},
   "outputs": [
    {
     "data": {
      "text/plain": [
       "      fun: 3.2397920662551844e-16\n",
       " hess_inv: array([[0.5]])\n",
       "      jac: array([-2.10976836e-08])\n",
       "  message: 'Optimization terminated successfully.'\n",
       "     nfev: 6\n",
       "      nit: 2\n",
       "     njev: 3\n",
       "   status: 0\n",
       "  success: True\n",
       "        x: array([2.99999998])"
      ]
     },
     "execution_count": 105,
     "metadata": {},
     "output_type": "execute_result"
    }
   ],
   "source": [
    "respuesta"
   ]
  },
  {
   "cell_type": "code",
   "execution_count": 106,
   "id": "629d4cdf",
   "metadata": {},
   "outputs": [
    {
     "data": {
      "text/plain": [
       "array([2.99999998])"
      ]
     },
     "execution_count": 106,
     "metadata": {},
     "output_type": "execute_result"
    }
   ],
   "source": [
    "respuesta.x"
   ]
  },
  {
   "cell_type": "code",
   "execution_count": 107,
   "id": "51c584d0",
   "metadata": {},
   "outputs": [
    {
     "data": {
      "text/plain": [
       "2.9999999820005776"
      ]
     },
     "execution_count": 107,
     "metadata": {},
     "output_type": "execute_result"
    }
   ],
   "source": [
    "respuesta.x[0]"
   ]
  },
  {
   "cell_type": "markdown",
   "id": "35431f6d",
   "metadata": {},
   "source": [
    "Minimizar $f(x, y) = (x-1)^2 + (y-2.5)^2$ sujeto a\n",
    "\n",
    "$$x-2y+2 \\geq 0 $$\n",
    "$$-x-2y+6 \\geq 0$$\n",
    "$$-x + 2y + 2 \\geq 0$$\n",
    "$$x \\geq 0 $$\n",
    "$$y \\geq 0 $$"
   ]
  },
  {
   "cell_type": "code",
   "execution_count": 108,
   "id": "ee2db6ac",
   "metadata": {},
   "outputs": [],
   "source": [
    "f=lambda x:(x[0]-1)**2+(x[1]-2.5)**2"
   ]
  },
  {
   "cell_type": "code",
   "execution_count": 109,
   "id": "036deb21",
   "metadata": {},
   "outputs": [],
   "source": [
    "cons=({'type': 'ineq', 'fun': lambda x:  x[0] - 2 * x[1] + 2},\n",
    "        {'type': 'ineq', 'fun': lambda x: -x[0] - 2 * x[1] + 6},\n",
    "        {'type': 'ineq', 'fun': lambda x: -x[0] + 2 * x[1] + 2})\n",
    "bnds=((0,None),(0,None))"
   ]
  },
  {
   "cell_type": "code",
   "execution_count": 111,
   "id": "2358464f",
   "metadata": {},
   "outputs": [],
   "source": [
    "respuesta=optimize.minimize(f,(2,0),bounds=bnds,constraints=cons)"
   ]
  },
  {
   "cell_type": "code",
   "execution_count": 112,
   "id": "35c42ad7",
   "metadata": {},
   "outputs": [
    {
     "data": {
      "text/plain": [
       "     fun: 0.8000000011920985\n",
       "     jac: array([ 0.80000002, -1.59999999])\n",
       " message: 'Optimization terminated successfully'\n",
       "    nfev: 10\n",
       "     nit: 3\n",
       "    njev: 3\n",
       "  status: 0\n",
       " success: True\n",
       "       x: array([1.4, 1.7])"
      ]
     },
     "execution_count": 112,
     "metadata": {},
     "output_type": "execute_result"
    }
   ],
   "source": [
    "respuesta"
   ]
  },
  {
   "cell_type": "code",
   "execution_count": 113,
   "id": "a6611132",
   "metadata": {},
   "outputs": [
    {
     "data": {
      "text/plain": [
       "array([1.4, 1.7])"
      ]
     },
     "execution_count": 113,
     "metadata": {},
     "output_type": "execute_result"
    }
   ],
   "source": [
    "respuesta.x"
   ]
  },
  {
   "cell_type": "markdown",
   "id": "ffe31b13",
   "metadata": {},
   "source": [
    "## Interpolación"
   ]
  },
  {
   "cell_type": "code",
   "execution_count": 116,
   "id": "9b70229b",
   "metadata": {},
   "outputs": [],
   "source": [
    "x=np.linspace(0,10,10)\n",
    "y=x**2*np.cos(x)"
   ]
  },
  {
   "cell_type": "code",
   "execution_count": 117,
   "id": "7313428c",
   "metadata": {},
   "outputs": [
    {
     "data": {
      "text/plain": [
       "<matplotlib.collections.PathCollection at 0x2548d621160>"
      ]
     },
     "execution_count": 117,
     "metadata": {},
     "output_type": "execute_result"
    },
    {
     "data": {
      "image/png": "[encoded data removed]",
      "text/plain": [
       "<Figure size 432x288 with 1 Axes>"
      ]
     },
     "metadata": {
      "needs_background": "light"
     },
     "output_type": "display_data"
    }
   ],
   "source": [
    "plt.scatter(x,y)"
   ]
  },
  {
   "cell_type": "code",
   "execution_count": null,
   "id": "877d8e91",
   "metadata": {},
   "outputs": [],
   "source": []
  }
 ],
 "metadata": {
  "kernelspec": {
   "display_name": "Python 3 (ipykernel)",
   "language": "python",
   "name": "python3"
  },
  "language_info": {
   "codemirror_mode": {
    "name": "ipython",
    "version": 3
   },
   "file_extension": ".py",
   "mimetype": "text/x-python",
   "name": "python",
   "nbconvert_exporter": "python",
   "pygments_lexer": "ipython3",
   "version": "3.9.7"
  }
 },
 "nbformat": 4,
 "nbformat_minor": 5
}
