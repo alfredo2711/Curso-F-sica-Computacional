{
 "cells": [
  {
   "cell_type": "code",
   "execution_count": 1,
   "id": "3c702616",
   "metadata": {},
   "outputs": [],
   "source": [
    "import numpy as np\n",
    "import matplotlib.pyplot as plt"
   ]
  },
  {
   "cell_type": "code",
   "execution_count": 4,
   "id": "9eb40c10",
   "metadata": {},
   "outputs": [],
   "source": [
    "# Primero trabajaremos en el vacío\n",
    "eps0=8.8541878128E-12\n",
    "miu0=4*np.pi*1e-7"
   ]
  },
  {
   "cell_type": "code",
   "execution_count": 7,
   "id": "46b99f82",
   "metadata": {},
   "outputs": [
    {
     "data": {
      "text/plain": [
       "299792458.0816064"
      ]
     },
     "execution_count": 7,
     "metadata": {},
     "output_type": "execute_result"
    }
   ],
   "source": [
    "c0=1/np.sqrt(eps0*miu0)\n",
    "c0"
   ]
  },
  {
   "cell_type": "code",
   "execution_count": 8,
   "id": "664724f2",
   "metadata": {},
   "outputs": [],
   "source": [
    "imax=500\n",
    "nmax=2000"
   ]
  },
  {
   "cell_type": "code",
   "execution_count": 9,
   "id": "ee194ef6",
   "metadata": {},
   "outputs": [],
   "source": [
    "lambda_min=350E-9"
   ]
  },
  {
   "cell_type": "code",
   "execution_count": 10,
   "id": "4a7d7d8c",
   "metadata": {},
   "outputs": [],
   "source": [
    "dy=lambda_min/20"
   ]
  },
  {
   "cell_type": "code",
   "execution_count": 11,
   "id": "3f71b0d2",
   "metadata": {},
   "outputs": [],
   "source": [
    "dt=dy/c0"
   ]
  },
  {
   "cell_type": "code",
   "execution_count": 13,
   "id": "0d13edbb",
   "metadata": {},
   "outputs": [
    {
     "data": {
      "text/plain": [
       "5.837371664378671e-17"
      ]
     },
     "execution_count": 13,
     "metadata": {},
     "output_type": "execute_result"
    }
   ],
   "source": [
    "dt"
   ]
  },
  {
   "cell_type": "code",
   "execution_count": null,
   "id": "279e9223",
   "metadata": {},
   "outputs": [],
   "source": [
    "Ex=np.zeros(imax)\n",
    "Hz=np.zeros(imax)\n",
    "Ex_anterior=np.zeros(imax)\n",
    "Hz_anterior=np.zeros(imax)\n",
    "\n",
    "for n in range(nmax):\n",
    "    #condición de frontera\n",
    "    Hz[imax]=Hz_anterior[imax-1]"
   ]
  }
 ],
 "metadata": {
  "kernelspec": {
   "display_name": "Python 3 (ipykernel)",
   "language": "python",
   "name": "python3"
  },
  "language_info": {
   "codemirror_mode": {
    "name": "ipython",
    "version": 3
   },
   "file_extension": ".py",
   "mimetype": "text/x-python",
   "name": "python",
   "nbconvert_exporter": "python",
   "pygments_lexer": "ipython3",
   "version": "3.9.7"
  }
 },
 "nbformat": 4,
 "nbformat_minor": 5
}
