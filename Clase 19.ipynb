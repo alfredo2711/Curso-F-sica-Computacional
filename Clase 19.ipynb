{
 "cells": [
  {
   "cell_type": "markdown",
   "id": "eb96b67b",
   "metadata": {},
   "source": [
    "## Ejemplo"
   ]
  },
  {
   "cell_type": "markdown",
   "id": "c17f4013",
   "metadata": {},
   "source": [
    "La función de onda del átomo de hidrógeno\n",
    "\n",
    "$$\\psi_{nlm} = R_{nl}(r)Y_l^m(\\theta, \\phi) $$"
   ]
  },
  {
   "cell_type": "markdown",
   "id": "404f2963",
   "metadata": {},
   "source": [
    "$$R_{nl}(r) =  \\sqrt{\\left(\\frac{2}{na}\\right)^3 \\frac{(n-l-1)!}{2n[(n+1)!]}} e^{-r/na} \\left(\\frac{2r}{na}\\right)^l \\left[L_{n-l-1}^{2l+1}(2r/na)\\right]$$"
   ]
  },
  {
   "cell_type": "markdown",
   "id": "cebc1854",
   "metadata": {},
   "source": [
    "La distancia media entre núcleo y el electrón:\n",
    "\n",
    "$$\\left<r\\right> = \\int R_{nl}^2 r^3 dr$$"
   ]
  },
  {
   "cell_type": "markdown",
   "id": "7681a0b3",
   "metadata": {},
   "source": [
    "Cuál sería el valor de $<r>$ para el estado base $\\psi_{100}$"
   ]
  },
  {
   "cell_type": "markdown",
   "id": "3e121360",
   "metadata": {},
   "source": [
    "Cuál sería el valor de $<r>$ para el estado $\\psi_{200}$ y $\\psi_{210}$"
   ]
  },
  {
   "cell_type": "code",
   "execution_count": 2,
   "id": "87157ea2",
   "metadata": {},
   "outputs": [],
   "source": [
    "import numpy as np\n",
    "import matplotlib.pyplot as plt\n",
    "import sympy as smp"
   ]
  },
  {
   "cell_type": "code",
   "execution_count": 3,
   "id": "b2618ae9",
   "metadata": {},
   "outputs": [],
   "source": [
    "r, a, n, l=smp.symbols('r a n l',real=True, positive=True)"
   ]
  },
  {
   "cell_type": "code",
   "execution_count": 5,
   "id": "73cfe68d",
   "metadata": {
    "scrolled": true
   },
   "outputs": [],
   "source": [
    "from sympy import assoc_laguerre"
   ]
  },
  {
   "cell_type": "code",
   "execution_count": 29,
   "id": "eb67f9df",
   "metadata": {},
   "outputs": [],
   "source": [
    "Rnl=smp.sqrt((2/(n*a))**3 *smp.factorial(n-l-1)/(2*n*smp.factorial(n+1)))\\\n",
    "    *smp.exp(-r/(n*a))*(2*r/(n*a))**l *assoc_laguerre(n-l-1, 2*l+1,2*r/(n*a))                                               "
   ]
  },
  {
   "cell_type": "code",
   "execution_count": 30,
   "id": "8cdf86b3",
   "metadata": {},
   "outputs": [
    {
     "data": {
      "text/latex": [
       "$\\displaystyle \\frac{2 \\sqrt{\\frac{\\left(- l + n - 1\\right)!}{\\left(n + 1\\right)!}} \\left(\\frac{2 r}{a n}\\right)^{l} e^{- \\frac{r}{a n}} L_{- l + n - 1}^{\\left(2 l + 1\\right)}\\left(\\frac{2 r}{a n}\\right)}{a^{\\frac{3}{2}} n^{2}}$"
      ],
      "text/plain": [
       "2*sqrt(factorial(-l + n - 1)/factorial(n + 1))*(2*r/(a*n))**l*exp(-r/(a*n))*assoc_laguerre(-l + n - 1, 2*l + 1, 2*r/(a*n))/(a**(3/2)*n**2)"
      ]
     },
     "execution_count": 30,
     "metadata": {},
     "output_type": "execute_result"
    }
   ],
   "source": [
    "Rnl"
   ]
  },
  {
   "cell_type": "code",
   "execution_count": 31,
   "id": "29ece330",
   "metadata": {},
   "outputs": [
    {
     "data": {
      "text/latex": [
       "$\\displaystyle \\frac{\\sqrt{2} e^{- \\frac{r}{a}}}{a^{\\frac{3}{2}}}$"
      ],
      "text/plain": [
       "sqrt(2)*exp(-r/a)/a**(3/2)"
      ]
     },
     "execution_count": 31,
     "metadata": {},
     "output_type": "execute_result"
    }
   ],
   "source": [
    "R_10=Rnl.subs([(n,1),(l,0)])\n",
    "R_10"
   ]
  },
  {
   "cell_type": "markdown",
   "id": "03223c90",
   "metadata": {},
   "source": [
    "$$\\left<r\\right> = \\int R_{nl}^2 r^3 dr$$"
   ]
  },
  {
   "cell_type": "code",
   "execution_count": 32,
   "id": "0283025f",
   "metadata": {},
   "outputs": [],
   "source": [
    "def promedio(n_valor, l_valor):\n",
    "    R_nvalor_lvalor=Rnl.subs([(n, n_valor),(l,l_valor)])\n",
    "    return smp.integrate(R_nvalor_lvalor**2 *r**3,(r,0,smp.oo))"
   ]
  },
  {
   "cell_type": "code",
   "execution_count": 33,
   "id": "a3d57440",
   "metadata": {},
   "outputs": [
    {
     "data": {
      "text/latex": [
       "$\\displaystyle \\frac{3 a}{4}$"
      ],
      "text/plain": [
       "3*a/4"
      ]
     },
     "execution_count": 33,
     "metadata": {},
     "output_type": "execute_result"
    }
   ],
   "source": [
    "promedio(n_valor=1, l_valor=0)"
   ]
  },
  {
   "cell_type": "code",
   "execution_count": 34,
   "id": "0cc0b76b",
   "metadata": {},
   "outputs": [
    {
     "data": {
      "text/latex": [
       "$\\displaystyle 2 a$"
      ],
      "text/plain": [
       "2*a"
      ]
     },
     "execution_count": 34,
     "metadata": {},
     "output_type": "execute_result"
    }
   ],
   "source": [
    "promedio(n_valor=2, l_valor=0)"
   ]
  },
  {
   "cell_type": "code",
   "execution_count": 35,
   "id": "c5302f92",
   "metadata": {},
   "outputs": [
    {
     "data": {
      "text/latex": [
       "$\\displaystyle 5 a$"
      ],
      "text/plain": [
       "5*a"
      ]
     },
     "execution_count": 35,
     "metadata": {},
     "output_type": "execute_result"
    }
   ],
   "source": [
    "promedio(n_valor=2, l_valor=1)"
   ]
  },
  {
   "cell_type": "markdown",
   "id": "1953a6b5",
   "metadata": {},
   "source": [
    "## Vectores y matrices"
   ]
  },
  {
   "cell_type": "code",
   "execution_count": 36,
   "id": "bfa67f91",
   "metadata": {},
   "outputs": [],
   "source": [
    "x, y, z, u1, u2, u3, v1, v2, v3, t=smp.symbols('x y z u1 u2 u3 v1 v2 v3 t')"
   ]
  },
  {
   "cell_type": "code",
   "execution_count": 38,
   "id": "5e9b82fc",
   "metadata": {},
   "outputs": [
    {
     "data": {
      "text/latex": [
       "$\\displaystyle \\left[\\begin{matrix}u_{1}\\\\u_{2}\\\\u_{3}\\end{matrix}\\right]$"
      ],
      "text/plain": [
       "Matrix([\n",
       "[u1],\n",
       "[u2],\n",
       "[u3]])"
      ]
     },
     "execution_count": 38,
     "metadata": {},
     "output_type": "execute_result"
    }
   ],
   "source": [
    "u=smp.Matrix([u1, u2, u3])\n",
    "u"
   ]
  },
  {
   "cell_type": "code",
   "execution_count": 39,
   "id": "7c46fb27",
   "metadata": {},
   "outputs": [
    {
     "data": {
      "text/latex": [
       "$\\displaystyle \\left[\\begin{matrix}v_{1}\\\\v_{2}\\\\v_{3}\\end{matrix}\\right]$"
      ],
      "text/plain": [
       "Matrix([\n",
       "[v1],\n",
       "[v2],\n",
       "[v3]])"
      ]
     },
     "execution_count": 39,
     "metadata": {},
     "output_type": "execute_result"
    }
   ],
   "source": [
    "v=smp.Matrix([v1, v2, v3])\n",
    "v"
   ]
  },
  {
   "cell_type": "code",
   "execution_count": 41,
   "id": "03fd96d3",
   "metadata": {},
   "outputs": [
    {
     "data": {
      "text/latex": [
       "$\\displaystyle \\left[\\begin{matrix}6 u_{1} + v_{1}\\\\6 u_{2} + v_{2}\\\\6 u_{3} + v_{3}\\end{matrix}\\right]$"
      ],
      "text/plain": [
       "Matrix([\n",
       "[6*u1 + v1],\n",
       "[6*u2 + v2],\n",
       "[6*u3 + v3]])"
      ]
     },
     "execution_count": 41,
     "metadata": {},
     "output_type": "execute_result"
    }
   ],
   "source": [
    "#Suma\n",
    "u+v+5*u"
   ]
  },
  {
   "cell_type": "code",
   "execution_count": 42,
   "id": "79427c47",
   "metadata": {},
   "outputs": [
    {
     "data": {
      "text/latex": [
       "$\\displaystyle u_{1} v_{1} + u_{2} v_{2} + u_{3} v_{3}$"
      ],
      "text/plain": [
       "u1*v1 + u2*v2 + u3*v3"
      ]
     },
     "execution_count": 42,
     "metadata": {},
     "output_type": "execute_result"
    }
   ],
   "source": [
    "#Producto punto\n",
    "u.dot(v)"
   ]
  },
  {
   "cell_type": "code",
   "execution_count": 43,
   "id": "ab103380",
   "metadata": {},
   "outputs": [
    {
     "data": {
      "text/latex": [
       "$\\displaystyle \\left[\\begin{matrix}u_{2} v_{3} - u_{3} v_{2}\\\\- u_{1} v_{3} + u_{3} v_{1}\\\\u_{1} v_{2} - u_{2} v_{1}\\end{matrix}\\right]$"
      ],
      "text/plain": [
       "Matrix([\n",
       "[ u2*v3 - u3*v2],\n",
       "[-u1*v3 + u3*v1],\n",
       "[ u1*v2 - u2*v1]])"
      ]
     },
     "execution_count": 43,
     "metadata": {},
     "output_type": "execute_result"
    }
   ],
   "source": [
    "#Producto vectorial\n",
    "u.cross(v)"
   ]
  },
  {
   "cell_type": "code",
   "execution_count": 44,
   "id": "086cac4f",
   "metadata": {},
   "outputs": [
    {
     "data": {
      "text/latex": [
       "$\\displaystyle \\sqrt{\\left|{u_{1}}\\right|^{2} + \\left|{u_{2}}\\right|^{2} + \\left|{u_{3}}\\right|^{2}}$"
      ],
      "text/plain": [
       "sqrt(Abs(u1)**2 + Abs(u2)**2 + Abs(u3)**2)"
      ]
     },
     "execution_count": 44,
     "metadata": {},
     "output_type": "execute_result"
    }
   ],
   "source": [
    "#módulo\n",
    "u.norm()"
   ]
  },
  {
   "cell_type": "markdown",
   "id": "4cd5e7c3",
   "metadata": {},
   "source": [
    "Derivada de un vector"
   ]
  },
  {
   "cell_type": "code",
   "execution_count": 46,
   "id": "5597c576",
   "metadata": {},
   "outputs": [],
   "source": [
    "r=smp.Matrix([3*t, smp.sin(t), t**2])"
   ]
  },
  {
   "cell_type": "code",
   "execution_count": 47,
   "id": "0ecb8855",
   "metadata": {},
   "outputs": [
    {
     "data": {
      "text/latex": [
       "$\\displaystyle \\left[\\begin{matrix}3 t\\\\\\sin{\\left(t \\right)}\\\\t^{2}\\end{matrix}\\right]$"
      ],
      "text/plain": [
       "Matrix([\n",
       "[   3*t],\n",
       "[sin(t)],\n",
       "[  t**2]])"
      ]
     },
     "execution_count": 47,
     "metadata": {},
     "output_type": "execute_result"
    }
   ],
   "source": [
    "r"
   ]
  },
  {
   "cell_type": "code",
   "execution_count": 48,
   "id": "0f57ff24",
   "metadata": {},
   "outputs": [
    {
     "data": {
      "text/latex": [
       "$\\displaystyle \\left[\\begin{matrix}3\\\\\\cos{\\left(t \\right)}\\\\2 t\\end{matrix}\\right]$"
      ],
      "text/plain": [
       "Matrix([\n",
       "[     3],\n",
       "[cos(t)],\n",
       "[   2*t]])"
      ]
     },
     "execution_count": 48,
     "metadata": {},
     "output_type": "execute_result"
    }
   ],
   "source": [
    "smp.diff(r,t)"
   ]
  },
  {
   "cell_type": "markdown",
   "id": "5cef2532",
   "metadata": {},
   "source": [
    "Derivada de un vector"
   ]
  },
  {
   "cell_type": "code",
   "execution_count": 49,
   "id": "8bd7fa08",
   "metadata": {},
   "outputs": [],
   "source": [
    "r=smp.Matrix([smp.exp(t)*smp.cos(t), t**4, 1/(1+t**2)])"
   ]
  },
  {
   "cell_type": "code",
   "execution_count": 50,
   "id": "ce187937",
   "metadata": {},
   "outputs": [
    {
     "data": {
      "text/latex": [
       "$\\displaystyle \\left[\\begin{matrix}e^{t} \\cos{\\left(t \\right)}\\\\t^{4}\\\\\\frac{1}{t^{2} + 1}\\end{matrix}\\right]$"
      ],
      "text/plain": [
       "Matrix([\n",
       "[exp(t)*cos(t)],\n",
       "[         t**4],\n",
       "[ 1/(t**2 + 1)]])"
      ]
     },
     "execution_count": 50,
     "metadata": {},
     "output_type": "execute_result"
    }
   ],
   "source": [
    "r"
   ]
  },
  {
   "cell_type": "code",
   "execution_count": 53,
   "id": "20d118dd",
   "metadata": {},
   "outputs": [
    {
     "data": {
      "text/latex": [
       "$\\displaystyle \\left[\\begin{matrix}\\frac{e^{t} \\sin{\\left(t \\right)}}{2} + \\frac{e^{t} \\cos{\\left(t \\right)}}{2}\\\\\\frac{t^{5}}{5}\\\\\\operatorname{atan}{\\left(t \\right)}\\end{matrix}\\right]$"
      ],
      "text/plain": [
       "Matrix([\n",
       "[exp(t)*sin(t)/2 + exp(t)*cos(t)/2],\n",
       "[                           t**5/5],\n",
       "[                          atan(t)]])"
      ]
     },
     "execution_count": 53,
     "metadata": {},
     "output_type": "execute_result"
    }
   ],
   "source": [
    "smp.integrate(r)"
   ]
  },
  {
   "cell_type": "code",
   "execution_count": 51,
   "id": "e32e1e1a",
   "metadata": {},
   "outputs": [
    {
     "data": {
      "text/latex": [
       "$\\displaystyle \\int \\left[\\begin{matrix}e^{t} \\cos{\\left(t \\right)}\\\\t^{4}\\\\\\frac{1}{t^{2} + 1}\\end{matrix}\\right]\\, dt$"
      ],
      "text/plain": [
       "Integral(Matrix([\n",
       "[exp(t)*cos(t)],\n",
       "[         t**4],\n",
       "[ 1/(t**2 + 1)]]), t)"
      ]
     },
     "execution_count": 51,
     "metadata": {},
     "output_type": "execute_result"
    }
   ],
   "source": [
    "smp.Integral(r,t)"
   ]
  },
  {
   "cell_type": "code",
   "execution_count": 52,
   "id": "ba74344c",
   "metadata": {},
   "outputs": [
    {
     "data": {
      "text/latex": [
       "$\\displaystyle \\left[\\begin{matrix}\\frac{e^{t} \\sin{\\left(t \\right)}}{2} + \\frac{e^{t} \\cos{\\left(t \\right)}}{2}\\\\\\frac{t^{5}}{5}\\\\\\operatorname{atan}{\\left(t \\right)}\\end{matrix}\\right]$"
      ],
      "text/plain": [
       "Matrix([\n",
       "[exp(t)*sin(t)/2 + exp(t)*cos(t)/2],\n",
       "[                           t**5/5],\n",
       "[                          atan(t)]])"
      ]
     },
     "execution_count": 52,
     "metadata": {},
     "output_type": "execute_result"
    }
   ],
   "source": [
    "smp.Integral(r,t).doit()"
   ]
  },
  {
   "cell_type": "code",
   "execution_count": 54,
   "id": "40cccc47",
   "metadata": {},
   "outputs": [],
   "source": [
    "r=smp.Matrix([smp.exp(t**2)*smp.cos(t)**3, smp.exp(-t**4), 1/(3+t**2)])"
   ]
  },
  {
   "cell_type": "code",
   "execution_count": 55,
   "id": "2dcec030",
   "metadata": {},
   "outputs": [
    {
     "data": {
      "text/latex": [
       "$\\displaystyle \\left[\\begin{matrix}e^{t^{2}} \\cos^{3}{\\left(t \\right)}\\\\e^{- t^{4}}\\\\\\frac{1}{t^{2} + 3}\\end{matrix}\\right]$"
      ],
      "text/plain": [
       "Matrix([\n",
       "[exp(t**2)*cos(t)**3],\n",
       "[         exp(-t**4)],\n",
       "[       1/(t**2 + 3)]])"
      ]
     },
     "execution_count": 55,
     "metadata": {},
     "output_type": "execute_result"
    }
   ],
   "source": [
    "r"
   ]
  },
  {
   "cell_type": "code",
   "execution_count": 56,
   "id": "bca3da75",
   "metadata": {},
   "outputs": [
    {
     "data": {
      "text/latex": [
       "$\\displaystyle \\left[\\begin{matrix}\\int e^{t^{2}} \\cos^{3}{\\left(t \\right)}\\, dt\\\\\\frac{\\Gamma\\left(\\frac{1}{4}\\right) \\gamma\\left(\\frac{1}{4}, t^{4}\\right)}{16 \\Gamma\\left(\\frac{5}{4}\\right)}\\\\\\frac{\\sqrt{3} \\operatorname{atan}{\\left(\\frac{\\sqrt{3} t}{3} \\right)}}{3}\\end{matrix}\\right]$"
      ],
      "text/plain": [
       "Matrix([\n",
       "[                Integral(exp(t**2)*cos(t)**3, t)],\n",
       "[gamma(1/4)*lowergamma(1/4, t**4)/(16*gamma(5/4))],\n",
       "[                     sqrt(3)*atan(sqrt(3)*t/3)/3]])"
      ]
     },
     "execution_count": 56,
     "metadata": {},
     "output_type": "execute_result"
    }
   ],
   "source": [
    "smp.integrate(r)"
   ]
  },
  {
   "cell_type": "markdown",
   "id": "0e8febfb",
   "metadata": {},
   "source": [
    "Integración múltiple"
   ]
  },
  {
   "cell_type": "markdown",
   "id": "6e9ab17e",
   "metadata": {},
   "source": [
    "$$\\int_0^1 \\int_0^{1-x^2} \\int_3^{4-x^2-y^2} xdzdydx$$"
   ]
  },
  {
   "cell_type": "code",
   "execution_count": 57,
   "id": "c94199a9",
   "metadata": {},
   "outputs": [],
   "source": [
    "f=x"
   ]
  },
  {
   "cell_type": "code",
   "execution_count": 58,
   "id": "bf8eb185",
   "metadata": {},
   "outputs": [
    {
     "data": {
      "text/latex": [
       "$\\displaystyle \\frac{1}{8}$"
      ],
      "text/plain": [
       "1/8"
      ]
     },
     "execution_count": 58,
     "metadata": {},
     "output_type": "execute_result"
    }
   ],
   "source": [
    "smp.integrate(f,(z,3,4-x**2-y**2),(y,0,1-x**2),(x,0,1))"
   ]
  },
  {
   "cell_type": "code",
   "execution_count": null,
   "id": "ec7abd6d",
   "metadata": {},
   "outputs": [],
   "source": []
  }
 ],
 "metadata": {
  "kernelspec": {
   "display_name": "Python 3 (ipykernel)",
   "language": "python",
   "name": "python3"
  },
  "language_info": {
   "codemirror_mode": {
    "name": "ipython",
    "version": 3
   },
   "file_extension": ".py",
   "mimetype": "text/x-python",
   "name": "python",
   "nbconvert_exporter": "python",
   "pygments_lexer": "ipython3",
   "version": "3.9.7"
  }
 },
 "nbformat": 4,
 "nbformat_minor": 5
}
