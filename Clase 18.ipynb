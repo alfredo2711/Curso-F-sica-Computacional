{
 "cells": [
  {
   "cell_type": "markdown",
   "id": "1d77d2b5",
   "metadata": {},
   "source": [
    "## Sympy"
   ]
  },
  {
   "cell_type": "code",
   "execution_count": 2,
   "id": "6adb2f32",
   "metadata": {},
   "outputs": [],
   "source": [
    "import numpy as np\n",
    "import matplotlib.pyplot as plt\n",
    "import sympy as smp"
   ]
  },
  {
   "cell_type": "code",
   "execution_count": 3,
   "id": "e037c35b",
   "metadata": {},
   "outputs": [],
   "source": [
    "## Definición de símbolo"
   ]
  },
  {
   "cell_type": "code",
   "execution_count": 4,
   "id": "dd6e825d",
   "metadata": {},
   "outputs": [],
   "source": [
    "a=smp.symbols('a')"
   ]
  },
  {
   "cell_type": "code",
   "execution_count": 5,
   "id": "e1d501ee",
   "metadata": {},
   "outputs": [
    {
     "data": {
      "text/latex": [
       "$\\displaystyle a$"
      ],
      "text/plain": [
       "a"
      ]
     },
     "execution_count": 5,
     "metadata": {},
     "output_type": "execute_result"
    }
   ],
   "source": [
    "a"
   ]
  },
  {
   "cell_type": "code",
   "execution_count": 6,
   "id": "49a44933",
   "metadata": {},
   "outputs": [],
   "source": [
    "x=smp.symbols('x')"
   ]
  },
  {
   "cell_type": "code",
   "execution_count": 7,
   "id": "804a0331",
   "metadata": {},
   "outputs": [
    {
     "data": {
      "text/latex": [
       "$\\displaystyle x$"
      ],
      "text/plain": [
       "x"
      ]
     },
     "execution_count": 7,
     "metadata": {},
     "output_type": "execute_result"
    }
   ],
   "source": [
    "x"
   ]
  },
  {
   "cell_type": "code",
   "execution_count": 8,
   "id": "bb313353",
   "metadata": {},
   "outputs": [
    {
     "data": {
      "text/latex": [
       "$\\displaystyle \\pi$"
      ],
      "text/plain": [
       "pi"
      ]
     },
     "execution_count": 8,
     "metadata": {},
     "output_type": "execute_result"
    }
   ],
   "source": [
    "smp.pi"
   ]
  },
  {
   "cell_type": "code",
   "execution_count": 9,
   "id": "6b4f8281",
   "metadata": {},
   "outputs": [
    {
     "data": {
      "text/latex": [
       "$\\displaystyle e$"
      ],
      "text/plain": [
       "E"
      ]
     },
     "execution_count": 9,
     "metadata": {},
     "output_type": "execute_result"
    }
   ],
   "source": [
    "smp.E"
   ]
  },
  {
   "cell_type": "code",
   "execution_count": 10,
   "id": "727657d5",
   "metadata": {},
   "outputs": [
    {
     "data": {
      "text/latex": [
       "$\\displaystyle \\left(x + \\pi\\right)^{2}$"
      ],
      "text/plain": [
       "(x + pi)**2"
      ]
     },
     "execution_count": 10,
     "metadata": {},
     "output_type": "execute_result"
    }
   ],
   "source": [
    "(x+smp.pi)**2"
   ]
  },
  {
   "cell_type": "code",
   "execution_count": 13,
   "id": "3dbb737f",
   "metadata": {},
   "outputs": [],
   "source": [
    "z= x**2"
   ]
  },
  {
   "cell_type": "code",
   "execution_count": 14,
   "id": "bdb554a8",
   "metadata": {},
   "outputs": [
    {
     "data": {
      "text/latex": [
       "$\\displaystyle x^{2}$"
      ],
      "text/plain": [
       "x**2"
      ]
     },
     "execution_count": 14,
     "metadata": {},
     "output_type": "execute_result"
    }
   ],
   "source": [
    "z"
   ]
  },
  {
   "cell_type": "code",
   "execution_count": 15,
   "id": "4368d758",
   "metadata": {},
   "outputs": [
    {
     "data": {
      "text/latex": [
       "$\\displaystyle \\sin{\\left(x \\right)}$"
      ],
      "text/plain": [
       "sin(x)"
      ]
     },
     "execution_count": 15,
     "metadata": {},
     "output_type": "execute_result"
    }
   ],
   "source": [
    "smp.sin(x)"
   ]
  },
  {
   "cell_type": "code",
   "execution_count": null,
   "id": "1087490d",
   "metadata": {},
   "outputs": [],
   "source": [
    "smp."
   ]
  },
  {
   "cell_type": "code",
   "execution_count": 16,
   "id": "67b01ce2",
   "metadata": {},
   "outputs": [],
   "source": [
    "y=x**2 + 4*x + 3"
   ]
  },
  {
   "cell_type": "code",
   "execution_count": 17,
   "id": "a3cf2c6b",
   "metadata": {},
   "outputs": [
    {
     "data": {
      "text/latex": [
       "$\\displaystyle x^{2} + 4 x + 3$"
      ],
      "text/plain": [
       "x**2 + 4*x + 3"
      ]
     },
     "execution_count": 17,
     "metadata": {},
     "output_type": "execute_result"
    }
   ],
   "source": [
    "y"
   ]
  },
  {
   "cell_type": "code",
   "execution_count": 18,
   "id": "ccc2cb61",
   "metadata": {},
   "outputs": [],
   "source": [
    "z=y**2"
   ]
  },
  {
   "cell_type": "code",
   "execution_count": 20,
   "id": "66502728",
   "metadata": {},
   "outputs": [
    {
     "data": {
      "text/latex": [
       "$\\displaystyle \\left(x^{2} + 4 x + 3\\right)^{2}$"
      ],
      "text/plain": [
       "(x**2 + 4*x + 3)**2"
      ]
     },
     "execution_count": 20,
     "metadata": {},
     "output_type": "execute_result"
    }
   ],
   "source": [
    "z"
   ]
  },
  {
   "cell_type": "code",
   "execution_count": 21,
   "id": "f9342fb7",
   "metadata": {},
   "outputs": [
    {
     "data": {
      "text/latex": [
       "$\\displaystyle x^{4} + 8 x^{3} + 22 x^{2} + 24 x + 9$"
      ],
      "text/plain": [
       "x**4 + 8*x**3 + 22*x**2 + 24*x + 9"
      ]
     },
     "execution_count": 21,
     "metadata": {},
     "output_type": "execute_result"
    }
   ],
   "source": [
    "z.expand()"
   ]
  },
  {
   "cell_type": "code",
   "execution_count": 22,
   "id": "28ab2c07",
   "metadata": {},
   "outputs": [
    {
     "data": {
      "text/latex": [
       "$\\displaystyle \\left(x + 1\\right)^{2} \\left(x + 3\\right)^{2}$"
      ],
      "text/plain": [
       "(x + 1)**2*(x + 3)**2"
      ]
     },
     "execution_count": 22,
     "metadata": {},
     "output_type": "execute_result"
    }
   ],
   "source": [
    "z.factor()"
   ]
  },
  {
   "cell_type": "markdown",
   "id": "d3a48099",
   "metadata": {},
   "source": [
    "Para pasar de latex a python\n",
    "https://github.com/augustt198/latex2sympy"
   ]
  },
  {
   "cell_type": "code",
   "execution_count": 23,
   "id": "d6439f8e",
   "metadata": {},
   "outputs": [
    {
     "data": {
      "text/plain": [
       "[-3, -1]"
      ]
     },
     "execution_count": 23,
     "metadata": {},
     "output_type": "execute_result"
    }
   ],
   "source": [
    "smp.solve(z,x)"
   ]
  },
  {
   "cell_type": "code",
   "execution_count": 24,
   "id": "60f69259",
   "metadata": {},
   "outputs": [
    {
     "data": {
      "text/latex": [
       "$\\displaystyle 2 + 5 i$"
      ],
      "text/plain": [
       "2 + 5*I"
      ]
     },
     "execution_count": 24,
     "metadata": {},
     "output_type": "execute_result"
    }
   ],
   "source": [
    "#números imaginarios\n",
    "2+5*smp.I"
   ]
  },
  {
   "cell_type": "markdown",
   "id": "a824f3c4",
   "metadata": {},
   "source": [
    "Si tenemos\n",
    "$x^{2}+1$"
   ]
  },
  {
   "cell_type": "code",
   "execution_count": 25,
   "id": "c7c5e6cd",
   "metadata": {},
   "outputs": [],
   "source": [
    "z=x**2+1"
   ]
  },
  {
   "cell_type": "code",
   "execution_count": 26,
   "id": "ac477d5a",
   "metadata": {},
   "outputs": [
    {
     "data": {
      "text/plain": [
       "[-I, I]"
      ]
     },
     "execution_count": 26,
     "metadata": {},
     "output_type": "execute_result"
    }
   ],
   "source": [
    "smp.solve(z,x)"
   ]
  },
  {
   "cell_type": "code",
   "execution_count": 27,
   "id": "bd7c410a",
   "metadata": {},
   "outputs": [],
   "source": [
    "x=smp.symbols('x',real=True, positive=True)"
   ]
  },
  {
   "cell_type": "code",
   "execution_count": 28,
   "id": "4aa91f49",
   "metadata": {},
   "outputs": [],
   "source": [
    "z=x**2+1"
   ]
  },
  {
   "cell_type": "code",
   "execution_count": 29,
   "id": "c9a527cf",
   "metadata": {},
   "outputs": [
    {
     "data": {
      "text/plain": [
       "[]"
      ]
     },
     "execution_count": 29,
     "metadata": {},
     "output_type": "execute_result"
    }
   ],
   "source": [
    "smp.solve(z,x)"
   ]
  },
  {
   "cell_type": "markdown",
   "id": "d0545e05",
   "metadata": {},
   "source": [
    "## Funciones de varias variables"
   ]
  },
  {
   "cell_type": "code",
   "execution_count": 30,
   "id": "2a60c979",
   "metadata": {},
   "outputs": [],
   "source": [
    "x, y, z=smp.symbols('x y z')"
   ]
  },
  {
   "cell_type": "code",
   "execution_count": 31,
   "id": "d2a346c2",
   "metadata": {},
   "outputs": [],
   "source": [
    "F=x**2+smp.sin(z)*y"
   ]
  },
  {
   "cell_type": "code",
   "execution_count": 32,
   "id": "e94282c6",
   "metadata": {},
   "outputs": [
    {
     "data": {
      "text/latex": [
       "$\\displaystyle x^{2} + y \\sin{\\left(z \\right)}$"
      ],
      "text/plain": [
       "x**2 + y*sin(z)"
      ]
     },
     "execution_count": 32,
     "metadata": {},
     "output_type": "execute_result"
    }
   ],
   "source": [
    "F"
   ]
  },
  {
   "cell_type": "code",
   "execution_count": 33,
   "id": "0fd882db",
   "metadata": {},
   "outputs": [],
   "source": [
    "x_solución=smp.solve(F,x)"
   ]
  },
  {
   "cell_type": "code",
   "execution_count": 36,
   "id": "c851cedd",
   "metadata": {},
   "outputs": [
    {
     "data": {
      "text/plain": [
       "[-sqrt(-y*sin(z)), sqrt(-y*sin(z))]"
      ]
     },
     "execution_count": 36,
     "metadata": {},
     "output_type": "execute_result"
    }
   ],
   "source": [
    "x_solución"
   ]
  },
  {
   "cell_type": "code",
   "execution_count": 37,
   "id": "4820d680",
   "metadata": {},
   "outputs": [
    {
     "data": {
      "text/latex": [
       "$\\displaystyle - \\sqrt{- y \\sin{\\left(z \\right)}}$"
      ],
      "text/plain": [
       "-sqrt(-y*sin(z))"
      ]
     },
     "execution_count": 37,
     "metadata": {},
     "output_type": "execute_result"
    }
   ],
   "source": [
    "x_solución[0]"
   ]
  },
  {
   "cell_type": "code",
   "execution_count": 38,
   "id": "94ace036",
   "metadata": {},
   "outputs": [
    {
     "data": {
      "text/latex": [
       "$\\displaystyle \\sqrt{- y \\sin{\\left(z \\right)}}$"
      ],
      "text/plain": [
       "sqrt(-y*sin(z))"
      ]
     },
     "execution_count": 38,
     "metadata": {},
     "output_type": "execute_result"
    }
   ],
   "source": [
    "x_solución[1]"
   ]
  },
  {
   "cell_type": "code",
   "execution_count": 39,
   "id": "979b7039",
   "metadata": {},
   "outputs": [],
   "source": [
    "y_solución=smp.solve(F,y)"
   ]
  },
  {
   "cell_type": "code",
   "execution_count": 41,
   "id": "17036070",
   "metadata": {},
   "outputs": [
    {
     "data": {
      "text/plain": [
       "[-x**2/sin(z)]"
      ]
     },
     "execution_count": 41,
     "metadata": {},
     "output_type": "execute_result"
    }
   ],
   "source": [
    "y_solución"
   ]
  },
  {
   "cell_type": "code",
   "execution_count": 42,
   "id": "7a44b297",
   "metadata": {},
   "outputs": [],
   "source": [
    "z_solución=smp.solve(F,z)"
   ]
  },
  {
   "cell_type": "code",
   "execution_count": 43,
   "id": "4b40f315",
   "metadata": {},
   "outputs": [
    {
     "data": {
      "text/plain": [
       "[asin(x**2/y) + pi, -asin(x**2/y)]"
      ]
     },
     "execution_count": 43,
     "metadata": {},
     "output_type": "execute_result"
    }
   ],
   "source": [
    "z_solución"
   ]
  },
  {
   "cell_type": "code",
   "execution_count": 46,
   "id": "f1c783e9",
   "metadata": {},
   "outputs": [
    {
     "data": {
      "text/latex": [
       "$\\displaystyle \\operatorname{asin}{\\left(\\frac{x^{2}}{y} \\right)} + \\pi$"
      ],
      "text/plain": [
       "asin(x**2/y) + pi"
      ]
     },
     "execution_count": 46,
     "metadata": {},
     "output_type": "execute_result"
    }
   ],
   "source": [
    "z_solución[0]"
   ]
  },
  {
   "cell_type": "code",
   "execution_count": 47,
   "id": "c67fd041",
   "metadata": {},
   "outputs": [
    {
     "data": {
      "text/latex": [
       "$\\displaystyle - \\operatorname{asin}{\\left(\\frac{x^{2}}{y} \\right)}$"
      ],
      "text/plain": [
       "-asin(x**2/y)"
      ]
     },
     "execution_count": 47,
     "metadata": {},
     "output_type": "execute_result"
    }
   ],
   "source": [
    "z_solución[1]"
   ]
  },
  {
   "cell_type": "markdown",
   "id": "bca20ee4",
   "metadata": {},
   "source": [
    "## Graficar una función"
   ]
  },
  {
   "cell_type": "code",
   "execution_count": 48,
   "id": "e4e0e88c",
   "metadata": {},
   "outputs": [
    {
     "data": {
      "text/latex": [
       "$\\displaystyle \\operatorname{asin}{\\left(\\frac{x^{2}}{y} \\right)} + \\pi$"
      ],
      "text/plain": [
       "asin(x**2/y) + pi"
      ]
     },
     "execution_count": 48,
     "metadata": {},
     "output_type": "execute_result"
    }
   ],
   "source": [
    "z_solución[0]"
   ]
  },
  {
   "cell_type": "code",
   "execution_count": 49,
   "id": "bb739730",
   "metadata": {},
   "outputs": [],
   "source": [
    "#Graficar la función anterior en función de x para una y constante de y=3"
   ]
  },
  {
   "cell_type": "code",
   "execution_count": 50,
   "id": "42ae1fc7",
   "metadata": {},
   "outputs": [],
   "source": [
    "f=z_solución[0]"
   ]
  },
  {
   "cell_type": "code",
   "execution_count": 51,
   "id": "c3ffb9a2",
   "metadata": {},
   "outputs": [
    {
     "data": {
      "text/latex": [
       "$\\displaystyle \\operatorname{asin}{\\left(\\frac{x^{2}}{y} \\right)} + \\pi$"
      ],
      "text/plain": [
       "asin(x**2/y) + pi"
      ]
     },
     "execution_count": 51,
     "metadata": {},
     "output_type": "execute_result"
    }
   ],
   "source": [
    "f"
   ]
  },
  {
   "cell_type": "code",
   "execution_count": 52,
   "id": "6aae2788",
   "metadata": {},
   "outputs": [],
   "source": [
    "f_evaluada=smp.lambdify([x,y],f)"
   ]
  },
  {
   "cell_type": "code",
   "execution_count": 54,
   "id": "4db4b2f3",
   "metadata": {},
   "outputs": [
    {
     "data": {
      "text/plain": [
       "3.481429563043915"
      ]
     },
     "execution_count": 54,
     "metadata": {},
     "output_type": "execute_result"
    }
   ],
   "source": [
    "f_evaluada(1,3)"
   ]
  },
  {
   "cell_type": "code",
   "execution_count": 57,
   "id": "cce7b1dc",
   "metadata": {},
   "outputs": [],
   "source": [
    "x_numérica=np.linspace(0,1,100)\n",
    "y_numérica=3"
   ]
  },
  {
   "cell_type": "code",
   "execution_count": 58,
   "id": "acf6db61",
   "metadata": {},
   "outputs": [
    {
     "data": {
      "text/plain": [
       "[<matplotlib.lines.Line2D at 0x24224b17d30>]"
      ]
     },
     "execution_count": 58,
     "metadata": {},
     "output_type": "execute_result"
    },
    {
     "data": {
      "image/png": "[encoded data removed]",
      "text/plain": [
       "<Figure size 432x288 with 1 Axes>"
      ]
     },
     "metadata": {
      "needs_background": "light"
     },
     "output_type": "display_data"
    }
   ],
   "source": [
    "plt.plot(x_numérica, f_evaluada(x_numérica, y_numérica))"
   ]
  },
  {
   "cell_type": "code",
   "execution_count": 60,
   "id": "35759698",
   "metadata": {},
   "outputs": [
    {
     "data": {
      "text/latex": [
       "$\\displaystyle x^{2} + y \\sin{\\left(z \\right)}$"
      ],
      "text/plain": [
       "x**2 + y*sin(z)"
      ]
     },
     "execution_count": 60,
     "metadata": {},
     "output_type": "execute_result"
    }
   ],
   "source": [
    "F"
   ]
  },
  {
   "cell_type": "code",
   "execution_count": 63,
   "id": "8bc0b8c6",
   "metadata": {},
   "outputs": [
    {
     "data": {
      "text/latex": [
       "$\\displaystyle x^{2} + \\sin{\\left(y \\right)} \\cos{\\left(y \\right)}$"
      ],
      "text/plain": [
       "x**2 + sin(y)*cos(y)"
      ]
     },
     "execution_count": 63,
     "metadata": {},
     "output_type": "execute_result"
    }
   ],
   "source": [
    "#Sustituir variables\n",
    "F.subs([(y,smp.cos(z)),(z,y)])"
   ]
  },
  {
   "cell_type": "markdown",
   "id": "31044279",
   "metadata": {},
   "source": [
    "## Cálculo"
   ]
  },
  {
   "cell_type": "markdown",
   "id": "52cf84e9",
   "metadata": {},
   "source": [
    "## Derivada"
   ]
  },
  {
   "cell_type": "code",
   "execution_count": 64,
   "id": "fb3203a4",
   "metadata": {},
   "outputs": [],
   "source": [
    "#Derivaremos la función sin(x)"
   ]
  },
  {
   "cell_type": "code",
   "execution_count": 65,
   "id": "0d52ac86",
   "metadata": {},
   "outputs": [
    {
     "data": {
      "text/latex": [
       "$\\displaystyle \\cos{\\left(x \\right)}$"
      ],
      "text/plain": [
       "cos(x)"
      ]
     },
     "execution_count": 65,
     "metadata": {},
     "output_type": "execute_result"
    }
   ],
   "source": [
    "smp.diff(smp.sin(x),x)"
   ]
  },
  {
   "cell_type": "markdown",
   "id": "3a7b9028",
   "metadata": {},
   "source": [
    "$$ \\frac{d}{dx} \\left( \\frac{1+\\sin x}{1 - \\cos x} \\right)^2 $$"
   ]
  },
  {
   "cell_type": "code",
   "execution_count": 67,
   "id": "0a771c07",
   "metadata": {},
   "outputs": [
    {
     "data": {
      "text/latex": [
       "$\\displaystyle \\frac{2 \\left(\\sin{\\left(x \\right)} + 1\\right) \\cos{\\left(x \\right)}}{\\left(1 - \\cos{\\left(x \\right)}\\right)^{2}} - \\frac{2 \\left(\\sin{\\left(x \\right)} + 1\\right)^{2} \\sin{\\left(x \\right)}}{\\left(1 - \\cos{\\left(x \\right)}\\right)^{3}}$"
      ],
      "text/plain": [
       "2*(sin(x) + 1)*cos(x)/(1 - cos(x))**2 - 2*(sin(x) + 1)**2*sin(x)/(1 - cos(x))**3"
      ]
     },
     "execution_count": 67,
     "metadata": {},
     "output_type": "execute_result"
    }
   ],
   "source": [
    "smp.diff(((1+smp.sin(x))/(1-smp.cos(x)))**2,x)"
   ]
  },
  {
   "cell_type": "markdown",
   "id": "5af63fc4",
   "metadata": {},
   "source": [
    "Encontrar $\\partial f / \\partial x$ y $\\partial f / \\partial y$  de $f(x,y)=y^2\\sin(x+y)$"
   ]
  },
  {
   "cell_type": "code",
   "execution_count": 68,
   "id": "e324963a",
   "metadata": {},
   "outputs": [],
   "source": [
    "f=y**2*smp.sin(x+y)"
   ]
  },
  {
   "cell_type": "code",
   "execution_count": 69,
   "id": "a6835150",
   "metadata": {},
   "outputs": [
    {
     "data": {
      "text/latex": [
       "$\\displaystyle y^{2} \\cos{\\left(x + y \\right)}$"
      ],
      "text/plain": [
       "y**2*cos(x + y)"
      ]
     },
     "execution_count": 69,
     "metadata": {},
     "output_type": "execute_result"
    }
   ],
   "source": [
    "smp.diff(f,x)"
   ]
  },
  {
   "cell_type": "code",
   "execution_count": 70,
   "id": "acf450f0",
   "metadata": {},
   "outputs": [
    {
     "data": {
      "text/latex": [
       "$\\displaystyle y^{2} \\cos{\\left(x + y \\right)} + 2 y \\sin{\\left(x + y \\right)}$"
      ],
      "text/plain": [
       "y**2*cos(x + y) + 2*y*sin(x + y)"
      ]
     },
     "execution_count": 70,
     "metadata": {},
     "output_type": "execute_result"
    }
   ],
   "source": [
    "smp.diff(f,y)"
   ]
  },
  {
   "cell_type": "markdown",
   "id": "cc0152d7",
   "metadata": {},
   "source": [
    "$\\frac{\\partial^3 f}{\\partial x\\partial y^2}$"
   ]
  },
  {
   "cell_type": "code",
   "execution_count": 71,
   "id": "5351fe21",
   "metadata": {},
   "outputs": [
    {
     "data": {
      "text/latex": [
       "$\\displaystyle - y^{2} \\cos{\\left(x + y \\right)} - 4 y \\sin{\\left(x + y \\right)} + 2 \\cos{\\left(x + y \\right)}$"
      ],
      "text/plain": [
       "-y**2*cos(x + y) - 4*y*sin(x + y) + 2*cos(x + y)"
      ]
     },
     "execution_count": 71,
     "metadata": {},
     "output_type": "execute_result"
    }
   ],
   "source": [
    "smp.diff(f,y,y,x)"
   ]
  },
  {
   "cell_type": "markdown",
   "id": "34d901a4",
   "metadata": {},
   "source": [
    "Derivar $$\\frac{d}{dx} f(x+g(x)) $$"
   ]
  },
  {
   "cell_type": "code",
   "execution_count": 72,
   "id": "35729c34",
   "metadata": {},
   "outputs": [],
   "source": [
    "f,g =smp.symbols('f g', cls=smp.Function)"
   ]
  },
  {
   "cell_type": "code",
   "execution_count": 73,
   "id": "a5792a87",
   "metadata": {},
   "outputs": [
    {
     "data": {
      "text/plain": [
       "f"
      ]
     },
     "execution_count": 73,
     "metadata": {},
     "output_type": "execute_result"
    }
   ],
   "source": [
    "f"
   ]
  },
  {
   "cell_type": "code",
   "execution_count": 74,
   "id": "e3990dab",
   "metadata": {},
   "outputs": [
    {
     "data": {
      "text/plain": [
       "g"
      ]
     },
     "execution_count": 74,
     "metadata": {},
     "output_type": "execute_result"
    }
   ],
   "source": [
    "g"
   ]
  },
  {
   "cell_type": "code",
   "execution_count": 79,
   "id": "36b11a11",
   "metadata": {},
   "outputs": [],
   "source": [
    "g=g(x)"
   ]
  },
  {
   "cell_type": "code",
   "execution_count": 80,
   "id": "8d40f0b7",
   "metadata": {},
   "outputs": [],
   "source": [
    "f=f(x+g)"
   ]
  },
  {
   "cell_type": "code",
   "execution_count": 81,
   "id": "d2cc474e",
   "metadata": {},
   "outputs": [
    {
     "data": {
      "text/latex": [
       "$\\displaystyle g{\\left(x \\right)}$"
      ],
      "text/plain": [
       "g(x)"
      ]
     },
     "execution_count": 81,
     "metadata": {},
     "output_type": "execute_result"
    }
   ],
   "source": [
    "g"
   ]
  },
  {
   "cell_type": "code",
   "execution_count": 82,
   "id": "b1470055",
   "metadata": {},
   "outputs": [
    {
     "data": {
      "text/latex": [
       "$\\displaystyle f{\\left(x + g{\\left(x \\right)} \\right)}$"
      ],
      "text/plain": [
       "f(x + g(x))"
      ]
     },
     "execution_count": 82,
     "metadata": {},
     "output_type": "execute_result"
    }
   ],
   "source": [
    "f"
   ]
  },
  {
   "cell_type": "code",
   "execution_count": 84,
   "id": "d851d2c1",
   "metadata": {},
   "outputs": [],
   "source": [
    "dfdx=smp.diff(f,x)"
   ]
  },
  {
   "cell_type": "code",
   "execution_count": 85,
   "id": "f597079a",
   "metadata": {},
   "outputs": [
    {
     "data": {
      "text/latex": [
       "$\\displaystyle \\left(\\frac{d}{d x} g{\\left(x \\right)} + 1\\right) \\left. \\frac{d}{d \\xi_{1}} f{\\left(\\xi_{1} \\right)} \\right|_{\\substack{ \\xi_{1}=x + g{\\left(x \\right)} }}$"
      ],
      "text/plain": [
       "(Derivative(g(x), x) + 1)*Subs(Derivative(f(_xi_1), _xi_1), _xi_1, x + g(x))"
      ]
     },
     "execution_count": 85,
     "metadata": {},
     "output_type": "execute_result"
    }
   ],
   "source": [
    "dfdx"
   ]
  },
  {
   "cell_type": "code",
   "execution_count": 86,
   "id": "69c8c436",
   "metadata": {},
   "outputs": [
    {
     "data": {
      "text/latex": [
       "$\\displaystyle \\left(\\frac{d}{d x} \\sin{\\left(x \\right)} + 1\\right) \\left. \\frac{d}{d \\xi_{1}} f{\\left(\\xi_{1} \\right)} \\right|_{\\substack{ \\xi_{1}=x + \\sin{\\left(x \\right)} }}$"
      ],
      "text/plain": [
       "(Derivative(sin(x), x) + 1)*Subs(Derivative(f(_xi_1), _xi_1), _xi_1, x + sin(x))"
      ]
     },
     "execution_count": 86,
     "metadata": {},
     "output_type": "execute_result"
    }
   ],
   "source": [
    "dfdx.subs([(g, smp.sin(x))])"
   ]
  },
  {
   "cell_type": "code",
   "execution_count": 88,
   "id": "9ecced35",
   "metadata": {},
   "outputs": [
    {
     "data": {
      "text/latex": [
       "$\\displaystyle \\left(\\cos{\\left(x \\right)} + 1\\right) \\left. \\frac{d}{d \\xi_{1}} f{\\left(\\xi_{1} \\right)} \\right|_{\\substack{ \\xi_{1}=x + \\sin{\\left(x \\right)} }}$"
      ],
      "text/plain": [
       "(cos(x) + 1)*Subs(Derivative(f(_xi_1), _xi_1), _xi_1, x + sin(x))"
      ]
     },
     "execution_count": 88,
     "metadata": {},
     "output_type": "execute_result"
    }
   ],
   "source": [
    "dfdx.subs([(g, smp.sin(x))]).doit()"
   ]
  },
  {
   "cell_type": "markdown",
   "id": "b0ef09cf",
   "metadata": {},
   "source": [
    "### Límite"
   ]
  },
  {
   "cell_type": "markdown",
   "id": "530a8a00",
   "metadata": {},
   "source": [
    "$$\\lim_{x \\to \\pi} \\sin(x/2+ \\sin(x))$$"
   ]
  },
  {
   "cell_type": "code",
   "execution_count": 90,
   "id": "f73c93b2",
   "metadata": {},
   "outputs": [
    {
     "data": {
      "text/latex": [
       "$\\displaystyle 1$"
      ],
      "text/plain": [
       "1"
      ]
     },
     "execution_count": 90,
     "metadata": {},
     "output_type": "execute_result"
    }
   ],
   "source": [
    "smp.limit(smp.sin(x/2 + smp.sin(x)),x, smp.pi)"
   ]
  },
  {
   "cell_type": "markdown",
   "id": "bb08ec3e",
   "metadata": {},
   "source": [
    "## Integrales"
   ]
  },
  {
   "cell_type": "markdown",
   "id": "1aed2ce0",
   "metadata": {},
   "source": [
    "Integrales indefinidas"
   ]
  },
  {
   "cell_type": "markdown",
   "id": "f02906a1",
   "metadata": {},
   "source": [
    "$$ \\int \\csc(x) \\cot (x)  dx $$"
   ]
  },
  {
   "cell_type": "code",
   "execution_count": 92,
   "id": "391116da",
   "metadata": {},
   "outputs": [
    {
     "data": {
      "text/latex": [
       "$\\displaystyle - \\frac{1}{\\sin{\\left(x \\right)}}$"
      ],
      "text/plain": [
       "-1/sin(x)"
      ]
     },
     "execution_count": 92,
     "metadata": {},
     "output_type": "execute_result"
    }
   ],
   "source": [
    "smp.integrate(smp.csc(x)*smp.cot(x),x)"
   ]
  },
  {
   "cell_type": "code",
   "execution_count": 93,
   "id": "982150bc",
   "metadata": {},
   "outputs": [],
   "source": [
    "# Se debe considerar que se suma una constante + C"
   ]
  },
  {
   "cell_type": "markdown",
   "id": "fb933cde",
   "metadata": {},
   "source": [
    "Integrales definidas"
   ]
  },
  {
   "cell_type": "markdown",
   "id": "d911a284",
   "metadata": {},
   "source": [
    "$$\\int_{0}^{\\ln(4)}\\frac{e^x dt}{\\sqrt{e^{2x}+9}} $$"
   ]
  },
  {
   "cell_type": "code",
   "execution_count": 96,
   "id": "34b9edd5",
   "metadata": {},
   "outputs": [
    {
     "data": {
      "text/latex": [
       "$\\displaystyle - \\operatorname{asinh}{\\left(\\frac{1}{3} \\right)} + \\operatorname{asinh}{\\left(\\frac{4}{3} \\right)}$"
      ],
      "text/plain": [
       "-asinh(1/3) + asinh(4/3)"
      ]
     },
     "execution_count": 96,
     "metadata": {},
     "output_type": "execute_result"
    }
   ],
   "source": [
    "smp.integrate(smp.exp(x)/smp.sqrt(smp.exp(2*x)+9),(x,0,smp.log(4)))"
   ]
  },
  {
   "cell_type": "markdown",
   "id": "a8c36e82",
   "metadata": {},
   "source": [
    "Integral definida con límites variables"
   ]
  },
  {
   "cell_type": "markdown",
   "id": "4bc8fb83",
   "metadata": {},
   "source": [
    "$$\\int_1^t x^{10} e^x dx $$"
   ]
  },
  {
   "cell_type": "code",
   "execution_count": 97,
   "id": "954442ea",
   "metadata": {},
   "outputs": [],
   "source": [
    "t=smp.symbols('t')"
   ]
  },
  {
   "cell_type": "code",
   "execution_count": 98,
   "id": "ce16baea",
   "metadata": {},
   "outputs": [
    {
     "data": {
      "text/latex": [
       "$\\displaystyle \\left(t^{10} - 10 t^{9} + 90 t^{8} - 720 t^{7} + 5040 t^{6} - 30240 t^{5} + 151200 t^{4} - 604800 t^{3} + 1814400 t^{2} - 3628800 t + 3628800\\right) e^{t} - 1334961 e$"
      ],
      "text/plain": [
       "(t**10 - 10*t**9 + 90*t**8 - 720*t**7 + 5040*t**6 - 30240*t**5 + 151200*t**4 - 604800*t**3 + 1814400*t**2 - 3628800*t + 3628800)*exp(t) - 1334961*E"
      ]
     },
     "execution_count": 98,
     "metadata": {},
     "output_type": "execute_result"
    }
   ],
   "source": [
    "smp.integrate(x**10*smp.exp(x),(x,1,t))"
   ]
  },
  {
   "cell_type": "markdown",
   "id": "8231ab73",
   "metadata": {},
   "source": [
    "## Ejemplo"
   ]
  },
  {
   "cell_type": "markdown",
   "id": "93224b2c",
   "metadata": {},
   "source": [
    "La función de onda del átomo de hidrógeno\n",
    "\n",
    "$$\\psi_{nlm} = R_{nl}(r)Y_l^m(\\theta, \\phi) $$"
   ]
  },
  {
   "cell_type": "markdown",
   "id": "c5fc4c12",
   "metadata": {},
   "source": [
    "La distancia media entre núcleo y el electrón:\n",
    "\n",
    "$$\\left<r\\right> = \\int R_{nl}^2 r^3 dr$$"
   ]
  },
  {
   "cell_type": "markdown",
   "id": "51a4a34f",
   "metadata": {},
   "source": [
    "$$R_{nl}(r) =  \\sqrt{\\left(\\frac{2}{na}\\right)^3 \\frac{(n-l-1)!}{2n[(n+1)!]}} e^{-r/na} \\left(\\frac{2r}{na}\\right)^l \\left[L_{n-l-1}^{2l+1}(2r/na)\\right]$$"
   ]
  },
  {
   "cell_type": "markdown",
   "id": "22bec652",
   "metadata": {},
   "source": [
    "Cuál sería el valor de $<r>$ para el estado base $\\psi_{100}$"
   ]
  },
  {
   "cell_type": "markdown",
   "id": "1a882eae",
   "metadata": {},
   "source": [
    "Cuál sería el valor de $<r>$ para el estado $\\psi_{200}$ y $\\psi_{210}$"
   ]
  },
  {
   "cell_type": "code",
   "execution_count": 99,
   "id": "93adad76",
   "metadata": {},
   "outputs": [],
   "source": [
    "from sympy import assoc_laguerre"
   ]
  },
  {
   "cell_type": "code",
   "execution_count": 1,
   "id": "ad78bec1",
   "metadata": {},
   "outputs": [
    {
     "ename": "NameError",
     "evalue": "name 'smp' is not defined",
     "output_type": "error",
     "traceback": [
      "\u001b[1;31m---------------------------------------------------------------------------\u001b[0m",
      "\u001b[1;31mNameError\u001b[0m                                 Traceback (most recent call last)",
      "\u001b[1;32m~\\AppData\\Local\\Temp/ipykernel_6320/1032921489.py\u001b[0m in \u001b[0;36m<module>\u001b[1;34m\u001b[0m\n\u001b[1;32m----> 1\u001b[1;33m \u001b[0mr\u001b[0m\u001b[1;33m,\u001b[0m \u001b[0ma\u001b[0m\u001b[1;33m,\u001b[0m \u001b[0mn\u001b[0m\u001b[1;33m,\u001b[0m \u001b[0ml\u001b[0m\u001b[1;33m=\u001b[0m\u001b[0msmp\u001b[0m\u001b[1;33m.\u001b[0m\u001b[0msymbols\u001b[0m\u001b[1;33m(\u001b[0m\u001b[1;34m'r a n l'\u001b[0m\u001b[1;33m,\u001b[0m\u001b[0mreal\u001b[0m\u001b[1;33m=\u001b[0m\u001b[1;32mTrue\u001b[0m\u001b[1;33m,\u001b[0m \u001b[0mpositive\u001b[0m\u001b[1;33m=\u001b[0m\u001b[1;32mTrue\u001b[0m\u001b[1;33m)\u001b[0m\u001b[1;33m\u001b[0m\u001b[1;33m\u001b[0m\u001b[0m\n\u001b[0m",
      "\u001b[1;31mNameError\u001b[0m: name 'smp' is not defined"
     ]
    }
   ],
   "source": [
    "r, a, n, l=smp.symbols('r a n l',real=True, positive=True)"
   ]
  },
  {
   "cell_type": "code",
   "execution_count": null,
   "id": "7684e907",
   "metadata": {},
   "outputs": [],
   "source": []
  }
 ],
 "metadata": {
  "kernelspec": {
   "display_name": "Python 3 (ipykernel)",
   "language": "python",
   "name": "python3"
  },
  "language_info": {
   "codemirror_mode": {
    "name": "ipython",
    "version": 3
   },
   "file_extension": ".py",
   "mimetype": "text/x-python",
   "name": "python",
   "nbconvert_exporter": "python",
   "pygments_lexer": "ipython3",
   "version": "3.9.7"
  }
 },
 "nbformat": 4,
 "nbformat_minor": 5
}
